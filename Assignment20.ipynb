{
 "cells": [
  {
   "cell_type": "markdown",
   "metadata": {},
   "source": [
    "## Assignment 20: The goal of this assignment was to reshape and join data in R. Below are the steps I followed to complete the assignment."
   ]
  },
  {
   "cell_type": "markdown",
   "metadata": {},
   "source": [
    "### 1. Create a “wide” dataset and turn it to a “long” dataset."
   ]
  },
  {
   "cell_type": "code",
   "execution_count": 13,
   "metadata": {},
   "outputs": [
    {
     "data": {
      "text/html": [
       "<table>\n",
       "<thead><tr><th scope=col>time</th><th scope=col>Jake</th><th scope=col>Ryan</th><th scope=col>Elijah</th></tr></thead>\n",
       "<tbody>\n",
       "\t<tr><td>2009-01-01</td><td>92.77184  </td><td>88.64030  </td><td>94.64437  </td></tr>\n",
       "\t<tr><td>2009-01-02</td><td>94.41316  </td><td>88.13829  </td><td>94.61101  </td></tr>\n",
       "\t<tr><td>2009-01-03</td><td>95.46862  </td><td>93.02045  </td><td>90.53657  </td></tr>\n",
       "\t<tr><td>2009-01-04</td><td>96.21247  </td><td>80.33129  </td><td>90.56713  </td></tr>\n",
       "\t<tr><td>2009-01-05</td><td>94.14681  </td><td>92.06069  </td><td>91.41750  </td></tr>\n",
       "\t<tr><td>2009-01-06</td><td>94.70899  </td><td>95.10218  </td><td>95.45096  </td></tr>\n",
       "\t<tr><td>2009-01-07</td><td>94.17983  </td><td>81.41120  </td><td>93.78913  </td></tr>\n",
       "\t<tr><td>2009-01-08</td><td>94.60296  </td><td>85.57313  </td><td>91.64874  </td></tr>\n",
       "\t<tr><td>2009-01-09</td><td>96.57046  </td><td>88.99817  </td><td>95.81065  </td></tr>\n",
       "\t<tr><td>2009-01-10</td><td>92.53229  </td><td>85.15884  </td><td>94.72742  </td></tr>\n",
       "</tbody>\n",
       "</table>\n"
      ],
      "text/latex": [
       "\\begin{tabular}{r|llll}\n",
       " time & Jake & Ryan & Elijah\\\\\n",
       "\\hline\n",
       "\t 2009-01-01 & 92.77184   & 88.64030   & 94.64437  \\\\\n",
       "\t 2009-01-02 & 94.41316   & 88.13829   & 94.61101  \\\\\n",
       "\t 2009-01-03 & 95.46862   & 93.02045   & 90.53657  \\\\\n",
       "\t 2009-01-04 & 96.21247   & 80.33129   & 90.56713  \\\\\n",
       "\t 2009-01-05 & 94.14681   & 92.06069   & 91.41750  \\\\\n",
       "\t 2009-01-06 & 94.70899   & 95.10218   & 95.45096  \\\\\n",
       "\t 2009-01-07 & 94.17983   & 81.41120   & 93.78913  \\\\\n",
       "\t 2009-01-08 & 94.60296   & 85.57313   & 91.64874  \\\\\n",
       "\t 2009-01-09 & 96.57046   & 88.99817   & 95.81065  \\\\\n",
       "\t 2009-01-10 & 92.53229   & 85.15884   & 94.72742  \\\\\n",
       "\\end{tabular}\n"
      ],
      "text/markdown": [
       "\n",
       "time | Jake | Ryan | Elijah | \n",
       "|---|---|---|---|---|---|---|---|---|---|\n",
       "| 2009-01-01 | 92.77184   | 88.64030   | 94.64437   | \n",
       "| 2009-01-02 | 94.41316   | 88.13829   | 94.61101   | \n",
       "| 2009-01-03 | 95.46862   | 93.02045   | 90.53657   | \n",
       "| 2009-01-04 | 96.21247   | 80.33129   | 90.56713   | \n",
       "| 2009-01-05 | 94.14681   | 92.06069   | 91.41750   | \n",
       "| 2009-01-06 | 94.70899   | 95.10218   | 95.45096   | \n",
       "| 2009-01-07 | 94.17983   | 81.41120   | 93.78913   | \n",
       "| 2009-01-08 | 94.60296   | 85.57313   | 91.64874   | \n",
       "| 2009-01-09 | 96.57046   | 88.99817   | 95.81065   | \n",
       "| 2009-01-10 | 92.53229   | 85.15884   | 94.72742   | \n",
       "\n",
       "\n"
      ],
      "text/plain": [
       "   time       Jake     Ryan     Elijah  \n",
       "1  2009-01-01 92.77184 88.64030 94.64437\n",
       "2  2009-01-02 94.41316 88.13829 94.61101\n",
       "3  2009-01-03 95.46862 93.02045 90.53657\n",
       "4  2009-01-04 96.21247 80.33129 90.56713\n",
       "5  2009-01-05 94.14681 92.06069 91.41750\n",
       "6  2009-01-06 94.70899 95.10218 95.45096\n",
       "7  2009-01-07 94.17983 81.41120 93.78913\n",
       "8  2009-01-08 94.60296 85.57313 91.64874\n",
       "9  2009-01-09 96.57046 88.99817 95.81065\n",
       "10 2009-01-10 92.53229 85.15884 94.72742"
      ]
     },
     "metadata": {},
     "output_type": "display_data"
    },
    {
     "data": {
      "text/html": [
       "<table>\n",
       "<thead><tr><th scope=col>time</th><th scope=col>Student</th><th scope=col>Quiz Score</th></tr></thead>\n",
       "<tbody>\n",
       "\t<tr><td>2009-01-01</td><td>Jake      </td><td>92.77184  </td></tr>\n",
       "\t<tr><td>2009-01-02</td><td>Jake      </td><td>94.41316  </td></tr>\n",
       "\t<tr><td>2009-01-03</td><td>Jake      </td><td>95.46862  </td></tr>\n",
       "\t<tr><td>2009-01-04</td><td>Jake      </td><td>96.21247  </td></tr>\n",
       "\t<tr><td>2009-01-05</td><td>Jake      </td><td>94.14681  </td></tr>\n",
       "\t<tr><td>2009-01-06</td><td>Jake      </td><td>94.70899  </td></tr>\n",
       "\t<tr><td>2009-01-07</td><td>Jake      </td><td>94.17983  </td></tr>\n",
       "\t<tr><td>2009-01-08</td><td>Jake      </td><td>94.60296  </td></tr>\n",
       "\t<tr><td>2009-01-09</td><td>Jake      </td><td>96.57046  </td></tr>\n",
       "\t<tr><td>2009-01-10</td><td>Jake      </td><td>92.53229  </td></tr>\n",
       "\t<tr><td>2009-01-01</td><td>Ryan      </td><td>88.64030  </td></tr>\n",
       "\t<tr><td>2009-01-02</td><td>Ryan      </td><td>88.13829  </td></tr>\n",
       "\t<tr><td>2009-01-03</td><td>Ryan      </td><td>93.02045  </td></tr>\n",
       "\t<tr><td>2009-01-04</td><td>Ryan      </td><td>80.33129  </td></tr>\n",
       "\t<tr><td>2009-01-05</td><td>Ryan      </td><td>92.06069  </td></tr>\n",
       "\t<tr><td>2009-01-06</td><td>Ryan      </td><td>95.10218  </td></tr>\n",
       "\t<tr><td>2009-01-07</td><td>Ryan      </td><td>81.41120  </td></tr>\n",
       "\t<tr><td>2009-01-08</td><td>Ryan      </td><td>85.57313  </td></tr>\n",
       "\t<tr><td>2009-01-09</td><td>Ryan      </td><td>88.99817  </td></tr>\n",
       "\t<tr><td>2009-01-10</td><td>Ryan      </td><td>85.15884  </td></tr>\n",
       "\t<tr><td>2009-01-01</td><td>Elijah    </td><td>94.64437  </td></tr>\n",
       "\t<tr><td>2009-01-02</td><td>Elijah    </td><td>94.61101  </td></tr>\n",
       "\t<tr><td>2009-01-03</td><td>Elijah    </td><td>90.53657  </td></tr>\n",
       "\t<tr><td>2009-01-04</td><td>Elijah    </td><td>90.56713  </td></tr>\n",
       "\t<tr><td>2009-01-05</td><td>Elijah    </td><td>91.41750  </td></tr>\n",
       "\t<tr><td>2009-01-06</td><td>Elijah    </td><td>95.45096  </td></tr>\n",
       "\t<tr><td>2009-01-07</td><td>Elijah    </td><td>93.78913  </td></tr>\n",
       "\t<tr><td>2009-01-08</td><td>Elijah    </td><td>91.64874  </td></tr>\n",
       "\t<tr><td>2009-01-09</td><td>Elijah    </td><td>95.81065  </td></tr>\n",
       "\t<tr><td>2009-01-10</td><td>Elijah    </td><td>94.72742  </td></tr>\n",
       "</tbody>\n",
       "</table>\n"
      ],
      "text/latex": [
       "\\begin{tabular}{r|lll}\n",
       " time & Student & Quiz Score\\\\\n",
       "\\hline\n",
       "\t 2009-01-01 & Jake       & 92.77184  \\\\\n",
       "\t 2009-01-02 & Jake       & 94.41316  \\\\\n",
       "\t 2009-01-03 & Jake       & 95.46862  \\\\\n",
       "\t 2009-01-04 & Jake       & 96.21247  \\\\\n",
       "\t 2009-01-05 & Jake       & 94.14681  \\\\\n",
       "\t 2009-01-06 & Jake       & 94.70899  \\\\\n",
       "\t 2009-01-07 & Jake       & 94.17983  \\\\\n",
       "\t 2009-01-08 & Jake       & 94.60296  \\\\\n",
       "\t 2009-01-09 & Jake       & 96.57046  \\\\\n",
       "\t 2009-01-10 & Jake       & 92.53229  \\\\\n",
       "\t 2009-01-01 & Ryan       & 88.64030  \\\\\n",
       "\t 2009-01-02 & Ryan       & 88.13829  \\\\\n",
       "\t 2009-01-03 & Ryan       & 93.02045  \\\\\n",
       "\t 2009-01-04 & Ryan       & 80.33129  \\\\\n",
       "\t 2009-01-05 & Ryan       & 92.06069  \\\\\n",
       "\t 2009-01-06 & Ryan       & 95.10218  \\\\\n",
       "\t 2009-01-07 & Ryan       & 81.41120  \\\\\n",
       "\t 2009-01-08 & Ryan       & 85.57313  \\\\\n",
       "\t 2009-01-09 & Ryan       & 88.99817  \\\\\n",
       "\t 2009-01-10 & Ryan       & 85.15884  \\\\\n",
       "\t 2009-01-01 & Elijah     & 94.64437  \\\\\n",
       "\t 2009-01-02 & Elijah     & 94.61101  \\\\\n",
       "\t 2009-01-03 & Elijah     & 90.53657  \\\\\n",
       "\t 2009-01-04 & Elijah     & 90.56713  \\\\\n",
       "\t 2009-01-05 & Elijah     & 91.41750  \\\\\n",
       "\t 2009-01-06 & Elijah     & 95.45096  \\\\\n",
       "\t 2009-01-07 & Elijah     & 93.78913  \\\\\n",
       "\t 2009-01-08 & Elijah     & 91.64874  \\\\\n",
       "\t 2009-01-09 & Elijah     & 95.81065  \\\\\n",
       "\t 2009-01-10 & Elijah     & 94.72742  \\\\\n",
       "\\end{tabular}\n"
      ],
      "text/markdown": [
       "\n",
       "time | Student | Quiz Score | \n",
       "|---|---|---|---|---|---|---|---|---|---|---|---|---|---|---|---|---|---|---|---|---|---|---|---|---|---|---|---|---|---|\n",
       "| 2009-01-01 | Jake       | 92.77184   | \n",
       "| 2009-01-02 | Jake       | 94.41316   | \n",
       "| 2009-01-03 | Jake       | 95.46862   | \n",
       "| 2009-01-04 | Jake       | 96.21247   | \n",
       "| 2009-01-05 | Jake       | 94.14681   | \n",
       "| 2009-01-06 | Jake       | 94.70899   | \n",
       "| 2009-01-07 | Jake       | 94.17983   | \n",
       "| 2009-01-08 | Jake       | 94.60296   | \n",
       "| 2009-01-09 | Jake       | 96.57046   | \n",
       "| 2009-01-10 | Jake       | 92.53229   | \n",
       "| 2009-01-01 | Ryan       | 88.64030   | \n",
       "| 2009-01-02 | Ryan       | 88.13829   | \n",
       "| 2009-01-03 | Ryan       | 93.02045   | \n",
       "| 2009-01-04 | Ryan       | 80.33129   | \n",
       "| 2009-01-05 | Ryan       | 92.06069   | \n",
       "| 2009-01-06 | Ryan       | 95.10218   | \n",
       "| 2009-01-07 | Ryan       | 81.41120   | \n",
       "| 2009-01-08 | Ryan       | 85.57313   | \n",
       "| 2009-01-09 | Ryan       | 88.99817   | \n",
       "| 2009-01-10 | Ryan       | 85.15884   | \n",
       "| 2009-01-01 | Elijah     | 94.64437   | \n",
       "| 2009-01-02 | Elijah     | 94.61101   | \n",
       "| 2009-01-03 | Elijah     | 90.53657   | \n",
       "| 2009-01-04 | Elijah     | 90.56713   | \n",
       "| 2009-01-05 | Elijah     | 91.41750   | \n",
       "| 2009-01-06 | Elijah     | 95.45096   | \n",
       "| 2009-01-07 | Elijah     | 93.78913   | \n",
       "| 2009-01-08 | Elijah     | 91.64874   | \n",
       "| 2009-01-09 | Elijah     | 95.81065   | \n",
       "| 2009-01-10 | Elijah     | 94.72742   | \n",
       "\n",
       "\n"
      ],
      "text/plain": [
       "   time       Student Quiz Score\n",
       "1  2009-01-01 Jake    92.77184  \n",
       "2  2009-01-02 Jake    94.41316  \n",
       "3  2009-01-03 Jake    95.46862  \n",
       "4  2009-01-04 Jake    96.21247  \n",
       "5  2009-01-05 Jake    94.14681  \n",
       "6  2009-01-06 Jake    94.70899  \n",
       "7  2009-01-07 Jake    94.17983  \n",
       "8  2009-01-08 Jake    94.60296  \n",
       "9  2009-01-09 Jake    96.57046  \n",
       "10 2009-01-10 Jake    92.53229  \n",
       "11 2009-01-01 Ryan    88.64030  \n",
       "12 2009-01-02 Ryan    88.13829  \n",
       "13 2009-01-03 Ryan    93.02045  \n",
       "14 2009-01-04 Ryan    80.33129  \n",
       "15 2009-01-05 Ryan    92.06069  \n",
       "16 2009-01-06 Ryan    95.10218  \n",
       "17 2009-01-07 Ryan    81.41120  \n",
       "18 2009-01-08 Ryan    85.57313  \n",
       "19 2009-01-09 Ryan    88.99817  \n",
       "20 2009-01-10 Ryan    85.15884  \n",
       "21 2009-01-01 Elijah  94.64437  \n",
       "22 2009-01-02 Elijah  94.61101  \n",
       "23 2009-01-03 Elijah  90.53657  \n",
       "24 2009-01-04 Elijah  90.56713  \n",
       "25 2009-01-05 Elijah  91.41750  \n",
       "26 2009-01-06 Elijah  95.45096  \n",
       "27 2009-01-07 Elijah  93.78913  \n",
       "28 2009-01-08 Elijah  91.64874  \n",
       "29 2009-01-09 Elijah  95.81065  \n",
       "30 2009-01-10 Elijah  94.72742  "
      ]
     },
     "metadata": {},
     "output_type": "display_data"
    }
   ],
   "source": [
    "df_wide = data.frame(time = as.Date('2009-01-01')+ 0:9,\n",
    "Jake = rnorm(10, 95, 1), Ryan = rnorm(10, 90, 5), Elijah =rnorm(10,93,2))\n",
    "df_wide\n",
    "\n",
    "library(tidyr)\n",
    "df_long = gather(data = df_wide, Jake, Ryan, \n",
    "Elijah, key = 'Student', value =  'Quiz Score')\n",
    "df_long"
   ]
  },
  {
   "cell_type": "markdown",
   "metadata": {},
   "source": [
    "### 2.\tCreate a “long” dataset and turn it to a “wide” dataset. "
   ]
  },
  {
   "cell_type": "code",
   "execution_count": 14,
   "metadata": {},
   "outputs": [
    {
     "data": {
      "text/html": [
       "<table>\n",
       "<thead><tr><th scope=col>Day</th><th scope=col>Student</th><th scope=col>sleephrs</th></tr></thead>\n",
       "<tbody>\n",
       "\t<tr><td>M       </td><td>Jake    </td><td>9.680476</td></tr>\n",
       "\t<tr><td>W       </td><td>Jake    </td><td>7.141227</td></tr>\n",
       "\t<tr><td>F       </td><td>Jake    </td><td>9.123281</td></tr>\n",
       "\t<tr><td>M       </td><td>Ryan    </td><td>6.744510</td></tr>\n",
       "\t<tr><td>W       </td><td>Ryan    </td><td>2.754875</td></tr>\n",
       "\t<tr><td>F       </td><td>Ryan    </td><td>9.126532</td></tr>\n",
       "\t<tr><td>M       </td><td>Elijah  </td><td>8.998083</td></tr>\n",
       "\t<tr><td>W       </td><td>Elijah  </td><td>9.897219</td></tr>\n",
       "\t<tr><td>F       </td><td>Elijah  </td><td>9.564009</td></tr>\n",
       "</tbody>\n",
       "</table>\n"
      ],
      "text/latex": [
       "\\begin{tabular}{r|lll}\n",
       " Day & Student & sleephrs\\\\\n",
       "\\hline\n",
       "\t M        & Jake     & 9.680476\\\\\n",
       "\t W        & Jake     & 7.141227\\\\\n",
       "\t F        & Jake     & 9.123281\\\\\n",
       "\t M        & Ryan     & 6.744510\\\\\n",
       "\t W        & Ryan     & 2.754875\\\\\n",
       "\t F        & Ryan     & 9.126532\\\\\n",
       "\t M        & Elijah   & 8.998083\\\\\n",
       "\t W        & Elijah   & 9.897219\\\\\n",
       "\t F        & Elijah   & 9.564009\\\\\n",
       "\\end{tabular}\n"
      ],
      "text/markdown": [
       "\n",
       "Day | Student | sleephrs | \n",
       "|---|---|---|---|---|---|---|---|---|\n",
       "| M        | Jake     | 9.680476 | \n",
       "| W        | Jake     | 7.141227 | \n",
       "| F        | Jake     | 9.123281 | \n",
       "| M        | Ryan     | 6.744510 | \n",
       "| W        | Ryan     | 2.754875 | \n",
       "| F        | Ryan     | 9.126532 | \n",
       "| M        | Elijah   | 8.998083 | \n",
       "| W        | Elijah   | 9.897219 | \n",
       "| F        | Elijah   | 9.564009 | \n",
       "\n",
       "\n"
      ],
      "text/plain": [
       "  Day Student sleephrs\n",
       "1 M   Jake    9.680476\n",
       "2 W   Jake    7.141227\n",
       "3 F   Jake    9.123281\n",
       "4 M   Ryan    6.744510\n",
       "5 W   Ryan    2.754875\n",
       "6 F   Ryan    9.126532\n",
       "7 M   Elijah  8.998083\n",
       "8 W   Elijah  9.897219\n",
       "9 F   Elijah  9.564009"
      ]
     },
     "metadata": {},
     "output_type": "display_data"
    },
    {
     "data": {
      "text/html": [
       "<table>\n",
       "<thead><tr><th scope=col>Day</th><th scope=col>Elijah</th><th scope=col>Jake</th><th scope=col>Ryan</th></tr></thead>\n",
       "<tbody>\n",
       "\t<tr><td>F       </td><td>9.564009</td><td>9.123281</td><td>9.126532</td></tr>\n",
       "\t<tr><td>M       </td><td>8.998083</td><td>9.680476</td><td>6.744510</td></tr>\n",
       "\t<tr><td>W       </td><td>9.897219</td><td>7.141227</td><td>2.754875</td></tr>\n",
       "</tbody>\n",
       "</table>\n"
      ],
      "text/latex": [
       "\\begin{tabular}{r|llll}\n",
       " Day & Elijah & Jake & Ryan\\\\\n",
       "\\hline\n",
       "\t F        & 9.564009 & 9.123281 & 9.126532\\\\\n",
       "\t M        & 8.998083 & 9.680476 & 6.744510\\\\\n",
       "\t W        & 9.897219 & 7.141227 & 2.754875\\\\\n",
       "\\end{tabular}\n"
      ],
      "text/markdown": [
       "\n",
       "Day | Elijah | Jake | Ryan | \n",
       "|---|---|---|\n",
       "| F        | 9.564009 | 9.123281 | 9.126532 | \n",
       "| M        | 8.998083 | 9.680476 | 6.744510 | \n",
       "| W        | 9.897219 | 7.141227 | 2.754875 | \n",
       "\n",
       "\n"
      ],
      "text/plain": [
       "  Day Elijah   Jake     Ryan    \n",
       "1 F   9.564009 9.123281 9.126532\n",
       "2 M   8.998083 9.680476 6.744510\n",
       "3 W   9.897219 7.141227 2.754875"
      ]
     },
     "metadata": {},
     "output_type": "display_data"
    }
   ],
   "source": [
    "df_long2 = data.frame(Day = c(\"M\",\"W\",\"F\",\"M\",\"W\",\"F\", \"M\", \"W\", \"F\"), Student = c(\"Jake\",\"Jake\",\"Jake\", \"Ryan\",\"Ryan\",\"Ryan\", \"Elijah\", \"Elijah\", \"Elijah\"), sleephrs = c(rnorm(3, 8, 1.5), rnorm(3, 7, 2), rnorm(3, 9, 1)))\n",
    "df_long2\n",
    "\n",
    "df_wide2 = spread(data = df_long2, key = 'Student', value = 'sleephrs')\n",
    "df_wide2"
   ]
  },
  {
   "cell_type": "markdown",
   "metadata": {},
   "source": [
    "### 3.\tCreate a dataset, d1, of five Bryant students with 3 variables: Name, Major, and GPA.  Primary key is Name.  "
   ]
  },
  {
   "cell_type": "code",
   "execution_count": 15,
   "metadata": {},
   "outputs": [
    {
     "data": {
      "text/html": [
       "<table>\n",
       "<thead><tr><th scope=col>Name</th><th scope=col>Major</th><th scope=col>GPA</th></tr></thead>\n",
       "<tbody>\n",
       "\t<tr><td>Mackenzie       </td><td>Human Resources </td><td>3.4             </td></tr>\n",
       "\t<tr><td>Allie           </td><td>Politics and Law</td><td>3.4             </td></tr>\n",
       "\t<tr><td>Luke            </td><td>Accounting      </td><td>3.75            </td></tr>\n",
       "\t<tr><td>Elijah          </td><td>Actuarial Math  </td><td>3.95            </td></tr>\n",
       "\t<tr><td>Abdallah        </td><td>Marketing       </td><td>3.1             </td></tr>\n",
       "</tbody>\n",
       "</table>\n"
      ],
      "text/latex": [
       "\\begin{tabular}{r|lll}\n",
       " Name & Major & GPA\\\\\n",
       "\\hline\n",
       "\t Mackenzie        & Human Resources  & 3.4             \\\\\n",
       "\t Allie            & Politics and Law & 3.4             \\\\\n",
       "\t Luke             & Accounting       & 3.75            \\\\\n",
       "\t Elijah           & Actuarial Math   & 3.95            \\\\\n",
       "\t Abdallah         & Marketing        & 3.1             \\\\\n",
       "\\end{tabular}\n"
      ],
      "text/markdown": [
       "\n",
       "Name | Major | GPA | \n",
       "|---|---|---|---|---|\n",
       "| Mackenzie        | Human Resources  | 3.4              | \n",
       "| Allie            | Politics and Law | 3.4              | \n",
       "| Luke             | Accounting       | 3.75             | \n",
       "| Elijah           | Actuarial Math   | 3.95             | \n",
       "| Abdallah         | Marketing        | 3.1              | \n",
       "\n",
       "\n"
      ],
      "text/plain": [
       "  Name      Major            GPA \n",
       "1 Mackenzie Human Resources  3.4 \n",
       "2 Allie     Politics and Law 3.4 \n",
       "3 Luke      Accounting       3.75\n",
       "4 Elijah    Actuarial Math   3.95\n",
       "5 Abdallah  Marketing        3.1 "
      ]
     },
     "metadata": {},
     "output_type": "display_data"
    }
   ],
   "source": [
    "d1 = data.frame(Name = c(\"Mackenzie\", \"Allie\", \"Luke\", \"Elijah\", \"Abdallah\"), Major = c(\"Human Resources\", \"Politics and Law\", \"Accounting\", \"Actuarial Math\", \"Marketing\"), GPA = c(\"3.4\", \"3.4\", \"3.75\", \"3.95\", \"3.1\"))\n",
    "d1"
   ]
  },
  {
   "cell_type": "markdown",
   "metadata": {},
   "source": [
    "### 4.\tCreate a dataset, d2, of five Bryant students, two of them are also in d1, the others are not in d1, with 3 variables: Name, Major, and Salary."
   ]
  },
  {
   "cell_type": "code",
   "execution_count": 16,
   "metadata": {},
   "outputs": [
    {
     "data": {
      "text/html": [
       "<table>\n",
       "<thead><tr><th scope=col>Name</th><th scope=col>Major</th><th scope=col>Salary</th></tr></thead>\n",
       "<tbody>\n",
       "\t<tr><td>Mackenzie      </td><td>Human Resources</td><td>54,000         </td></tr>\n",
       "\t<tr><td>Elijah         </td><td>Actuarial Math </td><td>70,000         </td></tr>\n",
       "\t<tr><td>Jake           </td><td>Actuarial Math </td><td>82,000         </td></tr>\n",
       "\t<tr><td>Fryer          </td><td>Actuarial Math </td><td>68,000         </td></tr>\n",
       "\t<tr><td>Tyler          </td><td>Marketing      </td><td>40,000         </td></tr>\n",
       "</tbody>\n",
       "</table>\n"
      ],
      "text/latex": [
       "\\begin{tabular}{r|lll}\n",
       " Name & Major & Salary\\\\\n",
       "\\hline\n",
       "\t Mackenzie       & Human Resources & 54,000         \\\\\n",
       "\t Elijah          & Actuarial Math  & 70,000         \\\\\n",
       "\t Jake            & Actuarial Math  & 82,000         \\\\\n",
       "\t Fryer           & Actuarial Math  & 68,000         \\\\\n",
       "\t Tyler           & Marketing       & 40,000         \\\\\n",
       "\\end{tabular}\n"
      ],
      "text/markdown": [
       "\n",
       "Name | Major | Salary | \n",
       "|---|---|---|---|---|\n",
       "| Mackenzie       | Human Resources | 54,000          | \n",
       "| Elijah          | Actuarial Math  | 70,000          | \n",
       "| Jake            | Actuarial Math  | 82,000          | \n",
       "| Fryer           | Actuarial Math  | 68,000          | \n",
       "| Tyler           | Marketing       | 40,000          | \n",
       "\n",
       "\n"
      ],
      "text/plain": [
       "  Name      Major           Salary\n",
       "1 Mackenzie Human Resources 54,000\n",
       "2 Elijah    Actuarial Math  70,000\n",
       "3 Jake      Actuarial Math  82,000\n",
       "4 Fryer     Actuarial Math  68,000\n",
       "5 Tyler     Marketing       40,000"
      ]
     },
     "metadata": {},
     "output_type": "display_data"
    }
   ],
   "source": [
    "d2 = data.frame(Name = c(\"Mackenzie\", \"Elijah\", \"Jake\", \"Fryer\", \"Tyler\"), Major = c(\"Human Resources\", \"Actuarial Math\", \"Actuarial Math\", \"Actuarial Math\", \"Marketing\"), Salary = c(\"54,000\", \"70,000\", \"82,000\", \"68,000\", \"40,000\"))\n",
    "d2"
   ]
  },
  {
   "cell_type": "markdown",
   "metadata": {},
   "source": [
    "### 5.\tJoin d1 and d2 in 6 different ways, by the primary key."
   ]
  },
  {
   "cell_type": "code",
   "execution_count": 17,
   "metadata": {},
   "outputs": [
    {
     "name": "stderr",
     "output_type": "stream",
     "text": [
      "Warning message:\n",
      "\"Column `Name` joining factors with different levels, coercing to character vector\""
     ]
    },
    {
     "data": {
      "text/html": [
       "<table>\n",
       "<thead><tr><th scope=col>Name</th><th scope=col>Major.x</th><th scope=col>GPA</th><th scope=col>Major.y</th><th scope=col>Salary</th></tr></thead>\n",
       "<tbody>\n",
       "\t<tr><td>Mackenzie       </td><td>Human Resources </td><td>3.4             </td><td>Human Resources </td><td>54,000          </td></tr>\n",
       "\t<tr><td>Allie           </td><td>Politics and Law</td><td>3.4             </td><td>NA              </td><td>NA              </td></tr>\n",
       "\t<tr><td>Luke            </td><td>Accounting      </td><td>3.75            </td><td>NA              </td><td>NA              </td></tr>\n",
       "\t<tr><td>Elijah          </td><td>Actuarial Math  </td><td>3.95            </td><td>Actuarial Math  </td><td>70,000          </td></tr>\n",
       "\t<tr><td>Abdallah        </td><td>Marketing       </td><td>3.1             </td><td>NA              </td><td>NA              </td></tr>\n",
       "</tbody>\n",
       "</table>\n"
      ],
      "text/latex": [
       "\\begin{tabular}{r|lllll}\n",
       " Name & Major.x & GPA & Major.y & Salary\\\\\n",
       "\\hline\n",
       "\t Mackenzie        & Human Resources  & 3.4              & Human Resources  & 54,000          \\\\\n",
       "\t Allie            & Politics and Law & 3.4              & NA               & NA              \\\\\n",
       "\t Luke             & Accounting       & 3.75             & NA               & NA              \\\\\n",
       "\t Elijah           & Actuarial Math   & 3.95             & Actuarial Math   & 70,000          \\\\\n",
       "\t Abdallah         & Marketing        & 3.1              & NA               & NA              \\\\\n",
       "\\end{tabular}\n"
      ],
      "text/markdown": [
       "\n",
       "Name | Major.x | GPA | Major.y | Salary | \n",
       "|---|---|---|---|---|\n",
       "| Mackenzie        | Human Resources  | 3.4              | Human Resources  | 54,000           | \n",
       "| Allie            | Politics and Law | 3.4              | NA               | NA               | \n",
       "| Luke             | Accounting       | 3.75             | NA               | NA               | \n",
       "| Elijah           | Actuarial Math   | 3.95             | Actuarial Math   | 70,000           | \n",
       "| Abdallah         | Marketing        | 3.1              | NA               | NA               | \n",
       "\n",
       "\n"
      ],
      "text/plain": [
       "  Name      Major.x          GPA  Major.y         Salary\n",
       "1 Mackenzie Human Resources  3.4  Human Resources 54,000\n",
       "2 Allie     Politics and Law 3.4  NA              NA    \n",
       "3 Luke      Accounting       3.75 NA              NA    \n",
       "4 Elijah    Actuarial Math   3.95 Actuarial Math  70,000\n",
       "5 Abdallah  Marketing        3.1  NA              NA    "
      ]
     },
     "metadata": {},
     "output_type": "display_data"
    },
    {
     "name": "stderr",
     "output_type": "stream",
     "text": [
      "Warning message:\n",
      "\"Column `Name` joining factors with different levels, coercing to character vector\""
     ]
    },
    {
     "data": {
      "text/html": [
       "<table>\n",
       "<thead><tr><th scope=col>Name</th><th scope=col>Major.x</th><th scope=col>GPA</th><th scope=col>Major.y</th><th scope=col>Salary</th></tr></thead>\n",
       "<tbody>\n",
       "\t<tr><td>Mackenzie      </td><td>Human Resources</td><td>3.4            </td><td>Human Resources</td><td>54,000         </td></tr>\n",
       "\t<tr><td>Elijah         </td><td>Actuarial Math </td><td>3.95           </td><td>Actuarial Math </td><td>70,000         </td></tr>\n",
       "\t<tr><td>Jake           </td><td>NA             </td><td>NA             </td><td>Actuarial Math </td><td>82,000         </td></tr>\n",
       "\t<tr><td>Fryer          </td><td>NA             </td><td>NA             </td><td>Actuarial Math </td><td>68,000         </td></tr>\n",
       "\t<tr><td>Tyler          </td><td>NA             </td><td>NA             </td><td>Marketing      </td><td>40,000         </td></tr>\n",
       "</tbody>\n",
       "</table>\n"
      ],
      "text/latex": [
       "\\begin{tabular}{r|lllll}\n",
       " Name & Major.x & GPA & Major.y & Salary\\\\\n",
       "\\hline\n",
       "\t Mackenzie       & Human Resources & 3.4             & Human Resources & 54,000         \\\\\n",
       "\t Elijah          & Actuarial Math  & 3.95            & Actuarial Math  & 70,000         \\\\\n",
       "\t Jake            & NA              & NA              & Actuarial Math  & 82,000         \\\\\n",
       "\t Fryer           & NA              & NA              & Actuarial Math  & 68,000         \\\\\n",
       "\t Tyler           & NA              & NA              & Marketing       & 40,000         \\\\\n",
       "\\end{tabular}\n"
      ],
      "text/markdown": [
       "\n",
       "Name | Major.x | GPA | Major.y | Salary | \n",
       "|---|---|---|---|---|\n",
       "| Mackenzie       | Human Resources | 3.4             | Human Resources | 54,000          | \n",
       "| Elijah          | Actuarial Math  | 3.95            | Actuarial Math  | 70,000          | \n",
       "| Jake            | NA              | NA              | Actuarial Math  | 82,000          | \n",
       "| Fryer           | NA              | NA              | Actuarial Math  | 68,000          | \n",
       "| Tyler           | NA              | NA              | Marketing       | 40,000          | \n",
       "\n",
       "\n"
      ],
      "text/plain": [
       "  Name      Major.x         GPA  Major.y         Salary\n",
       "1 Mackenzie Human Resources 3.4  Human Resources 54,000\n",
       "2 Elijah    Actuarial Math  3.95 Actuarial Math  70,000\n",
       "3 Jake      NA              NA   Actuarial Math  82,000\n",
       "4 Fryer     NA              NA   Actuarial Math  68,000\n",
       "5 Tyler     NA              NA   Marketing       40,000"
      ]
     },
     "metadata": {},
     "output_type": "display_data"
    },
    {
     "name": "stderr",
     "output_type": "stream",
     "text": [
      "Warning message:\n",
      "\"Column `Name` joining factors with different levels, coercing to character vector\""
     ]
    },
    {
     "data": {
      "text/html": [
       "<table>\n",
       "<thead><tr><th scope=col>Name</th><th scope=col>Major.x</th><th scope=col>GPA</th><th scope=col>Major.y</th><th scope=col>Salary</th></tr></thead>\n",
       "<tbody>\n",
       "\t<tr><td>Mackenzie       </td><td>Human Resources </td><td>3.4             </td><td>Human Resources </td><td>54,000          </td></tr>\n",
       "\t<tr><td>Allie           </td><td>Politics and Law</td><td>3.4             </td><td>NA              </td><td>NA              </td></tr>\n",
       "\t<tr><td>Luke            </td><td>Accounting      </td><td>3.75            </td><td>NA              </td><td>NA              </td></tr>\n",
       "\t<tr><td>Elijah          </td><td>Actuarial Math  </td><td>3.95            </td><td>Actuarial Math  </td><td>70,000          </td></tr>\n",
       "\t<tr><td>Abdallah        </td><td>Marketing       </td><td>3.1             </td><td>NA              </td><td>NA              </td></tr>\n",
       "\t<tr><td>Jake            </td><td>NA              </td><td>NA              </td><td>Actuarial Math  </td><td>82,000          </td></tr>\n",
       "\t<tr><td>Fryer           </td><td>NA              </td><td>NA              </td><td>Actuarial Math  </td><td>68,000          </td></tr>\n",
       "\t<tr><td>Tyler           </td><td>NA              </td><td>NA              </td><td>Marketing       </td><td>40,000          </td></tr>\n",
       "</tbody>\n",
       "</table>\n"
      ],
      "text/latex": [
       "\\begin{tabular}{r|lllll}\n",
       " Name & Major.x & GPA & Major.y & Salary\\\\\n",
       "\\hline\n",
       "\t Mackenzie        & Human Resources  & 3.4              & Human Resources  & 54,000          \\\\\n",
       "\t Allie            & Politics and Law & 3.4              & NA               & NA              \\\\\n",
       "\t Luke             & Accounting       & 3.75             & NA               & NA              \\\\\n",
       "\t Elijah           & Actuarial Math   & 3.95             & Actuarial Math   & 70,000          \\\\\n",
       "\t Abdallah         & Marketing        & 3.1              & NA               & NA              \\\\\n",
       "\t Jake             & NA               & NA               & Actuarial Math   & 82,000          \\\\\n",
       "\t Fryer            & NA               & NA               & Actuarial Math   & 68,000          \\\\\n",
       "\t Tyler            & NA               & NA               & Marketing        & 40,000          \\\\\n",
       "\\end{tabular}\n"
      ],
      "text/markdown": [
       "\n",
       "Name | Major.x | GPA | Major.y | Salary | \n",
       "|---|---|---|---|---|---|---|---|\n",
       "| Mackenzie        | Human Resources  | 3.4              | Human Resources  | 54,000           | \n",
       "| Allie            | Politics and Law | 3.4              | NA               | NA               | \n",
       "| Luke             | Accounting       | 3.75             | NA               | NA               | \n",
       "| Elijah           | Actuarial Math   | 3.95             | Actuarial Math   | 70,000           | \n",
       "| Abdallah         | Marketing        | 3.1              | NA               | NA               | \n",
       "| Jake             | NA               | NA               | Actuarial Math   | 82,000           | \n",
       "| Fryer            | NA               | NA               | Actuarial Math   | 68,000           | \n",
       "| Tyler            | NA               | NA               | Marketing        | 40,000           | \n",
       "\n",
       "\n"
      ],
      "text/plain": [
       "  Name      Major.x          GPA  Major.y         Salary\n",
       "1 Mackenzie Human Resources  3.4  Human Resources 54,000\n",
       "2 Allie     Politics and Law 3.4  NA              NA    \n",
       "3 Luke      Accounting       3.75 NA              NA    \n",
       "4 Elijah    Actuarial Math   3.95 Actuarial Math  70,000\n",
       "5 Abdallah  Marketing        3.1  NA              NA    \n",
       "6 Jake      NA               NA   Actuarial Math  82,000\n",
       "7 Fryer     NA               NA   Actuarial Math  68,000\n",
       "8 Tyler     NA               NA   Marketing       40,000"
      ]
     },
     "metadata": {},
     "output_type": "display_data"
    },
    {
     "name": "stderr",
     "output_type": "stream",
     "text": [
      "Warning message:\n",
      "\"Column `Name` joining factors with different levels, coercing to character vector\""
     ]
    },
    {
     "data": {
      "text/html": [
       "<table>\n",
       "<thead><tr><th scope=col>Name</th><th scope=col>Major.x</th><th scope=col>GPA</th><th scope=col>Major.y</th><th scope=col>Salary</th></tr></thead>\n",
       "<tbody>\n",
       "\t<tr><td>Mackenzie      </td><td>Human Resources</td><td>3.4            </td><td>Human Resources</td><td>54,000         </td></tr>\n",
       "\t<tr><td>Elijah         </td><td>Actuarial Math </td><td>3.95           </td><td>Actuarial Math </td><td>70,000         </td></tr>\n",
       "</tbody>\n",
       "</table>\n"
      ],
      "text/latex": [
       "\\begin{tabular}{r|lllll}\n",
       " Name & Major.x & GPA & Major.y & Salary\\\\\n",
       "\\hline\n",
       "\t Mackenzie       & Human Resources & 3.4             & Human Resources & 54,000         \\\\\n",
       "\t Elijah          & Actuarial Math  & 3.95            & Actuarial Math  & 70,000         \\\\\n",
       "\\end{tabular}\n"
      ],
      "text/markdown": [
       "\n",
       "Name | Major.x | GPA | Major.y | Salary | \n",
       "|---|---|\n",
       "| Mackenzie       | Human Resources | 3.4             | Human Resources | 54,000          | \n",
       "| Elijah          | Actuarial Math  | 3.95            | Actuarial Math  | 70,000          | \n",
       "\n",
       "\n"
      ],
      "text/plain": [
       "  Name      Major.x         GPA  Major.y         Salary\n",
       "1 Mackenzie Human Resources 3.4  Human Resources 54,000\n",
       "2 Elijah    Actuarial Math  3.95 Actuarial Math  70,000"
      ]
     },
     "metadata": {},
     "output_type": "display_data"
    },
    {
     "name": "stderr",
     "output_type": "stream",
     "text": [
      "Warning message:\n",
      "\"Column `Name` joining factors with different levels, coercing to character vector\""
     ]
    },
    {
     "data": {
      "text/html": [
       "<table>\n",
       "<thead><tr><th scope=col>Name</th><th scope=col>Major</th><th scope=col>GPA</th></tr></thead>\n",
       "<tbody>\n",
       "\t<tr><td>Allie           </td><td>Politics and Law</td><td>3.4             </td></tr>\n",
       "\t<tr><td>Luke            </td><td>Accounting      </td><td>3.75            </td></tr>\n",
       "\t<tr><td>Abdallah        </td><td>Marketing       </td><td>3.1             </td></tr>\n",
       "</tbody>\n",
       "</table>\n"
      ],
      "text/latex": [
       "\\begin{tabular}{r|lll}\n",
       " Name & Major & GPA\\\\\n",
       "\\hline\n",
       "\t Allie            & Politics and Law & 3.4             \\\\\n",
       "\t Luke             & Accounting       & 3.75            \\\\\n",
       "\t Abdallah         & Marketing        & 3.1             \\\\\n",
       "\\end{tabular}\n"
      ],
      "text/markdown": [
       "\n",
       "Name | Major | GPA | \n",
       "|---|---|---|\n",
       "| Allie            | Politics and Law | 3.4              | \n",
       "| Luke             | Accounting       | 3.75             | \n",
       "| Abdallah         | Marketing        | 3.1              | \n",
       "\n",
       "\n"
      ],
      "text/plain": [
       "  Name     Major            GPA \n",
       "1 Allie    Politics and Law 3.4 \n",
       "2 Luke     Accounting       3.75\n",
       "3 Abdallah Marketing        3.1 "
      ]
     },
     "metadata": {},
     "output_type": "display_data"
    },
    {
     "name": "stderr",
     "output_type": "stream",
     "text": [
      "Warning message:\n",
      "\"Column `Name` joining factors with different levels, coercing to character vector\""
     ]
    },
    {
     "data": {
      "text/html": [
       "<table>\n",
       "<thead><tr><th scope=col>Name</th><th scope=col>Major</th><th scope=col>GPA</th></tr></thead>\n",
       "<tbody>\n",
       "\t<tr><td>Mackenzie      </td><td>Human Resources</td><td>3.4            </td></tr>\n",
       "\t<tr><td>Elijah         </td><td>Actuarial Math </td><td>3.95           </td></tr>\n",
       "</tbody>\n",
       "</table>\n"
      ],
      "text/latex": [
       "\\begin{tabular}{r|lll}\n",
       " Name & Major & GPA\\\\\n",
       "\\hline\n",
       "\t Mackenzie       & Human Resources & 3.4            \\\\\n",
       "\t Elijah          & Actuarial Math  & 3.95           \\\\\n",
       "\\end{tabular}\n"
      ],
      "text/markdown": [
       "\n",
       "Name | Major | GPA | \n",
       "|---|---|\n",
       "| Mackenzie       | Human Resources | 3.4             | \n",
       "| Elijah          | Actuarial Math  | 3.95            | \n",
       "\n",
       "\n"
      ],
      "text/plain": [
       "  Name      Major           GPA \n",
       "1 Mackenzie Human Resources 3.4 \n",
       "2 Elijah    Actuarial Math  3.95"
      ]
     },
     "metadata": {},
     "output_type": "display_data"
    }
   ],
   "source": [
    "library(dplyr)\n",
    "left_join(d1, d2, by = c('Name'))\n",
    "right_join(d1, d2, by = c('Name'))\n",
    "full_join(d1, d2, by = c('Name'))\n",
    "inner_join(d1, d2, by = c('Name'))\n",
    "anti_join(d1, d2, by = c('Name'))\n",
    "semi_join(d1, d2, by = c('Name'))"
   ]
  },
  {
   "cell_type": "markdown",
   "metadata": {},
   "source": [
    "### 6.\tRedo 5 with the primary keys are two variables. "
   ]
  },
  {
   "cell_type": "code",
   "execution_count": 18,
   "metadata": {},
   "outputs": [
    {
     "name": "stderr",
     "output_type": "stream",
     "text": [
      "Warning message:\n",
      "\"Column `Name` joining factors with different levels, coercing to character vector\"Warning message:\n",
      "\"Column `Major` joining factors with different levels, coercing to character vector\""
     ]
    },
    {
     "data": {
      "text/html": [
       "<table>\n",
       "<thead><tr><th scope=col>Name</th><th scope=col>Major</th><th scope=col>GPA</th><th scope=col>Salary</th></tr></thead>\n",
       "<tbody>\n",
       "\t<tr><td>Mackenzie       </td><td>Human Resources </td><td>3.4             </td><td>54,000          </td></tr>\n",
       "\t<tr><td>Allie           </td><td>Politics and Law</td><td>3.4             </td><td>NA              </td></tr>\n",
       "\t<tr><td>Luke            </td><td>Accounting      </td><td>3.75            </td><td>NA              </td></tr>\n",
       "\t<tr><td>Elijah          </td><td>Actuarial Math  </td><td>3.95            </td><td>70,000          </td></tr>\n",
       "\t<tr><td>Abdallah        </td><td>Marketing       </td><td>3.1             </td><td>NA              </td></tr>\n",
       "</tbody>\n",
       "</table>\n"
      ],
      "text/latex": [
       "\\begin{tabular}{r|llll}\n",
       " Name & Major & GPA & Salary\\\\\n",
       "\\hline\n",
       "\t Mackenzie        & Human Resources  & 3.4              & 54,000          \\\\\n",
       "\t Allie            & Politics and Law & 3.4              & NA              \\\\\n",
       "\t Luke             & Accounting       & 3.75             & NA              \\\\\n",
       "\t Elijah           & Actuarial Math   & 3.95             & 70,000          \\\\\n",
       "\t Abdallah         & Marketing        & 3.1              & NA              \\\\\n",
       "\\end{tabular}\n"
      ],
      "text/markdown": [
       "\n",
       "Name | Major | GPA | Salary | \n",
       "|---|---|---|---|---|\n",
       "| Mackenzie        | Human Resources  | 3.4              | 54,000           | \n",
       "| Allie            | Politics and Law | 3.4              | NA               | \n",
       "| Luke             | Accounting       | 3.75             | NA               | \n",
       "| Elijah           | Actuarial Math   | 3.95             | 70,000           | \n",
       "| Abdallah         | Marketing        | 3.1              | NA               | \n",
       "\n",
       "\n"
      ],
      "text/plain": [
       "  Name      Major            GPA  Salary\n",
       "1 Mackenzie Human Resources  3.4  54,000\n",
       "2 Allie     Politics and Law 3.4  NA    \n",
       "3 Luke      Accounting       3.75 NA    \n",
       "4 Elijah    Actuarial Math   3.95 70,000\n",
       "5 Abdallah  Marketing        3.1  NA    "
      ]
     },
     "metadata": {},
     "output_type": "display_data"
    },
    {
     "name": "stderr",
     "output_type": "stream",
     "text": [
      "Warning message:\n",
      "\"Column `Name` joining factors with different levels, coercing to character vector\"Warning message:\n",
      "\"Column `Major` joining factors with different levels, coercing to character vector\""
     ]
    },
    {
     "data": {
      "text/html": [
       "<table>\n",
       "<thead><tr><th scope=col>Name</th><th scope=col>Major</th><th scope=col>GPA</th><th scope=col>Salary</th></tr></thead>\n",
       "<tbody>\n",
       "\t<tr><td>Mackenzie      </td><td>Human Resources</td><td>3.4            </td><td>54,000         </td></tr>\n",
       "\t<tr><td>Elijah         </td><td>Actuarial Math </td><td>3.95           </td><td>70,000         </td></tr>\n",
       "\t<tr><td>Jake           </td><td>Actuarial Math </td><td>NA             </td><td>82,000         </td></tr>\n",
       "\t<tr><td>Fryer          </td><td>Actuarial Math </td><td>NA             </td><td>68,000         </td></tr>\n",
       "\t<tr><td>Tyler          </td><td>Marketing      </td><td>NA             </td><td>40,000         </td></tr>\n",
       "</tbody>\n",
       "</table>\n"
      ],
      "text/latex": [
       "\\begin{tabular}{r|llll}\n",
       " Name & Major & GPA & Salary\\\\\n",
       "\\hline\n",
       "\t Mackenzie       & Human Resources & 3.4             & 54,000         \\\\\n",
       "\t Elijah          & Actuarial Math  & 3.95            & 70,000         \\\\\n",
       "\t Jake            & Actuarial Math  & NA              & 82,000         \\\\\n",
       "\t Fryer           & Actuarial Math  & NA              & 68,000         \\\\\n",
       "\t Tyler           & Marketing       & NA              & 40,000         \\\\\n",
       "\\end{tabular}\n"
      ],
      "text/markdown": [
       "\n",
       "Name | Major | GPA | Salary | \n",
       "|---|---|---|---|---|\n",
       "| Mackenzie       | Human Resources | 3.4             | 54,000          | \n",
       "| Elijah          | Actuarial Math  | 3.95            | 70,000          | \n",
       "| Jake            | Actuarial Math  | NA              | 82,000          | \n",
       "| Fryer           | Actuarial Math  | NA              | 68,000          | \n",
       "| Tyler           | Marketing       | NA              | 40,000          | \n",
       "\n",
       "\n"
      ],
      "text/plain": [
       "  Name      Major           GPA  Salary\n",
       "1 Mackenzie Human Resources 3.4  54,000\n",
       "2 Elijah    Actuarial Math  3.95 70,000\n",
       "3 Jake      Actuarial Math  NA   82,000\n",
       "4 Fryer     Actuarial Math  NA   68,000\n",
       "5 Tyler     Marketing       NA   40,000"
      ]
     },
     "metadata": {},
     "output_type": "display_data"
    },
    {
     "name": "stderr",
     "output_type": "stream",
     "text": [
      "Warning message:\n",
      "\"Column `Name` joining factors with different levels, coercing to character vector\"Warning message:\n",
      "\"Column `Major` joining factors with different levels, coercing to character vector\""
     ]
    },
    {
     "data": {
      "text/html": [
       "<table>\n",
       "<thead><tr><th scope=col>Name</th><th scope=col>Major</th><th scope=col>GPA</th><th scope=col>Salary</th></tr></thead>\n",
       "<tbody>\n",
       "\t<tr><td>Mackenzie       </td><td>Human Resources </td><td>3.4             </td><td>54,000          </td></tr>\n",
       "\t<tr><td>Allie           </td><td>Politics and Law</td><td>3.4             </td><td>NA              </td></tr>\n",
       "\t<tr><td>Luke            </td><td>Accounting      </td><td>3.75            </td><td>NA              </td></tr>\n",
       "\t<tr><td>Elijah          </td><td>Actuarial Math  </td><td>3.95            </td><td>70,000          </td></tr>\n",
       "\t<tr><td>Abdallah        </td><td>Marketing       </td><td>3.1             </td><td>NA              </td></tr>\n",
       "\t<tr><td>Jake            </td><td>Actuarial Math  </td><td>NA              </td><td>82,000          </td></tr>\n",
       "\t<tr><td>Fryer           </td><td>Actuarial Math  </td><td>NA              </td><td>68,000          </td></tr>\n",
       "\t<tr><td>Tyler           </td><td>Marketing       </td><td>NA              </td><td>40,000          </td></tr>\n",
       "</tbody>\n",
       "</table>\n"
      ],
      "text/latex": [
       "\\begin{tabular}{r|llll}\n",
       " Name & Major & GPA & Salary\\\\\n",
       "\\hline\n",
       "\t Mackenzie        & Human Resources  & 3.4              & 54,000          \\\\\n",
       "\t Allie            & Politics and Law & 3.4              & NA              \\\\\n",
       "\t Luke             & Accounting       & 3.75             & NA              \\\\\n",
       "\t Elijah           & Actuarial Math   & 3.95             & 70,000          \\\\\n",
       "\t Abdallah         & Marketing        & 3.1              & NA              \\\\\n",
       "\t Jake             & Actuarial Math   & NA               & 82,000          \\\\\n",
       "\t Fryer            & Actuarial Math   & NA               & 68,000          \\\\\n",
       "\t Tyler            & Marketing        & NA               & 40,000          \\\\\n",
       "\\end{tabular}\n"
      ],
      "text/markdown": [
       "\n",
       "Name | Major | GPA | Salary | \n",
       "|---|---|---|---|---|---|---|---|\n",
       "| Mackenzie        | Human Resources  | 3.4              | 54,000           | \n",
       "| Allie            | Politics and Law | 3.4              | NA               | \n",
       "| Luke             | Accounting       | 3.75             | NA               | \n",
       "| Elijah           | Actuarial Math   | 3.95             | 70,000           | \n",
       "| Abdallah         | Marketing        | 3.1              | NA               | \n",
       "| Jake             | Actuarial Math   | NA               | 82,000           | \n",
       "| Fryer            | Actuarial Math   | NA               | 68,000           | \n",
       "| Tyler            | Marketing        | NA               | 40,000           | \n",
       "\n",
       "\n"
      ],
      "text/plain": [
       "  Name      Major            GPA  Salary\n",
       "1 Mackenzie Human Resources  3.4  54,000\n",
       "2 Allie     Politics and Law 3.4  NA    \n",
       "3 Luke      Accounting       3.75 NA    \n",
       "4 Elijah    Actuarial Math   3.95 70,000\n",
       "5 Abdallah  Marketing        3.1  NA    \n",
       "6 Jake      Actuarial Math   NA   82,000\n",
       "7 Fryer     Actuarial Math   NA   68,000\n",
       "8 Tyler     Marketing        NA   40,000"
      ]
     },
     "metadata": {},
     "output_type": "display_data"
    },
    {
     "name": "stderr",
     "output_type": "stream",
     "text": [
      "Warning message:\n",
      "\"Column `Name` joining factors with different levels, coercing to character vector\"Warning message:\n",
      "\"Column `Major` joining factors with different levels, coercing to character vector\""
     ]
    },
    {
     "data": {
      "text/html": [
       "<table>\n",
       "<thead><tr><th scope=col>Name</th><th scope=col>Major</th><th scope=col>GPA</th><th scope=col>Salary</th></tr></thead>\n",
       "<tbody>\n",
       "\t<tr><td>Mackenzie      </td><td>Human Resources</td><td>3.4            </td><td>54,000         </td></tr>\n",
       "\t<tr><td>Elijah         </td><td>Actuarial Math </td><td>3.95           </td><td>70,000         </td></tr>\n",
       "</tbody>\n",
       "</table>\n"
      ],
      "text/latex": [
       "\\begin{tabular}{r|llll}\n",
       " Name & Major & GPA & Salary\\\\\n",
       "\\hline\n",
       "\t Mackenzie       & Human Resources & 3.4             & 54,000         \\\\\n",
       "\t Elijah          & Actuarial Math  & 3.95            & 70,000         \\\\\n",
       "\\end{tabular}\n"
      ],
      "text/markdown": [
       "\n",
       "Name | Major | GPA | Salary | \n",
       "|---|---|\n",
       "| Mackenzie       | Human Resources | 3.4             | 54,000          | \n",
       "| Elijah          | Actuarial Math  | 3.95            | 70,000          | \n",
       "\n",
       "\n"
      ],
      "text/plain": [
       "  Name      Major           GPA  Salary\n",
       "1 Mackenzie Human Resources 3.4  54,000\n",
       "2 Elijah    Actuarial Math  3.95 70,000"
      ]
     },
     "metadata": {},
     "output_type": "display_data"
    },
    {
     "name": "stderr",
     "output_type": "stream",
     "text": [
      "Warning message:\n",
      "\"Column `Name` joining factors with different levels, coercing to character vector\"Warning message:\n",
      "\"Column `Major` joining factors with different levels, coercing to character vector\""
     ]
    },
    {
     "data": {
      "text/html": [
       "<table>\n",
       "<thead><tr><th scope=col>Name</th><th scope=col>Major</th><th scope=col>GPA</th></tr></thead>\n",
       "<tbody>\n",
       "\t<tr><td>Allie           </td><td>Politics and Law</td><td>3.4             </td></tr>\n",
       "\t<tr><td>Luke            </td><td>Accounting      </td><td>3.75            </td></tr>\n",
       "\t<tr><td>Abdallah        </td><td>Marketing       </td><td>3.1             </td></tr>\n",
       "</tbody>\n",
       "</table>\n"
      ],
      "text/latex": [
       "\\begin{tabular}{r|lll}\n",
       " Name & Major & GPA\\\\\n",
       "\\hline\n",
       "\t Allie            & Politics and Law & 3.4             \\\\\n",
       "\t Luke             & Accounting       & 3.75            \\\\\n",
       "\t Abdallah         & Marketing        & 3.1             \\\\\n",
       "\\end{tabular}\n"
      ],
      "text/markdown": [
       "\n",
       "Name | Major | GPA | \n",
       "|---|---|---|\n",
       "| Allie            | Politics and Law | 3.4              | \n",
       "| Luke             | Accounting       | 3.75             | \n",
       "| Abdallah         | Marketing        | 3.1              | \n",
       "\n",
       "\n"
      ],
      "text/plain": [
       "  Name     Major            GPA \n",
       "1 Allie    Politics and Law 3.4 \n",
       "2 Luke     Accounting       3.75\n",
       "3 Abdallah Marketing        3.1 "
      ]
     },
     "metadata": {},
     "output_type": "display_data"
    },
    {
     "name": "stderr",
     "output_type": "stream",
     "text": [
      "Warning message:\n",
      "\"Column `Name` joining factors with different levels, coercing to character vector\"Warning message:\n",
      "\"Column `Major` joining factors with different levels, coercing to character vector\""
     ]
    },
    {
     "data": {
      "text/html": [
       "<table>\n",
       "<thead><tr><th scope=col>Name</th><th scope=col>Major</th><th scope=col>GPA</th></tr></thead>\n",
       "<tbody>\n",
       "\t<tr><td>Mackenzie      </td><td>Human Resources</td><td>3.4            </td></tr>\n",
       "\t<tr><td>Elijah         </td><td>Actuarial Math </td><td>3.95           </td></tr>\n",
       "</tbody>\n",
       "</table>\n"
      ],
      "text/latex": [
       "\\begin{tabular}{r|lll}\n",
       " Name & Major & GPA\\\\\n",
       "\\hline\n",
       "\t Mackenzie       & Human Resources & 3.4            \\\\\n",
       "\t Elijah          & Actuarial Math  & 3.95           \\\\\n",
       "\\end{tabular}\n"
      ],
      "text/markdown": [
       "\n",
       "Name | Major | GPA | \n",
       "|---|---|\n",
       "| Mackenzie       | Human Resources | 3.4             | \n",
       "| Elijah          | Actuarial Math  | 3.95            | \n",
       "\n",
       "\n"
      ],
      "text/plain": [
       "  Name      Major           GPA \n",
       "1 Mackenzie Human Resources 3.4 \n",
       "2 Elijah    Actuarial Math  3.95"
      ]
     },
     "metadata": {},
     "output_type": "display_data"
    },
    {
     "name": "stdout",
     "output_type": "stream",
     "text": [
      "[1] \"By using 2 keys the datasets are cleaner because the majors aren't repeated \"\n"
     ]
    }
   ],
   "source": [
    "left_join(d1, d2, by = c('Name', 'Major')) #Adds columns from d2 to d1\n",
    "right_join(d1, d2, by = c('Name', 'Major')) #Adds columns from d1 to d2\n",
    "full_join(d1, d2, by = c('Name', 'Major')) #Combines all information from d1 and d2\n",
    "inner_join(d1, d2, by = c('Name', 'Major')) #Combines all information from d1 and d2 for observations in both datasets\n",
    "anti_join(d1, d2, by = c('Name', 'Major')) #Displays information from d1, but removes observations that are also in d2\n",
    "semi_join(d1, d2, by = c('Name', 'Major')) #Displays information from d1, but removes observations that are not in d2\n",
    "\n",
    "print(\"By using 2 keys the datasets are cleaner because the majors aren't repeated \")"
   ]
  }
 ],
 "metadata": {
  "kernelspec": {
   "display_name": "R",
   "language": "R",
   "name": "ir"
  },
  "language_info": {
   "codemirror_mode": "r",
   "file_extension": ".r",
   "mimetype": "text/x-r-source",
   "name": "R",
   "pygments_lexer": "r",
   "version": "3.5.1"
  }
 },
 "nbformat": 4,
 "nbformat_minor": 2
}
