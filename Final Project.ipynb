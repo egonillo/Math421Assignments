{
 "cells": [
  {
   "cell_type": "markdown",
   "metadata": {},
   "source": [
    "# Final Project: Will Kobe Make his Shot?"
   ]
  },
  {
   "cell_type": "markdown",
   "metadata": {},
   "source": [
    "## Introduction"
   ]
  },
  {
   "cell_type": "markdown",
   "metadata": {},
   "source": [
    "### In this project I try to predict whether or not Kobe Bryant will make a shot in a basketball game.  While Kobe does not play anymore, this is relevant for basketball in general as it can be used for other players besides Kobe.  This is be because by builiding the best model with Kobe's data, I can apply the same model to others in order to predict their shots. As I got this dataset from a contest on Kaggle, there are many other projects similar to mine on the website."
   ]
  },
  {
   "cell_type": "markdown",
   "metadata": {},
   "source": [
    "### As stated before, the dataset was obtained from Kaggle. The dataset had 30697 observations. The target variable is shot_made_flag, which indicates whether or not a shot went in.  Additionally, there are 24 other input variables used to predict shot_made_flag. Below the variables are listed alongside their description. Additionally, i created a new variable called Home/Away that I got from the info in the matchup variable.\n",
    "\n",
    "#### action_type, action taken to shoot (character)\n",
    "#### combined_shot_type, tpye of shot (character)\n",
    "#### game_event_id, id of specific event in the game (numeric)\n",
    "#### game_id, id of game (numeric)\n",
    "#### lat, latitude of shot taken (numeric)\n",
    "#### loc_x, location on width of court (numeric)\n",
    "#### loc_y, location on length of court (numeric)\n",
    "#### lon, longitude of shot taken (numeric)\n",
    "#### minutes_remaining, minutes remaining in quarter (numeric)\n",
    "#### period, period of the game (numeric)\n",
    "#### playoffs, whether or not it was a playoff game (numeric)\n",
    "#### season, season of basketball (character)\n",
    "#### seconds_remaining, seconds left in minute (numeric)\n",
    "#### shot_distance, distance of shot (numeric)\n",
    "#### shot_type, whether it was 2pt or 3pt (character)\n",
    "#### shot_zone_area, what area on the court the shot was taken from (character)\n",
    "#### shot_zone_basic, different classification on area of the court the shot was taken from (character)\n",
    "#### shot_zone_range, distance range the shot was taken from (character)\n",
    "#### team_id, id of team being played for (numeric)\n",
    "#### team_name, name of team being played for (character)\n",
    "#### game_date, date of game (date)\n",
    "#### matchup, both teams in game (character)\n",
    "#### opponent, opponent (character)\n",
    "#### shot_id, id number of shot in game (numeric)"
   ]
  },
  {
   "cell_type": "markdown",
   "metadata": {},
   "source": [
    "### When loading the data into R I got rid of some irrelevant variables and changed others to be more useful.  I dropped the variable matchup, as my new Home/Away variable was all I needed, action_type, as combined_shot_type was just a more condensed list of this variable, latitude and longitude, as they were just linear transformations of loc_x and loc_y, and minutes_remaining and seconds_remaining, as I combined them to create time_remaining_s, the time remaining in seconds.  Lastly, I removed the 5 id variables.  The code for this can be seen below. This left me with 15 input variables.\n",
    "\n",
    "### Also, 5000 shots were missing target variables so I deleted them and I replaced blank spaces with NA as well. "
   ]
  },
  {
   "cell_type": "code",
   "execution_count": 25,
   "metadata": {},
   "outputs": [
    {
     "name": "stdout",
     "output_type": "stream",
     "text": [
      "'data.frame':\t25697 obs. of  16 variables:\n",
      " $ combined_shot_type: Factor w/ 7 levels \"\",\"Bank Shot\",..: 5 5 5 3 5 6 5 5 5 5 ...\n",
      " $ loc_x             : int  -157 -101 138 0 -145 0 -65 -33 -94 121 ...\n",
      " $ loc_y             : int  0 135 175 0 -11 0 108 125 238 127 ...\n",
      " $ period            : int  1 1 1 2 3 3 3 3 3 1 ...\n",
      " $ playoffs          : int  0 0 0 0 0 0 0 0 0 0 ...\n",
      " $ season            : Factor w/ 21 levels \"\",\"1996-97\",\"1997-98\",..: 6 6 6 6 6 6 6 6 6 6 ...\n",
      " $ shot_distance     : int  15 16 22 0 14 0 12 12 25 17 ...\n",
      " $ shot_made_flag    : int  0 1 0 1 0 1 1 0 0 1 ...\n",
      " $ shot_type         : Factor w/ 3 levels \"\",\"2PT Field Goal\",..: 2 2 2 2 2 2 NA 2 3 2 ...\n",
      " $ shot_zone_area    : Factor w/ 7 levels \"\",\"Back Court(BC)\",..: 5 4 6 3 5 3 5 3 4 6 ...\n",
      " $ shot_zone_basic   : Factor w/ 8 levels \"\",\"Above the Break 3\",..: 6 6 6 7 6 7 4 4 2 6 ...\n",
      " $ shot_zone_range   : Factor w/ 6 levels \"\",\"16-24 ft.\",..: 4 2 2 6 4 6 4 4 3 2 ...\n",
      " $ game_date         : Factor w/ 1560 levels \"\",\"1/1/2010\",..: 252 252 252 252 252 252 252 252 252 256 ...\n",
      " $ opponent          : Factor w/ 34 levels \"\",\"ATL\",\"BKN\",..: 27 27 27 27 27 27 27 27 27 32 ...\n",
      " $ Home_Away         : Factor w/ 3 levels \"\",\"Away\",\"Home\": 2 2 2 2 2 2 2 2 2 3 ...\n",
      " $ time_remaining_s  : num  622 465 412 379 572 532 372 216 116 660 ...\n"
     ]
    }
   ],
   "source": [
    "Kobe = read.csv(\"Kobeshots.csv\")\n",
    "Kobe[Kobe == \"\"] = NA \n",
    "\n",
    "Kobe$action_type = NULL #Expanded version of combined_shot_type\n",
    "Kobe$game_event_id = NULL #id variable\n",
    "Kobe$game_id = NULL #id variable\n",
    "Kobe$lat = NULL #linear transformation of loc_x\n",
    "Kobe$lon = NULL #linear transformation of loc_y\n",
    "Kobe$time_remaining_s = Kobe$minutes_remaining*60 + Kobe$seconds_remaining\n",
    "Kobe$team_id = NULL #id variable\n",
    "Kobe$team_name = NULL #Lakers every time\n",
    "Kobe$matchup = NULL #Data taken care of by other variables\n",
    "Kobe$shot_id = NULL #id variable\n",
    "Kobe$minutes_remaining = NULL\n",
    "Kobe$seconds_remaining = NULL\n",
    "\n",
    "Kobe = Kobe[complete.cases(Kobe$shot_made_flag),]\n",
    "\n",
    "str(Kobe)"
   ]
  },
  {
   "cell_type": "markdown",
   "metadata": {},
   "source": [
    "### Next, I changed the format of some of some variables.  I changed the variables playoffs, period, and shot_made_flag to factor variables.  I also changed time_remaining_s and game_date to integers.  The last thing I did was change the playoffs and shot_made_flag variables to \"Yes\" and \"No\" and \"Made\" and \"Missed\" rather than \"1\" and \"0\" so they are more legible. "
   ]
  },
  {
   "cell_type": "code",
   "execution_count": 26,
   "metadata": {},
   "outputs": [
    {
     "data": {
      "text/html": [
       "<ol class=list-inline>\n",
       "\t<li>'0'</li>\n",
       "\t<li>'1'</li>\n",
       "</ol>\n"
      ],
      "text/latex": [
       "\\begin{enumerate*}\n",
       "\\item '0'\n",
       "\\item '1'\n",
       "\\end{enumerate*}\n"
      ],
      "text/markdown": [
       "1. '0'\n",
       "2. '1'\n",
       "\n",
       "\n"
      ],
      "text/plain": [
       "[1] \"0\" \"1\""
      ]
     },
     "metadata": {},
     "output_type": "display_data"
    },
    {
     "data": {
      "text/html": [
       "<ol class=list-inline>\n",
       "\t<li>'0'</li>\n",
       "\t<li>'1'</li>\n",
       "</ol>\n"
      ],
      "text/latex": [
       "\\begin{enumerate*}\n",
       "\\item '0'\n",
       "\\item '1'\n",
       "\\end{enumerate*}\n"
      ],
      "text/markdown": [
       "1. '0'\n",
       "2. '1'\n",
       "\n",
       "\n"
      ],
      "text/plain": [
       "[1] \"0\" \"1\""
      ]
     },
     "metadata": {},
     "output_type": "display_data"
    },
    {
     "name": "stdout",
     "output_type": "stream",
     "text": [
      "'data.frame':\t25697 obs. of  16 variables:\n",
      " $ combined_shot_type: Factor w/ 7 levels \"\",\"Bank Shot\",..: 5 5 5 3 5 6 5 5 5 5 ...\n",
      " $ loc_x             : int  -157 -101 138 0 -145 0 -65 -33 -94 121 ...\n",
      " $ loc_y             : int  0 135 175 0 -11 0 108 125 238 127 ...\n",
      " $ period            : Factor w/ 7 levels \"1\",\"2\",\"3\",\"4\",..: 1 1 1 2 3 3 3 3 3 1 ...\n",
      " $ playoffs          : Factor w/ 2 levels \"No\",\"Yes\": 1 1 1 1 1 1 1 1 1 1 ...\n",
      " $ season            : Factor w/ 21 levels \"\",\"1996-97\",\"1997-98\",..: 6 6 6 6 6 6 6 6 6 6 ...\n",
      " $ shot_distance     : int  15 16 22 0 14 0 12 12 25 17 ...\n",
      " $ shot_made_flag    : Factor w/ 2 levels \"Missed\",\"Made\": 1 2 1 2 1 2 2 1 1 2 ...\n",
      " $ shot_type         : Factor w/ 3 levels \"\",\"2PT Field Goal\",..: 2 2 2 2 2 2 NA 2 3 2 ...\n",
      " $ shot_zone_area    : Factor w/ 7 levels \"\",\"Back Court(BC)\",..: 5 4 6 3 5 3 5 3 4 6 ...\n",
      " $ shot_zone_basic   : Factor w/ 8 levels \"\",\"Above the Break 3\",..: 6 6 6 7 6 7 4 4 2 6 ...\n",
      " $ shot_zone_range   : Factor w/ 6 levels \"\",\"16-24 ft.\",..: 4 2 2 6 4 6 4 4 3 2 ...\n",
      " $ game_date         : int  11261 11261 11261 11261 11261 11261 11261 11261 11261 11262 ...\n",
      " $ opponent          : Factor w/ 34 levels \"\",\"ATL\",\"BKN\",..: 27 27 27 27 27 27 27 27 27 32 ...\n",
      " $ Home_Away         : Factor w/ 3 levels \"\",\"Away\",\"Home\": 2 2 2 2 2 2 2 2 2 3 ...\n",
      " $ time_remaining_s  : int  622 465 412 379 572 532 372 216 116 660 ...\n"
     ]
    }
   ],
   "source": [
    "Kobe$playoffs = as.factor(Kobe$playoffs)\n",
    "Kobe$period = as.factor(Kobe$period)\n",
    "Kobe$shot_made_flag = as.factor(Kobe$shot_made_flag)\n",
    "Kobe$time_remaining_s = as.integer(Kobe$time_remaining_s)\n",
    "Kobe$game_date = as.integer(as.Date(Kobe$game_date, \"%m/%d/%Y\")) #Date changed to numeric\n",
    "\n",
    "levels(Kobe$playoffs)\n",
    "levels(Kobe$playoffs) = c(\"No\", \"Yes\")\n",
    "\n",
    "levels(Kobe$shot_made_flag)\n",
    "levels(Kobe$shot_made_flag) = c(\"Missed\", \"Made\")\n",
    "\n",
    "str(Kobe)"
   ]
  },
  {
   "cell_type": "markdown",
   "metadata": {},
   "source": [
    "## Data Exploration and Visualization"
   ]
  },
  {
   "cell_type": "markdown",
   "metadata": {},
   "source": [
    "### Once I was satisfied with the data I created a bar chart of the target variable to see whether or not it was imbalanced.  From this graph I found it was not imbalanced with an event rate of .446161.  This translates to Kobe having a 44.62% shooting rate throughout his career."
   ]
  },
  {
   "cell_type": "code",
   "execution_count": 27,
   "metadata": {},
   "outputs": [
    {
     "data": {},
     "metadata": {},
     "output_type": "display_data"
    },
    {
     "name": "stdout",
     "output_type": "stream",
     "text": [
      "[1] \"Percent of positives\"\n",
      "[1] 0.446161\n",
      "[1] \"No need to under or over sample\"\n"
     ]
    },
    {
     "data": {
      "image/png": "[encoded data removed]",
      "text/plain": [
       "plot without title"
      ]
     },
     "metadata": {},
     "output_type": "display_data",
     "source": "R display func"
    }
   ],
   "source": [
    "library(ggplot2)\n",
    "library(dplyr)\n",
    "ggplot(Kobe) + geom_bar(mapping = aes(x= Kobe$shot_made_flag, fill = NULL),na.rm = TRUE)+labs(x = names(Kobe$shot_made_flag), fill = NULL)\n",
    "\n",
    "targetpercent = nrow(Kobe[Kobe$shot_made_flag == \"Made\",])/nrow(Kobe)\n",
    "\n",
    "print(\"Percent of positives\")\n",
    "print(targetpercent)\n",
    "print(\"No need to under or over sample\")"
   ]
  },
  {
   "cell_type": "markdown",
   "metadata": {},
   "source": [
    "### Next I graphed the target variable against the categorical input variables.  My comments for each are as follows.  \n",
    "#### shot_made_flag vs combined_shot_type: From this graph one can see that his most frequent shot is a jump shot, his dunk percentage is almost perfect, and his layup percentage is high as well.\n",
    "#### shot_made_flag vs period: More shots taken in 1st and 3rd period.  Least number of shots made in the 4th period. \n",
    "#### shot_made_flag vs playoffs: Obviously less shots taken in the playoffs due to more regular season time.\n",
    "#### shot_made_flag vs season: Shots taken is highest in the middle of career with dip in the middle, potentially due to injury. Percentage looks consistent overall with dips and spikes here and there. \n",
    "#### shot_made_flag vs shot_type: Higher percentage of 2 pointers made and more 2 pointers overall taken.\n",
    "#### shot_made_flag vs shot_zone_area: More shots taken in center and it appears percentage goes up when closer to center.\n",
    "#### shot_made_flag vs shot_zone_basic: Again, more shots made when closer to basket.  Most shots taken are mid-range.\n",
    "#### shot_made_flag vs shot_zone_range: Higher percentage made when in closer range.\n",
    "#### shot_made_flag vs oppenent: More shots taken against teams in division. Has better shooting percentage against some teams, but no real pattern to it.\n",
    "#### shot_made_flag vs Home_Away: Slightly better shooting percentage at home."
   ]
  },
  {
   "cell_type": "code",
   "execution_count": 28,
   "metadata": {},
   "outputs": [
    {
     "data": {
      "image/png": "[encoded data removed]",
      "text/plain": [
       "plot without title"
      ]
     },
     "metadata": {},
     "output_type": "display_data",
     "source": "R display func"
    },
    {
     "data": {
      "image/png": "[encoded data removed]",
      "text/plain": [
       "plot without title"
      ]
     },
     "metadata": {},
     "output_type": "display_data",
     "source": "R display func"
    },
    {
     "data": {
      "image/png": "[encoded data removed]",
      "text/plain": [
       "plot without title"
      ]
     },
     "metadata": {},
     "output_type": "display_data",
     "source": "R display func"
    },
    {
     "data": {
      "image/png": "[encoded data removed]",
      "text/plain": [
       "plot without title"
      ]
     },
     "metadata": {},
     "output_type": "display_data",
     "source": "R display func"
    },
    {
     "data": {
      "image/png": "[encoded data removed]",
      "text/plain": [
       "plot without title"
      ]
     },
     "metadata": {},
     "output_type": "display_data",
     "source": "R display func"
    },
    {
     "data": {
      "image/png": "[encoded data removed]",
      "text/plain": [
       "plot without title"
      ]
     },
     "metadata": {},
     "output_type": "display_data",
     "source": "R display func"
    },
    {
     "data": {
      "image/png": "[encoded data removed]",
      "text/plain": [
       "plot without title"
      ]
     },
     "metadata": {},
     "output_type": "display_data",
     "source": "R display func"
    },
    {
     "data": {
      "image/png": "[encoded data removed]",
      "text/plain": [
       "plot without title"
      ]
     },
     "metadata": {},
     "output_type": "display_data",
     "source": "R display func"
    },
    {
     "data": {
      "image/png": "[encoded data removed]",
      "text/plain": [
       "plot without title"
      ]
     },
     "metadata": {},
     "output_type": "display_data",
     "source": "R display func"
    },
    {
     "data": {
      "image/png": "[encoded data removed]",
      "text/plain": [
       "plot without title"
      ]
     },
     "metadata": {},
     "output_type": "display_data",
     "source": "R display func"
    }
   ],
   "source": [
    "j = 8\n",
    "for(i in 1:ncol(Kobe))\n",
    "        {if(is.numeric(Kobe[,i]) == FALSE & i != j)\n",
    "        {print(ggplot(Kobe) + geom_bar(mapping = aes(x=Kobe[,i], fill = Kobe$shot_made_flag),na.rm = TRUE)+theme(axis.text.x = element_text(angle = 90, hjust = 1))+labs(x = names(Kobe)[i], fill = names(Kobe$shot_made_flag), title = paste(names(Kobe)[i],\"vs\", names(Kobe)[8])))}\n",
    "      }"
   ]
  },
  {
   "cell_type": "markdown",
   "metadata": {},
   "source": [
    "### Next I graphed the taget variable against the numeric input variables.  The comments for each graph are as follows.\n",
    "#### shot_made_flag vs loc_x: Shows when location x is closer to 0, closer to the hoop, more shots are taken and shooting percentage increases. \n",
    "#### shot_made_flag vs loc_y: Shows when location y is closer to 0, closer to the hoop, more shots are taken and shooting percentage increases. \n",
    "#### shot_made_flag vs shot_distance: Shows percentage increases when shots are taken closer to the hoop.  Also shows there are a lot of shots taken from the 15 to 30 ft range.\n",
    "#### shot_made_flag vs game_date: Similar to season graph. More shots taken in middle of career and what seem to be random increases and decreases in the percentage throughout. \n",
    "#### shot_made_flag vs time_remaining_s: shots taken decrease as period goes on.  Shots missed spike in the beginning and end of a period."
   ]
  },
  {
   "cell_type": "code",
   "execution_count": 29,
   "metadata": {},
   "outputs": [
    {
     "name": "stderr",
     "output_type": "stream",
     "text": [
      "Warning message:\n",
      "\"Removed 478 rows containing non-finite values (stat_density).\"Warning message:\n",
      "\"Removed 478 rows containing non-finite values (stat_density).\""
     ]
    },
    {
     "data": {
      "image/png": "[encoded data removed]",
      "text/plain": [
       "plot without title"
      ]
     },
     "metadata": {},
     "output_type": "display_data",
     "source": "R display func"
    },
    {
     "name": "stderr",
     "output_type": "stream",
     "text": [
      "Warning message:\n",
      "\"Removed 525 rows containing non-finite values (stat_density).\""
     ]
    },
    {
     "data": {
      "image/png": "[encoded data removed]",
      "text/plain": [
       "plot without title"
      ]
     },
     "metadata": {},
     "output_type": "display_data",
     "source": "R display func"
    },
    {
     "name": "stderr",
     "output_type": "stream",
     "text": [
      "Warning message:\n",
      "\"Removed 484 rows containing non-finite values (stat_density).\""
     ]
    },
    {
     "data": {
      "image/png": "[encoded data removed]",
      "text/plain": [
       "plot without title"
      ]
     },
     "metadata": {},
     "output_type": "display_data",
     "source": "R display func"
    },
    {
     "name": "stderr",
     "output_type": "stream",
     "text": [
      "Warning message:\n",
      "\"Removed 1026 rows containing non-finite values (stat_density).\""
     ]
    },
    {
     "data": {
      "image/png": "[encoded data removed]",
      "text/plain": [
       "plot without title"
      ]
     },
     "metadata": {},
     "output_type": "display_data",
     "source": "R display func"
    },
    {
     "data": {
      "image/png": "[encoded data removed]",
      "text/plain": [
       "plot without title"
      ]
     },
     "metadata": {},
     "output_type": "display_data",
     "source": "R display func"
    }
   ],
   "source": [
    "j =8 \n",
    "for (i in 1:ncol(Kobe))\n",
    "  {if(is.numeric(Kobe[,i]) == TRUE & i != j)\n",
    "  {print(ggplot(Kobe) + geom_density(mapping = aes(x=Kobe[,i],  color = Kobe[,8]))+theme(axis.text.x = element_text(angle = 90, hjust = 1))+labs(x = names(Kobe)[i],color = names(Kobe[8]),title = paste(names(Kobe)[i],\"vs\", names(Kobe)[8])))}\n",
    "  }"
   ]
  },
  {
   "cell_type": "markdown",
   "metadata": {},
   "source": [
    "### Next, I graphed the loc_x and loc_y variables, classifying by the variables shot_type, shot_zone_area, shot_zone_basic, shot_range, and combined_shot_type.  This created a graph of halfcourt and labeled each shot based on the classification variable selected.  I found this showed me the difference between these variables.  Comments are below.\n",
    "#### Court location vs Shot_Type: Shows court diagram with 3pt line seperating 3 pointers and 2 pointers.\n",
    "#### Court location vs shot_zone_area: Shows court diagram seperated by what seems to be 6 distinct areas and the backcourt.\n",
    "#### Court location vs shot_zone_basic: Shows court diagram seperated by restricted area, paint, midrange, left corner, right corner, 3pt line, and backcourt.\n",
    "#### Court location vs shot_zone_range: Shows court diagram seperated by shot ranges.\n",
    "#### Court location vs combined_shot_type: Shows court diagram and that a majority of shots are jumpshots."
   ]
  },
  {
   "cell_type": "code",
   "execution_count": 30,
   "metadata": {},
   "outputs": [
    {
     "data": {
      "image/png": "[encoded data removed]",
      "text/plain": [
       "plot without title"
      ]
     },
     "metadata": {},
     "output_type": "display_data",
     "source": "R display func"
    },
    {
     "data": {
      "image/png": "[encoded data removed]",
      "text/plain": [
       "plot without title"
      ]
     },
     "metadata": {},
     "output_type": "display_data",
     "source": "R display func"
    },
    {
     "data": {
      "image/png": "[encoded data removed]",
      "text/plain": [
       "plot without title"
      ]
     },
     "metadata": {},
     "output_type": "display_data",
     "source": "R display func"
    },
    {
     "data": {
      "image/png": "[encoded data removed]",
      "text/plain": [
       "plot without title"
      ]
     },
     "metadata": {},
     "output_type": "display_data",
     "source": "R display func"
    },
    {
     "data": {
      "image/png": "[encoded data removed]",
      "text/plain": [
       "plot without title"
      ]
     },
     "metadata": {},
     "output_type": "display_data",
     "source": "R display func"
    }
   ],
   "source": [
    "  print(ggplot(Kobe) + geom_point(mapping = aes(x=Kobe$loc_y, y = Kobe$loc_x , color = Kobe$shot_type),na.rm = TRUE)+labs(x = names(Kobe[3]), y = names(Kobe[2]), title = paste(\"Court Location &\", names(Kobe[9]))))\n",
    "\n",
    "  print(ggplot(Kobe) + geom_point(mapping = aes(x=Kobe$loc_y, y = Kobe$loc_x , color = Kobe$shot_zone_area),na.rm = TRUE)+labs(x = names(Kobe[3]), y = names(Kobe[2]), title = paste(\"Court Location &\", names(Kobe[10]))))\n",
    "  \n",
    "  print(ggplot(Kobe) + geom_point(mapping = aes(x=Kobe$loc_y, y = Kobe$loc_x , color = Kobe$shot_zone_basic),na.rm = TRUE)+labs(x = names(Kobe[3]), y = names(Kobe[2]), title = paste(\"Court Location &\", names(Kobe[11]))))\n",
    "  \n",
    "  print(ggplot(Kobe) + geom_point(mapping = aes(x=Kobe$loc_y, y = Kobe$loc_x , color = Kobe$shot_zone_range),na.rm = TRUE)+labs(x = names(Kobe[3]), y = names(Kobe[2]), title = paste(\"Court Location &\", names(Kobe[12]))))\n",
    "\n",
    "   print(ggplot(Kobe) + geom_point(mapping = aes(x=Kobe$loc_y, y = Kobe$loc_x , color = Kobe$combined_shot_type),na.rm = TRUE)+labs(x = names(Kobe[3]), y = names(Kobe[2]), title = paste(\"Court Location &\", names(Kobe[1]))))"
   ]
  },
  {
   "cell_type": "markdown",
   "metadata": {},
   "source": [
    "### The last graphs I made measured the different shot classifications by shot_distance. Comments for each graph can be found below.\n",
    "#### shot_distance vs Shot_Type: Shows 3 pointers start around 22 feet from basket. \n",
    "#### shot_distance vs shot_zone_area: Shows center is closest to basket, followed by left center and right center, then right and left, and finally backcourt. \n",
    "#### shot_distance vs shot_zone_basic: Shows how far the restricted area, paint, midrange, left corner, right corner, 3pt line, and backcourt are from basket. \n",
    "#### shot_distance vs shot_zone_range: Shows the density of distances in each range. \n",
    "#### shot_distance vs combined_shot_type: Shows tips, dunks, and layups are very close to basket while hook, jump, and bankshots are not."
   ]
  },
  {
   "cell_type": "code",
   "execution_count": 31,
   "metadata": {},
   "outputs": [
    {
     "name": "stderr",
     "output_type": "stream",
     "text": [
      "Warning message:\n",
      "\"Removed 525 rows containing non-finite values (stat_density).\"Warning message:\n",
      "\"Removed 525 rows containing non-finite values (stat_density).\""
     ]
    },
    {
     "data": {
      "image/png": "[encoded data removed]",
      "text/plain": [
       "plot without title"
      ]
     },
     "metadata": {},
     "output_type": "display_data",
     "source": "R display func"
    },
    {
     "name": "stderr",
     "output_type": "stream",
     "text": [
      "Warning message:\n",
      "\"Removed 525 rows containing non-finite values (stat_density).\""
     ]
    },
    {
     "data": {
      "image/png": "[encoded data removed]",
      "text/plain": [
       "plot without title"
      ]
     },
     "metadata": {},
     "output_type": "display_data",
     "source": "R display func"
    },
    {
     "name": "stderr",
     "output_type": "stream",
     "text": [
      "Warning message:\n",
      "\"Removed 525 rows containing non-finite values (stat_density).\""
     ]
    },
    {
     "data": {
      "image/png": "[encoded data removed]",
      "text/plain": [
       "plot without title"
      ]
     },
     "metadata": {},
     "output_type": "display_data",
     "source": "R display func"
    },
    {
     "name": "stderr",
     "output_type": "stream",
     "text": [
      "Warning message:\n",
      "\"Removed 525 rows containing non-finite values (stat_density).\""
     ]
    },
    {
     "data": {
      "image/png": "[encoded data removed]",
      "text/plain": [
       "plot without title"
      ]
     },
     "metadata": {},
     "output_type": "display_data",
     "source": "R display func"
    },
    {
     "data": {
      "image/png": "[encoded data removed]",
      "text/plain": [
       "plot without title"
      ]
     },
     "metadata": {},
     "output_type": "display_data",
     "source": "R display func"
    }
   ],
   "source": [
    "print(ggplot(Kobe) + geom_density(mapping = aes(x=Kobe[,7],  color = Kobe[,9]))+theme(axis.text.x = element_text(angle = 90, hjust = 1))+labs(x = names(Kobe)[7],color = names(Kobe[9]),title = paste(names(Kobe)[7],\"vs\", names(Kobe)[9])))\n",
    "\n",
    "print(ggplot(Kobe) + geom_density(mapping = aes(x=Kobe[,7],  color = Kobe[,10]))+theme(axis.text.x = element_text(angle = 90, hjust = 1))+labs(x = names(Kobe)[7],color = names(Kobe[10]),title = paste(names(Kobe)[7],\"vs\", names(Kobe)[10])))\n",
    "\n",
    "print(ggplot(Kobe) + geom_density(mapping = aes(x=Kobe[,7],  color = Kobe[,11]))+theme(axis.text.x = element_text(angle = 90, hjust = 1))+labs(x = names(Kobe)[7],color = names(Kobe[11]),title = paste(names(Kobe)[7],\"vs\", names(Kobe)[11])))\n",
    "\n",
    "print(ggplot(Kobe) + geom_density(mapping = aes(x=Kobe[,7],  color = Kobe[,12]))+theme(axis.text.x = element_text(angle = 90, hjust = 1))+labs(x = names(Kobe)[12],color = names(Kobe[9]),title = paste(names(Kobe)[7],\"vs\", names(Kobe)[12])))\n",
    "\n",
    "print(ggplot(Kobe) + geom_density(mapping = aes(x=Kobe[,7],  color = Kobe[,1]))+theme(axis.text.x = element_text(angle = 90, hjust = 1))+labs(x = names(Kobe)[1],color = names(Kobe[9]),title = paste(names(Kobe)[7],\"vs\", names(Kobe)[1])))"
   ]
  },
  {
   "cell_type": "markdown",
   "metadata": {},
   "source": [
    "## Handling Missing Values"
   ]
  },
  {
   "cell_type": "markdown",
   "metadata": {},
   "source": [
    "### The next step was to handle missing values.  I tried three different approaches.  The first was to simply remove all missing values with the complete cases function.  This left me with the Kobe_CC subset.  The second was to replace categorical missing values with their variable's mode and numeric missing values with the variables Median.  This left me with the subset Kobe_Med.  The last was to replace categorical missing values with their variable's mode and numeric missing values with knn imputation, centering and scaling the variables and replacing missing values with values of similar observations.  This left me with my third subset Kobe_knn.  "
   ]
  },
  {
   "cell_type": "code",
   "execution_count": 32,
   "metadata": {},
   "outputs": [
    {
     "data": {
      "text/html": [
       "8120"
      ],
      "text/latex": [
       "8120"
      ],
      "text/markdown": [
       "8120"
      ],
      "text/plain": [
       "[1] 8120"
      ]
     },
     "metadata": {},
     "output_type": "display_data"
    },
    {
     "data": {
      "text/html": [
       "0"
      ],
      "text/latex": [
       "0"
      ],
      "text/markdown": [
       "0"
      ],
      "text/plain": [
       "[1] 0"
      ]
     },
     "metadata": {},
     "output_type": "display_data"
    }
   ],
   "source": [
    "sum(is.na(Kobe))\n",
    "KobeCC = Kobe[complete.cases(Kobe),]\n",
    "sum(is.na(KobeCC))"
   ]
  },
  {
   "cell_type": "code",
   "execution_count": 33,
   "metadata": {},
   "outputs": [
    {
     "data": {
      "text/html": [
       "0"
      ],
      "text/latex": [
       "0"
      ],
      "text/markdown": [
       "0"
      ],
      "text/plain": [
       "[1] 0"
      ]
     },
     "metadata": {},
     "output_type": "display_data"
    }
   ],
   "source": [
    "calculate_mode <- function(x) {\n",
    "  uniqx <- unique(x)\n",
    "  uniqx[which.max(tabulate(match(x, uniqx)))]\n",
    "}\n",
    "\n",
    "KobeMed = Kobe \n",
    "\n",
    "for(i in 1:ncol(KobeMed))\n",
    "{\n",
    "if(is.numeric(KobeMed[,i])==FALSE)\n",
    "{KobeMed[,i][is.na(KobeMed[,i])] <-  calculate_mode(KobeMed[,i])}\n",
    "}\n",
    "\n",
    "library(rpart)\n",
    "library(caret)\n",
    "preProcess_missingdata_model <- preProcess(KobeMed, method='medianImpute')\n",
    "KobeMed <- predict(preProcess_missingdata_model, newdata = KobeMed)\n",
    "\n",
    "sum(is.na(KobeMed))"
   ]
  },
  {
   "cell_type": "code",
   "execution_count": 34,
   "metadata": {},
   "outputs": [
    {
     "data": {
      "text/html": [
       "0"
      ],
      "text/latex": [
       "0"
      ],
      "text/markdown": [
       "0"
      ],
      "text/plain": [
       "[1] 0"
      ]
     },
     "metadata": {},
     "output_type": "display_data"
    }
   ],
   "source": [
    "Kobeknn = Kobe \n",
    "\n",
    "for(i in 1:ncol(Kobeknn))\n",
    "{\n",
    "if(is.numeric(Kobeknn[,i])==FALSE)\n",
    "{Kobeknn[,i][is.na(Kobeknn[,i])] <-  calculate_mode(Kobeknn[,i])}\n",
    "}\n",
    "\n",
    "library(rpart)\n",
    "library(caret)\n",
    "preProcess_missingdata_model <- preProcess(Kobeknn, method='knnImpute')\n",
    "Kobeknn <- predict(preProcess_missingdata_model, newdata = Kobeknn)\n",
    "\n",
    "sum(is.na(Kobeknn))"
   ]
  },
  {
   "cell_type": "markdown",
   "metadata": {},
   "source": [
    "### As you will see later on.  These 3 different methods had different impacts on the models I ran.  I found that different missing value treatments actually had different effects on different models.  For the Random Forest, median imputation worked best, followed by knn imputation, followed by complete cases.  For the GLMnet, complete cases worked best, followed by knn impuation, followed by median impuation. For the decision tree there was an interaction between missing value method and encoding method.  For decision trees with single variable encoding, knn imputation worked best, followed by complete cases, followed by median imputation. For decision trees with multi variable encoding, knn and Median imputation were equal, followed by complete cases.  Lastly, for neural networks there was also an interaction between missing value method and encoding method.  For neural networks with single variable encoding, knn imputaion was best, followed by median imputation, followed by complete cases.  For neural networks with multi variable encoding, knn imputation was best, followed by complete cases, followed by median imputation."
   ]
  },
  {
   "cell_type": "markdown",
   "metadata": {},
   "source": [
    "## Recoding"
   ]
  },
  {
   "cell_type": "markdown",
   "metadata": {},
   "source": [
    "### The next thing I did was try and recode categorical variables with over 10 categories.  To do this I recoded season to 90's, 2000-2005, 2006-2010, and post 2010.  I also recoded opponent to Atlantic, Southeast, Central, Northwest, Pacific, Southwest.  By doing this I created 3 new sets of data with recoded values; Kobe_CC_r, Kobe_Med_r, and Kobe_knn_r, in addition to the 3 originals. "
   ]
  },
  {
   "cell_type": "code",
   "execution_count": 35,
   "metadata": {},
   "outputs": [
    {
     "data": {
      "text/html": [
       "<ol class=list-inline>\n",
       "\t<li>''</li>\n",
       "\t<li>'1996-97'</li>\n",
       "\t<li>'1997-98'</li>\n",
       "\t<li>'1998-99'</li>\n",
       "\t<li>'1999-00'</li>\n",
       "\t<li>'2000-01'</li>\n",
       "\t<li>'2001-02'</li>\n",
       "\t<li>'2002-03'</li>\n",
       "\t<li>'2003-04'</li>\n",
       "\t<li>'2004-05'</li>\n",
       "\t<li>'2005-06'</li>\n",
       "\t<li>'2006-07'</li>\n",
       "\t<li>'2007-08'</li>\n",
       "\t<li>'2008-09'</li>\n",
       "\t<li>'2009-10'</li>\n",
       "\t<li>'2010-11'</li>\n",
       "\t<li>'2011-12'</li>\n",
       "\t<li>'2012-13'</li>\n",
       "\t<li>'2013-14'</li>\n",
       "\t<li>'2014-15'</li>\n",
       "\t<li>'2015-16'</li>\n",
       "</ol>\n"
      ],
      "text/latex": [
       "\\begin{enumerate*}\n",
       "\\item ''\n",
       "\\item '1996-97'\n",
       "\\item '1997-98'\n",
       "\\item '1998-99'\n",
       "\\item '1999-00'\n",
       "\\item '2000-01'\n",
       "\\item '2001-02'\n",
       "\\item '2002-03'\n",
       "\\item '2003-04'\n",
       "\\item '2004-05'\n",
       "\\item '2005-06'\n",
       "\\item '2006-07'\n",
       "\\item '2007-08'\n",
       "\\item '2008-09'\n",
       "\\item '2009-10'\n",
       "\\item '2010-11'\n",
       "\\item '2011-12'\n",
       "\\item '2012-13'\n",
       "\\item '2013-14'\n",
       "\\item '2014-15'\n",
       "\\item '2015-16'\n",
       "\\end{enumerate*}\n"
      ],
      "text/markdown": [
       "1. ''\n",
       "2. '1996-97'\n",
       "3. '1997-98'\n",
       "4. '1998-99'\n",
       "5. '1999-00'\n",
       "6. '2000-01'\n",
       "7. '2001-02'\n",
       "8. '2002-03'\n",
       "9. '2003-04'\n",
       "10. '2004-05'\n",
       "11. '2005-06'\n",
       "12. '2006-07'\n",
       "13. '2007-08'\n",
       "14. '2008-09'\n",
       "15. '2009-10'\n",
       "16. '2010-11'\n",
       "17. '2011-12'\n",
       "18. '2012-13'\n",
       "19. '2013-14'\n",
       "20. '2014-15'\n",
       "21. '2015-16'\n",
       "\n",
       "\n"
      ],
      "text/plain": [
       " [1] \"\"        \"1996-97\" \"1997-98\" \"1998-99\" \"1999-00\" \"2000-01\" \"2001-02\"\n",
       " [8] \"2002-03\" \"2003-04\" \"2004-05\" \"2005-06\" \"2006-07\" \"2007-08\" \"2008-09\"\n",
       "[15] \"2009-10\" \"2010-11\" \"2011-12\" \"2012-13\" \"2013-14\" \"2014-15\" \"2015-16\""
      ]
     },
     "metadata": {},
     "output_type": "display_data"
    },
    {
     "data": {
      "text/html": [
       "<ol class=list-inline>\n",
       "\t<li>''</li>\n",
       "\t<li>'ATL'</li>\n",
       "\t<li>'BKN'</li>\n",
       "\t<li>'BOS'</li>\n",
       "\t<li>'CHA'</li>\n",
       "\t<li>'CHI'</li>\n",
       "\t<li>'CLE'</li>\n",
       "\t<li>'DAL'</li>\n",
       "\t<li>'DEN'</li>\n",
       "\t<li>'DET'</li>\n",
       "\t<li>'GSW'</li>\n",
       "\t<li>'HOU'</li>\n",
       "\t<li>'IND'</li>\n",
       "\t<li>'LAC'</li>\n",
       "\t<li>'MEM'</li>\n",
       "\t<li>'MIA'</li>\n",
       "\t<li>'MIL'</li>\n",
       "\t<li>'MIN'</li>\n",
       "\t<li>'NJN'</li>\n",
       "\t<li>'NOH'</li>\n",
       "\t<li>'NOP'</li>\n",
       "\t<li>'NYK'</li>\n",
       "\t<li>'OKC'</li>\n",
       "\t<li>'ORL'</li>\n",
       "\t<li>'PHI'</li>\n",
       "\t<li>'PHX'</li>\n",
       "\t<li>'POR'</li>\n",
       "\t<li>'SAC'</li>\n",
       "\t<li>'SAS'</li>\n",
       "\t<li>'SEA'</li>\n",
       "\t<li>'TOR'</li>\n",
       "\t<li>'UTA'</li>\n",
       "\t<li>'VAN'</li>\n",
       "\t<li>'WAS'</li>\n",
       "</ol>\n"
      ],
      "text/latex": [
       "\\begin{enumerate*}\n",
       "\\item ''\n",
       "\\item 'ATL'\n",
       "\\item 'BKN'\n",
       "\\item 'BOS'\n",
       "\\item 'CHA'\n",
       "\\item 'CHI'\n",
       "\\item 'CLE'\n",
       "\\item 'DAL'\n",
       "\\item 'DEN'\n",
       "\\item 'DET'\n",
       "\\item 'GSW'\n",
       "\\item 'HOU'\n",
       "\\item 'IND'\n",
       "\\item 'LAC'\n",
       "\\item 'MEM'\n",
       "\\item 'MIA'\n",
       "\\item 'MIL'\n",
       "\\item 'MIN'\n",
       "\\item 'NJN'\n",
       "\\item 'NOH'\n",
       "\\item 'NOP'\n",
       "\\item 'NYK'\n",
       "\\item 'OKC'\n",
       "\\item 'ORL'\n",
       "\\item 'PHI'\n",
       "\\item 'PHX'\n",
       "\\item 'POR'\n",
       "\\item 'SAC'\n",
       "\\item 'SAS'\n",
       "\\item 'SEA'\n",
       "\\item 'TOR'\n",
       "\\item 'UTA'\n",
       "\\item 'VAN'\n",
       "\\item 'WAS'\n",
       "\\end{enumerate*}\n"
      ],
      "text/markdown": [
       "1. ''\n",
       "2. 'ATL'\n",
       "3. 'BKN'\n",
       "4. 'BOS'\n",
       "5. 'CHA'\n",
       "6. 'CHI'\n",
       "7. 'CLE'\n",
       "8. 'DAL'\n",
       "9. 'DEN'\n",
       "10. 'DET'\n",
       "11. 'GSW'\n",
       "12. 'HOU'\n",
       "13. 'IND'\n",
       "14. 'LAC'\n",
       "15. 'MEM'\n",
       "16. 'MIA'\n",
       "17. 'MIL'\n",
       "18. 'MIN'\n",
       "19. 'NJN'\n",
       "20. 'NOH'\n",
       "21. 'NOP'\n",
       "22. 'NYK'\n",
       "23. 'OKC'\n",
       "24. 'ORL'\n",
       "25. 'PHI'\n",
       "26. 'PHX'\n",
       "27. 'POR'\n",
       "28. 'SAC'\n",
       "29. 'SAS'\n",
       "30. 'SEA'\n",
       "31. 'TOR'\n",
       "32. 'UTA'\n",
       "33. 'VAN'\n",
       "34. 'WAS'\n",
       "\n",
       "\n"
      ],
      "text/plain": [
       " [1] \"\"    \"ATL\" \"BKN\" \"BOS\" \"CHA\" \"CHI\" \"CLE\" \"DAL\" \"DEN\" \"DET\" \"GSW\" \"HOU\"\n",
       "[13] \"IND\" \"LAC\" \"MEM\" \"MIA\" \"MIL\" \"MIN\" \"NJN\" \"NOH\" \"NOP\" \"NYK\" \"OKC\" \"ORL\"\n",
       "[25] \"PHI\" \"PHX\" \"POR\" \"SAC\" \"SAS\" \"SEA\" \"TOR\" \"UTA\" \"VAN\" \"WAS\""
      ]
     },
     "metadata": {},
     "output_type": "display_data"
    },
    {
     "data": {
      "text/html": [
       "<ol class=list-inline>\n",
       "\t<li>''</li>\n",
       "\t<li>'1996-97'</li>\n",
       "\t<li>'1997-98'</li>\n",
       "\t<li>'1998-99'</li>\n",
       "\t<li>'1999-00'</li>\n",
       "\t<li>'2000-01'</li>\n",
       "\t<li>'2001-02'</li>\n",
       "\t<li>'2002-03'</li>\n",
       "\t<li>'2003-04'</li>\n",
       "\t<li>'2004-05'</li>\n",
       "\t<li>'2005-06'</li>\n",
       "\t<li>'2006-07'</li>\n",
       "\t<li>'2007-08'</li>\n",
       "\t<li>'2008-09'</li>\n",
       "\t<li>'2009-10'</li>\n",
       "\t<li>'2010-11'</li>\n",
       "\t<li>'2011-12'</li>\n",
       "\t<li>'2012-13'</li>\n",
       "\t<li>'2013-14'</li>\n",
       "\t<li>'2014-15'</li>\n",
       "\t<li>'2015-16'</li>\n",
       "</ol>\n"
      ],
      "text/latex": [
       "\\begin{enumerate*}\n",
       "\\item ''\n",
       "\\item '1996-97'\n",
       "\\item '1997-98'\n",
       "\\item '1998-99'\n",
       "\\item '1999-00'\n",
       "\\item '2000-01'\n",
       "\\item '2001-02'\n",
       "\\item '2002-03'\n",
       "\\item '2003-04'\n",
       "\\item '2004-05'\n",
       "\\item '2005-06'\n",
       "\\item '2006-07'\n",
       "\\item '2007-08'\n",
       "\\item '2008-09'\n",
       "\\item '2009-10'\n",
       "\\item '2010-11'\n",
       "\\item '2011-12'\n",
       "\\item '2012-13'\n",
       "\\item '2013-14'\n",
       "\\item '2014-15'\n",
       "\\item '2015-16'\n",
       "\\end{enumerate*}\n"
      ],
      "text/markdown": [
       "1. ''\n",
       "2. '1996-97'\n",
       "3. '1997-98'\n",
       "4. '1998-99'\n",
       "5. '1999-00'\n",
       "6. '2000-01'\n",
       "7. '2001-02'\n",
       "8. '2002-03'\n",
       "9. '2003-04'\n",
       "10. '2004-05'\n",
       "11. '2005-06'\n",
       "12. '2006-07'\n",
       "13. '2007-08'\n",
       "14. '2008-09'\n",
       "15. '2009-10'\n",
       "16. '2010-11'\n",
       "17. '2011-12'\n",
       "18. '2012-13'\n",
       "19. '2013-14'\n",
       "20. '2014-15'\n",
       "21. '2015-16'\n",
       "\n",
       "\n"
      ],
      "text/plain": [
       " [1] \"\"        \"1996-97\" \"1997-98\" \"1998-99\" \"1999-00\" \"2000-01\" \"2001-02\"\n",
       " [8] \"2002-03\" \"2003-04\" \"2004-05\" \"2005-06\" \"2006-07\" \"2007-08\" \"2008-09\"\n",
       "[15] \"2009-10\" \"2010-11\" \"2011-12\" \"2012-13\" \"2013-14\" \"2014-15\" \"2015-16\""
      ]
     },
     "metadata": {},
     "output_type": "display_data"
    },
    {
     "data": {
      "text/html": [
       "<ol class=list-inline>\n",
       "\t<li>''</li>\n",
       "\t<li>'ATL'</li>\n",
       "\t<li>'BKN'</li>\n",
       "\t<li>'BOS'</li>\n",
       "\t<li>'CHA'</li>\n",
       "\t<li>'CHI'</li>\n",
       "\t<li>'CLE'</li>\n",
       "\t<li>'DAL'</li>\n",
       "\t<li>'DEN'</li>\n",
       "\t<li>'DET'</li>\n",
       "\t<li>'GSW'</li>\n",
       "\t<li>'HOU'</li>\n",
       "\t<li>'IND'</li>\n",
       "\t<li>'LAC'</li>\n",
       "\t<li>'MEM'</li>\n",
       "\t<li>'MIA'</li>\n",
       "\t<li>'MIL'</li>\n",
       "\t<li>'MIN'</li>\n",
       "\t<li>'NJN'</li>\n",
       "\t<li>'NOH'</li>\n",
       "\t<li>'NOP'</li>\n",
       "\t<li>'NYK'</li>\n",
       "\t<li>'OKC'</li>\n",
       "\t<li>'ORL'</li>\n",
       "\t<li>'PHI'</li>\n",
       "\t<li>'PHX'</li>\n",
       "\t<li>'POR'</li>\n",
       "\t<li>'SAC'</li>\n",
       "\t<li>'SAS'</li>\n",
       "\t<li>'SEA'</li>\n",
       "\t<li>'TOR'</li>\n",
       "\t<li>'UTA'</li>\n",
       "\t<li>'VAN'</li>\n",
       "\t<li>'WAS'</li>\n",
       "</ol>\n"
      ],
      "text/latex": [
       "\\begin{enumerate*}\n",
       "\\item ''\n",
       "\\item 'ATL'\n",
       "\\item 'BKN'\n",
       "\\item 'BOS'\n",
       "\\item 'CHA'\n",
       "\\item 'CHI'\n",
       "\\item 'CLE'\n",
       "\\item 'DAL'\n",
       "\\item 'DEN'\n",
       "\\item 'DET'\n",
       "\\item 'GSW'\n",
       "\\item 'HOU'\n",
       "\\item 'IND'\n",
       "\\item 'LAC'\n",
       "\\item 'MEM'\n",
       "\\item 'MIA'\n",
       "\\item 'MIL'\n",
       "\\item 'MIN'\n",
       "\\item 'NJN'\n",
       "\\item 'NOH'\n",
       "\\item 'NOP'\n",
       "\\item 'NYK'\n",
       "\\item 'OKC'\n",
       "\\item 'ORL'\n",
       "\\item 'PHI'\n",
       "\\item 'PHX'\n",
       "\\item 'POR'\n",
       "\\item 'SAC'\n",
       "\\item 'SAS'\n",
       "\\item 'SEA'\n",
       "\\item 'TOR'\n",
       "\\item 'UTA'\n",
       "\\item 'VAN'\n",
       "\\item 'WAS'\n",
       "\\end{enumerate*}\n"
      ],
      "text/markdown": [
       "1. ''\n",
       "2. 'ATL'\n",
       "3. 'BKN'\n",
       "4. 'BOS'\n",
       "5. 'CHA'\n",
       "6. 'CHI'\n",
       "7. 'CLE'\n",
       "8. 'DAL'\n",
       "9. 'DEN'\n",
       "10. 'DET'\n",
       "11. 'GSW'\n",
       "12. 'HOU'\n",
       "13. 'IND'\n",
       "14. 'LAC'\n",
       "15. 'MEM'\n",
       "16. 'MIA'\n",
       "17. 'MIL'\n",
       "18. 'MIN'\n",
       "19. 'NJN'\n",
       "20. 'NOH'\n",
       "21. 'NOP'\n",
       "22. 'NYK'\n",
       "23. 'OKC'\n",
       "24. 'ORL'\n",
       "25. 'PHI'\n",
       "26. 'PHX'\n",
       "27. 'POR'\n",
       "28. 'SAC'\n",
       "29. 'SAS'\n",
       "30. 'SEA'\n",
       "31. 'TOR'\n",
       "32. 'UTA'\n",
       "33. 'VAN'\n",
       "34. 'WAS'\n",
       "\n",
       "\n"
      ],
      "text/plain": [
       " [1] \"\"    \"ATL\" \"BKN\" \"BOS\" \"CHA\" \"CHI\" \"CLE\" \"DAL\" \"DEN\" \"DET\" \"GSW\" \"HOU\"\n",
       "[13] \"IND\" \"LAC\" \"MEM\" \"MIA\" \"MIL\" \"MIN\" \"NJN\" \"NOH\" \"NOP\" \"NYK\" \"OKC\" \"ORL\"\n",
       "[25] \"PHI\" \"PHX\" \"POR\" \"SAC\" \"SAS\" \"SEA\" \"TOR\" \"UTA\" \"VAN\" \"WAS\""
      ]
     },
     "metadata": {},
     "output_type": "display_data"
    },
    {
     "data": {
      "text/html": [
       "<ol class=list-inline>\n",
       "\t<li>''</li>\n",
       "\t<li>'1996-97'</li>\n",
       "\t<li>'1997-98'</li>\n",
       "\t<li>'1998-99'</li>\n",
       "\t<li>'1999-00'</li>\n",
       "\t<li>'2000-01'</li>\n",
       "\t<li>'2001-02'</li>\n",
       "\t<li>'2002-03'</li>\n",
       "\t<li>'2003-04'</li>\n",
       "\t<li>'2004-05'</li>\n",
       "\t<li>'2005-06'</li>\n",
       "\t<li>'2006-07'</li>\n",
       "\t<li>'2007-08'</li>\n",
       "\t<li>'2008-09'</li>\n",
       "\t<li>'2009-10'</li>\n",
       "\t<li>'2010-11'</li>\n",
       "\t<li>'2011-12'</li>\n",
       "\t<li>'2012-13'</li>\n",
       "\t<li>'2013-14'</li>\n",
       "\t<li>'2014-15'</li>\n",
       "\t<li>'2015-16'</li>\n",
       "</ol>\n"
      ],
      "text/latex": [
       "\\begin{enumerate*}\n",
       "\\item ''\n",
       "\\item '1996-97'\n",
       "\\item '1997-98'\n",
       "\\item '1998-99'\n",
       "\\item '1999-00'\n",
       "\\item '2000-01'\n",
       "\\item '2001-02'\n",
       "\\item '2002-03'\n",
       "\\item '2003-04'\n",
       "\\item '2004-05'\n",
       "\\item '2005-06'\n",
       "\\item '2006-07'\n",
       "\\item '2007-08'\n",
       "\\item '2008-09'\n",
       "\\item '2009-10'\n",
       "\\item '2010-11'\n",
       "\\item '2011-12'\n",
       "\\item '2012-13'\n",
       "\\item '2013-14'\n",
       "\\item '2014-15'\n",
       "\\item '2015-16'\n",
       "\\end{enumerate*}\n"
      ],
      "text/markdown": [
       "1. ''\n",
       "2. '1996-97'\n",
       "3. '1997-98'\n",
       "4. '1998-99'\n",
       "5. '1999-00'\n",
       "6. '2000-01'\n",
       "7. '2001-02'\n",
       "8. '2002-03'\n",
       "9. '2003-04'\n",
       "10. '2004-05'\n",
       "11. '2005-06'\n",
       "12. '2006-07'\n",
       "13. '2007-08'\n",
       "14. '2008-09'\n",
       "15. '2009-10'\n",
       "16. '2010-11'\n",
       "17. '2011-12'\n",
       "18. '2012-13'\n",
       "19. '2013-14'\n",
       "20. '2014-15'\n",
       "21. '2015-16'\n",
       "\n",
       "\n"
      ],
      "text/plain": [
       " [1] \"\"        \"1996-97\" \"1997-98\" \"1998-99\" \"1999-00\" \"2000-01\" \"2001-02\"\n",
       " [8] \"2002-03\" \"2003-04\" \"2004-05\" \"2005-06\" \"2006-07\" \"2007-08\" \"2008-09\"\n",
       "[15] \"2009-10\" \"2010-11\" \"2011-12\" \"2012-13\" \"2013-14\" \"2014-15\" \"2015-16\""
      ]
     },
     "metadata": {},
     "output_type": "display_data"
    },
    {
     "data": {
      "text/html": [
       "<ol class=list-inline>\n",
       "\t<li>''</li>\n",
       "\t<li>'ATL'</li>\n",
       "\t<li>'BKN'</li>\n",
       "\t<li>'BOS'</li>\n",
       "\t<li>'CHA'</li>\n",
       "\t<li>'CHI'</li>\n",
       "\t<li>'CLE'</li>\n",
       "\t<li>'DAL'</li>\n",
       "\t<li>'DEN'</li>\n",
       "\t<li>'DET'</li>\n",
       "\t<li>'GSW'</li>\n",
       "\t<li>'HOU'</li>\n",
       "\t<li>'IND'</li>\n",
       "\t<li>'LAC'</li>\n",
       "\t<li>'MEM'</li>\n",
       "\t<li>'MIA'</li>\n",
       "\t<li>'MIL'</li>\n",
       "\t<li>'MIN'</li>\n",
       "\t<li>'NJN'</li>\n",
       "\t<li>'NOH'</li>\n",
       "\t<li>'NOP'</li>\n",
       "\t<li>'NYK'</li>\n",
       "\t<li>'OKC'</li>\n",
       "\t<li>'ORL'</li>\n",
       "\t<li>'PHI'</li>\n",
       "\t<li>'PHX'</li>\n",
       "\t<li>'POR'</li>\n",
       "\t<li>'SAC'</li>\n",
       "\t<li>'SAS'</li>\n",
       "\t<li>'SEA'</li>\n",
       "\t<li>'TOR'</li>\n",
       "\t<li>'UTA'</li>\n",
       "\t<li>'VAN'</li>\n",
       "\t<li>'WAS'</li>\n",
       "</ol>\n"
      ],
      "text/latex": [
       "\\begin{enumerate*}\n",
       "\\item ''\n",
       "\\item 'ATL'\n",
       "\\item 'BKN'\n",
       "\\item 'BOS'\n",
       "\\item 'CHA'\n",
       "\\item 'CHI'\n",
       "\\item 'CLE'\n",
       "\\item 'DAL'\n",
       "\\item 'DEN'\n",
       "\\item 'DET'\n",
       "\\item 'GSW'\n",
       "\\item 'HOU'\n",
       "\\item 'IND'\n",
       "\\item 'LAC'\n",
       "\\item 'MEM'\n",
       "\\item 'MIA'\n",
       "\\item 'MIL'\n",
       "\\item 'MIN'\n",
       "\\item 'NJN'\n",
       "\\item 'NOH'\n",
       "\\item 'NOP'\n",
       "\\item 'NYK'\n",
       "\\item 'OKC'\n",
       "\\item 'ORL'\n",
       "\\item 'PHI'\n",
       "\\item 'PHX'\n",
       "\\item 'POR'\n",
       "\\item 'SAC'\n",
       "\\item 'SAS'\n",
       "\\item 'SEA'\n",
       "\\item 'TOR'\n",
       "\\item 'UTA'\n",
       "\\item 'VAN'\n",
       "\\item 'WAS'\n",
       "\\end{enumerate*}\n"
      ],
      "text/markdown": [
       "1. ''\n",
       "2. 'ATL'\n",
       "3. 'BKN'\n",
       "4. 'BOS'\n",
       "5. 'CHA'\n",
       "6. 'CHI'\n",
       "7. 'CLE'\n",
       "8. 'DAL'\n",
       "9. 'DEN'\n",
       "10. 'DET'\n",
       "11. 'GSW'\n",
       "12. 'HOU'\n",
       "13. 'IND'\n",
       "14. 'LAC'\n",
       "15. 'MEM'\n",
       "16. 'MIA'\n",
       "17. 'MIL'\n",
       "18. 'MIN'\n",
       "19. 'NJN'\n",
       "20. 'NOH'\n",
       "21. 'NOP'\n",
       "22. 'NYK'\n",
       "23. 'OKC'\n",
       "24. 'ORL'\n",
       "25. 'PHI'\n",
       "26. 'PHX'\n",
       "27. 'POR'\n",
       "28. 'SAC'\n",
       "29. 'SAS'\n",
       "30. 'SEA'\n",
       "31. 'TOR'\n",
       "32. 'UTA'\n",
       "33. 'VAN'\n",
       "34. 'WAS'\n",
       "\n",
       "\n"
      ],
      "text/plain": [
       " [1] \"\"    \"ATL\" \"BKN\" \"BOS\" \"CHA\" \"CHI\" \"CLE\" \"DAL\" \"DEN\" \"DET\" \"GSW\" \"HOU\"\n",
       "[13] \"IND\" \"LAC\" \"MEM\" \"MIA\" \"MIL\" \"MIN\" \"NJN\" \"NOH\" \"NOP\" \"NYK\" \"OKC\" \"ORL\"\n",
       "[25] \"PHI\" \"PHX\" \"POR\" \"SAC\" \"SAS\" \"SEA\" \"TOR\" \"UTA\" \"VAN\" \"WAS\""
      ]
     },
     "metadata": {},
     "output_type": "display_data"
    }
   ],
   "source": [
    "KobeCC_r = KobeCC\n",
    "levels(KobeCC_r$season)\n",
    "levels(KobeCC_r$season) = c(\"\",\"90s\", \"90s\",\"90s\",\"90s\", \"2000 - 2005\", \"2000 - 2005\", \"2000 - 2005\", \"2000 - 2005\", \"2000 - 2005\", \"2000 - 2005\", \"2006 - 2010\", \"2006 - 2010\", \"2006 - 2010\", \"2006 - 2010\", \"2006 - 2010\", \"Post 2010\", \"Post 2010\", \"Post 2010\", \"Post 2010\", \"Post 2010\")\n",
    "\n",
    "levels(KobeCC_r$opponent)\n",
    "levels(KobeCC_r$opponent) = c(\"\", \"Southeast\", \"Atlantic\", \"Atlantic\", \"Southeast\", \"Central\", \"Central\", \"Southwest\", \"Northwest\", \"Central\", \"Pacific\", \"Southwest\", \"Central\", \"Pacific\", \"Southwest\", \"Southeast\", \"Central\", \"Northwest\" , \"Atlantic\", \"Southwest\", \"Southwest\", \"Atlantic\", \"Northwest\", \"Southeast\", \"Atlantic\", \"Pacific\", \"Northwest\", \"Pacific\", \"Southwest\", \"Northwest\", \"Atlantic\", \"Northwest\", \"Southwest\", \"Southeast\")\n",
    "\n",
    "KobeMed_r = KobeMed\n",
    "levels(KobeMed_r$season)\n",
    "levels(KobeMed_r$season) = c(\"\",\"90s\", \"90s\",\"90s\",\"90s\", \"2000 - 2005\", \"2000 - 2005\", \"2000 - 2005\", \"2000 - 2005\", \"2000 - 2005\", \"2000 - 2005\", \"2006 - 2010\", \"2006 - 2010\", \"2006 - 2010\", \"2006 - 2010\", \"2006 - 2010\", \"Post 2010\", \"Post 2010\", \"Post 2010\", \"Post 2010\", \"Post 2010\")\n",
    "\n",
    "levels(KobeMed_r$opponent)\n",
    "levels(KobeMed_r$opponent) = c(\"\", \"Southeast\", \"Atlantic\", \"Atlantic\", \"Southeast\", \"Central\", \"Central\", \"Southwest\", \"Northwest\", \"Central\", \"Pacific\", \"Southwest\", \"Central\", \"Pacific\", \"Southwest\", \"Southeast\", \"Central\", \"Northwest\" , \"Atlantic\", \"Southwest\", \"Southwest\", \"Atlantic\", \"Northwest\", \"Southeast\", \"Atlantic\", \"Pacific\", \"Northwest\", \"Pacific\", \"Southwest\", \"Northwest\", \"Atlantic\", \"Northwest\", \"Southwest\", \"Southeast\")\n",
    "\n",
    "Kobeknn_r = Kobeknn\n",
    "levels(Kobeknn_r$season)\n",
    "levels(Kobeknn_r$season) = c(\"\",\"90s\", \"90s\",\"90s\",\"90s\", \"2000 - 2005\", \"2000 - 2005\", \"2000 - 2005\", \"2000 - 2005\", \"2000 - 2005\", \"2000 - 2005\", \"2006 - 2010\", \"2006 - 2010\", \"2006 - 2010\", \"2006 - 2010\", \"2006 - 2010\", \"Post 2010\", \"Post 2010\", \"Post 2010\", \"Post 2010\", \"Post 2010\")\n",
    "\n",
    "levels(Kobeknn_r$opponent)\n",
    "levels(Kobeknn_r$opponent) = c(\"\", \"Southeast\", \"Atlantic\", \"Atlantic\", \"Southeast\", \"Central\", \"Central\", \"Southwest\", \"Northwest\", \"Central\", \"Pacific\", \"Southwest\", \"Central\", \"Pacific\", \"Southwest\", \"Southeast\", \"Central\", \"Northwest\" , \"Atlantic\", \"Southwest\", \"Southwest\", \"Atlantic\", \"Northwest\", \"Southeast\", \"Atlantic\", \"Pacific\", \"Northwest\", \"Pacific\", \"Southwest\", \"Northwest\", \"Atlantic\", \"Northwest\", \"Southwest\", \"Southeast\")"
   ]
  },
  {
   "cell_type": "markdown",
   "metadata": {},
   "source": [
    "### In terms of modeling, which will be seen later on, I found that recoding typically helped improve accuracy, but the extent it helped depended on the model. For random forests, accuracy rates were slightly improved.  For GLMnets, accuracy rates were improved across the board. For decision trees, recoded made almost no difference. For Neural Networks recoded accuracy rates were improved accross the board. "
   ]
  },
  {
   "cell_type": "markdown",
   "metadata": {},
   "source": [
    "## Encoding"
   ]
  },
  {
   "cell_type": "markdown",
   "metadata": {},
   "source": [
    "### The last data preperation step I took was encoding.  I used two different encoding methods.  Single variable encoding, encoding categorical variables to values in a single variable, and multi variable encoding, encoding categorical variables to values in individual variables denoted with 1 when they were true.  This turned my 6 versions of data into 12. I added _s to sets with single varible encoding and _m to sets with multivariable encoding.  "
   ]
  },
  {
   "cell_type": "code",
   "execution_count": 36,
   "metadata": {},
   "outputs": [
    {
     "name": "stdout",
     "output_type": "stream",
     "text": [
      "[1] \"median, not recoded, single variable\"\n",
      "[1] \"knn, not recoded, single variable\"\n",
      "[1] \"Complete, not recoded, single variable\"\n",
      "[1] \"Median, recoded, single variable\"\n",
      "[1] \"knn, recoded, single variable\"\n",
      "[1] \"Completed, recoded, single variable\"\n",
      "[1] \"Median, not recoded, multi variable\"\n"
     ]
    },
    {
     "name": "stderr",
     "output_type": "stream",
     "text": [
      "Warning message in model.frame.default(Terms, newdata, na.action = na.action, xlev = object$lvls):\n",
      "\"variable 'shot_made_flag' is not a factor\""
     ]
    },
    {
     "name": "stdout",
     "output_type": "stream",
     "text": [
      "[1] \"knn, not recoded, multi variable\"\n"
     ]
    },
    {
     "name": "stderr",
     "output_type": "stream",
     "text": [
      "Warning message in model.frame.default(Terms, newdata, na.action = na.action, xlev = object$lvls):\n",
      "\"variable 'shot_made_flag' is not a factor\""
     ]
    },
    {
     "name": "stdout",
     "output_type": "stream",
     "text": [
      "[1] \"Complete, not recoded, multi variable\"\n"
     ]
    },
    {
     "name": "stderr",
     "output_type": "stream",
     "text": [
      "Warning message in model.frame.default(Terms, newdata, na.action = na.action, xlev = object$lvls):\n",
      "\"variable 'shot_made_flag' is not a factor\""
     ]
    },
    {
     "name": "stdout",
     "output_type": "stream",
     "text": [
      "[1] \"Median, recoded, multi variable\"\n"
     ]
    },
    {
     "name": "stderr",
     "output_type": "stream",
     "text": [
      "Warning message in model.frame.default(Terms, newdata, na.action = na.action, xlev = object$lvls):\n",
      "\"variable 'shot_made_flag' is not a factor\""
     ]
    },
    {
     "name": "stdout",
     "output_type": "stream",
     "text": [
      "[1] \"knn, recoded, multi variable\"\n"
     ]
    },
    {
     "name": "stderr",
     "output_type": "stream",
     "text": [
      "Warning message in model.frame.default(Terms, newdata, na.action = na.action, xlev = object$lvls):\n",
      "\"variable 'shot_made_flag' is not a factor\""
     ]
    },
    {
     "name": "stdout",
     "output_type": "stream",
     "text": [
      "[1] \"Complete, recoded, multi variable\"\n"
     ]
    },
    {
     "name": "stderr",
     "output_type": "stream",
     "text": [
      "Warning message in model.frame.default(Terms, newdata, na.action = na.action, xlev = object$lvls):\n",
      "\"variable 'shot_made_flag' is not a factor\""
     ]
    }
   ],
   "source": [
    "print(\"median, not recoded, single variable\")\n",
    "KobeMed_s <- KobeMed\n",
    "for(i in 1:ncol(KobeMed_s))\n",
    "{if(is.numeric(KobeMed_s[,i]) ==FALSE )\n",
    "{KobeMed_s[,i] = as.integer(KobeMed_s[,i])}\n",
    "}\n",
    "KobeMed_s$shot_made_flag <- KobeMed$shot_made_flag\n",
    "\n",
    "print(\"knn, not recoded, single variable\")\n",
    "Kobeknn_s <- Kobeknn\n",
    "for(i in 1:ncol(Kobeknn_s))\n",
    "{if(is.numeric(Kobeknn_s[,i]) ==FALSE )\n",
    "{Kobeknn_s[,i] = as.integer(Kobeknn_s[,i])}\n",
    "}\n",
    "Kobeknn_s$shot_made_flag <- Kobeknn$shot_made_flag\n",
    "\n",
    "print(\"Complete, not recoded, single variable\")\n",
    "KobeCC_s <- KobeCC\n",
    "for(i in 1:ncol(KobeCC_s))\n",
    "{if(is.numeric(KobeCC_s[,i]) ==FALSE )\n",
    "{KobeCC_s[,i] = as.integer(KobeCC_s[,i])}\n",
    "}\n",
    "KobeCC_s$shot_made_flag <- KobeCC$shot_made_flag\n",
    "\n",
    "print(\"Median, recoded, single variable\")\n",
    "KobeMed_r_s <- KobeMed_r\n",
    "for(i in 1:ncol(KobeMed_r_s))\n",
    "{if(is.numeric(KobeMed_r_s[,i]) ==FALSE )\n",
    "{KobeMed_r_s[,i] = as.integer(KobeMed_r_s[,i])}\n",
    "}\n",
    "KobeMed_r_s$shot_made_flag <- KobeMed_r$shot_made_flag\n",
    "\n",
    "print(\"knn, recoded, single variable\")\n",
    "Kobeknn_r_s <- Kobeknn_r\n",
    "for(i in 1:ncol(Kobeknn_r_s))\n",
    "{if(is.numeric(Kobeknn_r_s[,i]) ==FALSE )\n",
    "{Kobeknn_r_s[,i] = as.integer(Kobeknn_r_s[,i])}\n",
    "}\n",
    "Kobeknn_r_s$shot_made_flag <- Kobeknn_r$shot_made_flag\n",
    "\n",
    "print(\"Completed, recoded, single variable\")\n",
    "KobeCC_r_s <- KobeCC_r\n",
    "for(i in 1:ncol(KobeCC_r_s))\n",
    "{if(is.numeric(KobeCC_r_s[,i]) ==FALSE )\n",
    "{KobeCC_r_s[,i] = as.integer(KobeCC_r_s[,i])}\n",
    "}\n",
    "KobeCC_r_s$shot_made_flag <- KobeCC_r$shot_made_flag\n",
    "\n",
    "print(\"Median, not recoded, multi variable\")\n",
    "dummies_model <- dummyVars(shot_made_flag ~ ., data=KobeMed)\n",
    "KobeMed_mat <- predict(dummies_model, newdata = KobeMed)\n",
    "KobeMed_m <- data.frame(KobeMed_mat)\n",
    "KobeMed_m$shot_made_flag <- KobeMed$shot_made_flag\n",
    "\n",
    "print(\"knn, not recoded, multi variable\")\n",
    "dummies_model <- dummyVars(shot_made_flag ~ ., data=Kobeknn)\n",
    "Kobeknn_mat <- predict(dummies_model, newdata = Kobeknn)\n",
    "Kobeknn_m <- data.frame(Kobeknn_mat)\n",
    "Kobeknn_m$shot_made_flag <- Kobeknn$shot_made_flag\n",
    "\n",
    "print(\"Complete, not recoded, multi variable\")\n",
    "dummies_model <- dummyVars(shot_made_flag ~ ., data=KobeCC)\n",
    "KobeCC_mat <- predict(dummies_model, newdata = KobeCC)\n",
    "KobeCC_m <- data.frame(KobeCC_mat)\n",
    "KobeCC_m$shot_made_flag <- KobeCC$shot_made_flag\n",
    "\n",
    "print(\"Median, recoded, multi variable\")\n",
    "dummies_model <- dummyVars(shot_made_flag ~ ., data=KobeMed_r)\n",
    "KobeMed_r_mat <- predict(dummies_model, newdata = KobeMed_r)\n",
    "KobeMed_r_m <- data.frame(KobeMed_r_mat)\n",
    "KobeMed_r_m$shot_made_flag <- KobeMed_r$shot_made_flag\n",
    "\n",
    "print(\"knn, recoded, multi variable\")\n",
    "dummies_model <- dummyVars(shot_made_flag ~ ., data=Kobeknn_r)\n",
    "Kobeknn_r_mat <- predict(dummies_model, newdata = Kobeknn_r)\n",
    "Kobeknn_r_m <- data.frame(Kobeknn_r_mat)\n",
    "Kobeknn_r_m$shot_made_flag <- Kobeknn_r$shot_made_flag\n",
    "\n",
    "print(\"Complete, recoded, multi variable\")\n",
    "dummies_model <- dummyVars(shot_made_flag ~ ., data=KobeCC_r)\n",
    "KobeCC_r_mat <- predict(dummies_model, newdata = KobeCC_r)\n",
    "KobeCC_r_m <- data.frame(KobeCC_r_mat)\n",
    "KobeCC_r_m$shot_made_flag <- KobeCC_r$shot_made_flag"
   ]
  },
  {
   "cell_type": "markdown",
   "metadata": {},
   "source": [
    "### In terms of modeling, which will be seen next, I found single variable encoding best for random forests neural networks and multi variable encoding best for decision trees and glmnet models."
   ]
  },
  {
   "cell_type": "markdown",
   "metadata": {},
   "source": [
    "## Modeling"
   ]
  },
  {
   "cell_type": "markdown",
   "metadata": {},
   "source": [
    "### Moving onto modeling, I ran a random forest, glmnet model, decision tree, and neural network on all 12 subsets of my data.  The model accuracies for each can be seen below."
   ]
  },
  {
   "cell_type": "markdown",
   "metadata": {},
   "source": [
    "### Median, Not recoded, single variable encoding (Kobe_Med_s)"
   ]
  },
  {
   "cell_type": "code",
   "execution_count": 37,
   "metadata": {},
   "outputs": [
    {
     "name": "stdout",
     "output_type": "stream",
     "text": [
      "[1] \"Accuracy random forest\"\n"
     ]
    },
    {
     "data": {
      "text/html": [
       "0.612133997817862"
      ],
      "text/latex": [
       "0.612133997817862"
      ],
      "text/markdown": [
       "0.612133997817862"
      ],
      "text/plain": [
       "[1] 0.612134"
      ]
     },
     "metadata": {},
     "output_type": "display_data"
    },
    {
     "name": "stdout",
     "output_type": "stream",
     "text": [
      "[1] \"Accuracy glm\"\n"
     ]
    },
    {
     "data": {
      "text/html": [
       "0.603456031279837"
      ],
      "text/latex": [
       "0.603456031279837"
      ],
      "text/markdown": [
       "0.603456031279837"
      ],
      "text/plain": [
       "[1] 0.603456"
      ]
     },
     "metadata": {},
     "output_type": "display_data"
    },
    {
     "name": "stdout",
     "output_type": "stream",
     "text": [
      "[1] \"Accuracy decision tree\"\n"
     ]
    },
    {
     "data": {
      "text/html": [
       "0.591080764096635"
      ],
      "text/latex": [
       "0.591080764096635"
      ],
      "text/markdown": [
       "0.591080764096635"
      ],
      "text/plain": [
       "[1] 0.5910808"
      ]
     },
     "metadata": {},
     "output_type": "display_data"
    },
    {
     "name": "stdout",
     "output_type": "stream",
     "text": [
      "[1] \"Accuracy Neural Network\"\n"
     ]
    },
    {
     "data": {
      "text/html": [
       "0.603767088178218"
      ],
      "text/latex": [
       "0.603767088178218"
      ],
      "text/markdown": [
       "0.603767088178218"
      ],
      "text/plain": [
       "[1] 0.6037671"
      ]
     },
     "metadata": {},
     "output_type": "display_data"
    }
   ],
   "source": [
    "set.seed(333)\n",
    "myGrid = expand.grid(mtry = 1, splitrule = \"gini\",\n",
    "                     min.node.size = 1)  \n",
    "KobeMed_s_rf <- train( shot_made_flag~. ,data = KobeMed_s, method = \"ranger\", trControl = trainControl(method =\"cv\", number = 5, verboseIter = FALSE), tuneGrid = myGrid)\n",
    "print(\"Accuracy random forest\")\n",
    "max(KobeMed_s_rf$results$Accuracy)\n",
    "\n",
    "set.seed(333)\n",
    "myGridglm = expand.grid(alpha = 0:1,\n",
    "  lambda = seq(0.0001, 1, length = 1))\n",
    "KobeMed_s_glm <- train( shot_made_flag~. ,data = KobeMed_s, method = \"glmnet\", trControl = trainControl(method =\"cv\", number = 5, verboseIter = FALSE), tuneGrid = myGridglm)\n",
    "print(\"Accuracy glm\")\n",
    "max(KobeMed_s_glm$results$Accuracy)\n",
    "\n",
    "set.seed(333)\n",
    "myGridrpart = expand.grid(cp = .05)\n",
    "KobeMed_s_tree <- train( shot_made_flag~. ,data = KobeMed_s, method = \"rpart\", trControl = trainControl(method =\"cv\", number = 5, verboseIter = FALSE), tuneGrid = myGridrpart)\n",
    "print(\"Accuracy decision tree\")\n",
    "max(KobeMed_s_tree$results$Accuracy)\n",
    "\n",
    "set.seed(333)\n",
    "myGridnn = expand.grid(size=c(5), decay=c(1))\n",
    "KobeMed_s_nn <- train( shot_made_flag~. ,data = KobeMed_s, method = \"nnet\", trace = FALSE, trControl = trainControl(method =\"cv\", number = 5, verboseIter = FALSE), tuneGrid = myGridnn)\n",
    "print(\"Accuracy Neural Network\")\n",
    "max(KobeMed_s_nn$results$Accuracy)"
   ]
  },
  {
   "cell_type": "markdown",
   "metadata": {},
   "source": [
    "### Knn, not recoded, single variable encoding (Kobe_knn_s)"
   ]
  },
  {
   "cell_type": "code",
   "execution_count": 38,
   "metadata": {},
   "outputs": [
    {
     "name": "stdout",
     "output_type": "stream",
     "text": [
      "[1] \"Accuracy random forest\"\n"
     ]
    },
    {
     "data": {
      "text/html": [
       "0.612172862894036"
      ],
      "text/latex": [
       "0.612172862894036"
      ],
      "text/markdown": [
       "0.612172862894036"
      ],
      "text/plain": [
       "[1] 0.6121729"
      ]
     },
     "metadata": {},
     "output_type": "display_data"
    },
    {
     "name": "stdout",
     "output_type": "stream",
     "text": [
      "[1] \"Accuracy glm\"\n"
     ]
    },
    {
     "data": {
      "text/html": [
       "0.605246293128839"
      ],
      "text/latex": [
       "0.605246293128839"
      ],
      "text/markdown": [
       "0.605246293128839"
      ],
      "text/plain": [
       "[1] 0.6052463"
      ]
     },
     "metadata": {},
     "output_type": "display_data"
    },
    {
     "name": "stdout",
     "output_type": "stream",
     "text": [
      "[1] \"Accuracy decision tree\"\n"
     ]
    },
    {
     "data": {
      "text/html": [
       "0.598941481294715"
      ],
      "text/latex": [
       "0.598941481294715"
      ],
      "text/markdown": [
       "0.598941481294715"
      ],
      "text/plain": [
       "[1] 0.5989415"
      ]
     },
     "metadata": {},
     "output_type": "display_data"
    },
    {
     "name": "stdout",
     "output_type": "stream",
     "text": [
      "[1] \"Accuracy Neural Network\"\n"
     ]
    },
    {
     "data": {
      "text/html": [
       "0.612250797479865"
      ],
      "text/latex": [
       "0.612250797479865"
      ],
      "text/markdown": [
       "0.612250797479865"
      ],
      "text/plain": [
       "[1] 0.6122508"
      ]
     },
     "metadata": {},
     "output_type": "display_data"
    }
   ],
   "source": [
    "set.seed(333)\n",
    "myGrid = expand.grid(mtry = 1, splitrule = \"gini\",\n",
    "                     min.node.size = 1)  \n",
    "Kobeknn_s_rf <- train( shot_made_flag~. ,data = Kobeknn_s, method = \"ranger\", trControl = trainControl(method =\"cv\", number = 5, verboseIter = FALSE), tuneGrid = myGrid)\n",
    "print(\"Accuracy random forest\")\n",
    "max(Kobeknn_s_rf$results$Accuracy)\n",
    "\n",
    "set.seed(333)\n",
    "myGridglm = expand.grid(alpha = 0:1,\n",
    "  lambda = seq(0.0001, 1, length = 1))\n",
    "Kobeknn_s_glm <- train( shot_made_flag~. ,data = Kobeknn_s, method = \"glmnet\", trControl = trainControl(method =\"cv\", number = 5, verboseIter = FALSE), tuneGrid = myGridglm)\n",
    "print(\"Accuracy glm\")\n",
    "max(Kobeknn_s_glm$results$Accuracy)\n",
    "\n",
    "set.seed(333)\n",
    "myGridrpart = expand.grid(cp = .05)\n",
    "Kobeknn_s_tree <- train( shot_made_flag~. ,data = Kobeknn_s, method = \"rpart\", trControl = trainControl(method =\"cv\", number = 5, verboseIter = FALSE), tuneGrid = myGridrpart)\n",
    "print(\"Accuracy decision tree\")\n",
    "max(Kobeknn_s_tree$results$Accuracy)\n",
    "\n",
    "set.seed(333)\n",
    "myGridnn = expand.grid(size=c(5), decay=c(1))\n",
    "Kobeknn_s_nn <- train( shot_made_flag~. ,data = Kobeknn_s, method = \"nnet\", trace = FALSE, trControl = trainControl(method =\"cv\", number = 5, verboseIter = FALSE), tuneGrid = myGridnn)\n",
    "print(\"Accuracy Neural Network\")\n",
    "max(Kobeknn_s_nn$results$Accuracy)"
   ]
  },
  {
   "cell_type": "markdown",
   "metadata": {},
   "source": [
    "### Completed Cases, not recoded, single variable encoding (Kobe_CC_s)"
   ]
  },
  {
   "cell_type": "code",
   "execution_count": 39,
   "metadata": {},
   "outputs": [
    {
     "name": "stdout",
     "output_type": "stream",
     "text": [
      "[1] \"Accuracy random forest\"\n"
     ]
    },
    {
     "data": {
      "text/html": [
       "0.611997331788187"
      ],
      "text/latex": [
       "0.611997331788187"
      ],
      "text/markdown": [
       "0.611997331788187"
      ],
      "text/plain": [
       "[1] 0.6119973"
      ]
     },
     "metadata": {},
     "output_type": "display_data"
    },
    {
     "name": "stdout",
     "output_type": "stream",
     "text": [
      "[1] \"Accuracy glm\"\n"
     ]
    },
    {
     "data": {
      "text/html": [
       "0.608519307095345"
      ],
      "text/latex": [
       "0.608519307095345"
      ],
      "text/markdown": [
       "0.608519307095345"
      ],
      "text/plain": [
       "[1] 0.6085193"
      ]
     },
     "metadata": {},
     "output_type": "display_data"
    },
    {
     "name": "stdout",
     "output_type": "stream",
     "text": [
      "[1] \"Accuracy decision tree\"\n"
     ]
    },
    {
     "data": {
      "text/html": [
       "0.595034342703716"
      ],
      "text/latex": [
       "0.595034342703716"
      ],
      "text/markdown": [
       "0.595034342703716"
      ],
      "text/plain": [
       "[1] 0.5950343"
      ]
     },
     "metadata": {},
     "output_type": "display_data"
    },
    {
     "name": "stdout",
     "output_type": "stream",
     "text": [
      "[1] \"Accuracy Neural Network\"\n"
     ]
    },
    {
     "data": {
      "text/html": [
       "0.595837784290337"
      ],
      "text/latex": [
       "0.595837784290337"
      ],
      "text/markdown": [
       "0.595837784290337"
      ],
      "text/plain": [
       "[1] 0.5958378"
      ]
     },
     "metadata": {},
     "output_type": "display_data"
    }
   ],
   "source": [
    "set.seed(333)\n",
    "myGrid = expand.grid(mtry = 1, splitrule = \"gini\",\n",
    "                     min.node.size = 1)  \n",
    "KobeCC_s_rf <- train( shot_made_flag~. ,data = KobeCC_s, method = \"ranger\", trControl = trainControl(method =\"cv\", number = 5, verboseIter = FALSE), tuneGrid = myGrid)\n",
    "print(\"Accuracy random forest\")\n",
    "max(KobeCC_s_rf$results$Accuracy)\n",
    "\n",
    "set.seed(333)\n",
    "myGridglm = expand.grid(alpha = 0:1,\n",
    "  lambda = seq(0.0001, 1, length = 1))\n",
    "KobeCC_s_glm <- train( shot_made_flag~. ,data = KobeCC_s, method = \"glmnet\", trControl = trainControl(method =\"cv\", number = 5, verboseIter = FALSE), tuneGrid = myGridglm)\n",
    "print(\"Accuracy glm\")\n",
    "max(KobeCC_s_glm$results$Accuracy)\n",
    "\n",
    "set.seed(333)\n",
    "myGridrpart = expand.grid(cp = .05)\n",
    "KobeCC_s_tree <- train( shot_made_flag~. ,data = KobeCC_s, method = \"rpart\", trControl = trainControl(method =\"cv\", number = 5, verboseIter = FALSE), tuneGrid = myGridrpart)\n",
    "print(\"Accuracy decision tree\")\n",
    "max(KobeCC_s_tree$results$Accuracy)\n",
    "\n",
    "set.seed(333)\n",
    "myGridnn = expand.grid(size=c(5), decay=c(1))\n",
    "KobeCC_s_nn <- train( shot_made_flag~. ,data = KobeCC_s, method = \"nnet\", trace = FALSE, trControl = trainControl(method =\"cv\", number = 5, verboseIter = FALSE), tuneGrid = myGridnn)\n",
    "print(\"Accuracy Neural Network\")\n",
    "max(KobeCC_s_nn$results$Accuracy)"
   ]
  },
  {
   "cell_type": "markdown",
   "metadata": {},
   "source": [
    "### Median, recoded, single variable encoding (Kobe_Med_r_s)"
   ]
  },
  {
   "cell_type": "code",
   "execution_count": 40,
   "metadata": {},
   "outputs": [
    {
     "name": "stdout",
     "output_type": "stream",
     "text": [
      "[1] \"Accuracy random forest\"\n"
     ]
    },
    {
     "data": {
      "text/html": [
       "0.612289571696715"
      ],
      "text/latex": [
       "0.612289571696715"
      ],
      "text/markdown": [
       "0.612289571696715"
      ],
      "text/plain": [
       "[1] 0.6122896"
      ]
     },
     "metadata": {},
     "output_type": "display_data"
    },
    {
     "name": "stdout",
     "output_type": "stream",
     "text": [
      "[1] \"Accuracy glm\"\n"
     ]
    },
    {
     "data": {
      "text/html": [
       "0.603611726304456"
      ],
      "text/latex": [
       "0.603611726304456"
      ],
      "text/markdown": [
       "0.603611726304456"
      ],
      "text/plain": [
       "[1] 0.6036117"
      ]
     },
     "metadata": {},
     "output_type": "display_data"
    },
    {
     "name": "stdout",
     "output_type": "stream",
     "text": [
      "[1] \"Accuracy decision tree\"\n"
     ]
    },
    {
     "data": {
      "text/html": [
       "0.591080764096635"
      ],
      "text/latex": [
       "0.591080764096635"
      ],
      "text/markdown": [
       "0.591080764096635"
      ],
      "text/plain": [
       "[1] 0.5910808"
      ]
     },
     "metadata": {},
     "output_type": "display_data"
    },
    {
     "name": "stdout",
     "output_type": "stream",
     "text": [
      "[1] \"Accuracy Neural Network\"\n"
     ]
    },
    {
     "data": {
      "text/html": [
       "0.606880837238391"
      ],
      "text/latex": [
       "0.606880837238391"
      ],
      "text/markdown": [
       "0.606880837238391"
      ],
      "text/plain": [
       "[1] 0.6068808"
      ]
     },
     "metadata": {},
     "output_type": "display_data"
    }
   ],
   "source": [
    "set.seed(333)\n",
    "myGrid = expand.grid(mtry = 1, splitrule = \"gini\",\n",
    "                     min.node.size = 1)  \n",
    "KobeMed_r_s_rf <- train( shot_made_flag~. ,data = KobeMed_r_s, method = \"ranger\", trControl = trainControl(method =\"cv\", number = 5, verboseIter = FALSE), tuneGrid = myGrid)\n",
    "print(\"Accuracy random forest\")\n",
    "max(KobeMed_r_s_rf$results$Accuracy)\n",
    "\n",
    "set.seed(333)\n",
    "myGridglm = expand.grid(alpha = 0:1,\n",
    "  lambda = seq(0.0001, 1, length = 1))\n",
    "KobeMed_r_s_glm <- train( shot_made_flag~. ,data = KobeMed_r_s, method = \"glmnet\", trControl = trainControl(method =\"cv\", number = 5, verboseIter = FALSE), tuneGrid = myGridglm)\n",
    "print(\"Accuracy glm\")\n",
    "max(KobeMed_r_s_glm$results$Accuracy)\n",
    "\n",
    "set.seed(333)\n",
    "myGridrpart = expand.grid(cp = .05)\n",
    "KobeMed_r_s_tree <- train( shot_made_flag~. ,data = KobeMed_r_s, method = \"rpart\", trControl = trainControl(method =\"cv\", number = 5, verboseIter = FALSE), tuneGrid = myGridrpart)\n",
    "print(\"Accuracy decision tree\")\n",
    "max(KobeMed_r_s_tree$results$Accuracy)\n",
    "\n",
    "set.seed(333)\n",
    "myGridnn = expand.grid(size=c(5), decay=c(1))\n",
    "KobeMed_r_s_nn <- train( shot_made_flag~. ,data = KobeMed_r_s, method = \"nnet\", trace = FALSE, trControl = trainControl(method =\"cv\", number = 5, verboseIter = FALSE), tuneGrid = myGridnn)\n",
    "print(\"Accuracy Neural Network\")\n",
    "max(KobeMed_r_s_nn$results$Accuracy)"
   ]
  },
  {
   "cell_type": "markdown",
   "metadata": {},
   "source": [
    "### Knn, recoded, single variable encoding (Kobe_knn_r_s)"
   ]
  },
  {
   "cell_type": "code",
   "execution_count": 41,
   "metadata": {},
   "outputs": [
    {
     "name": "stdout",
     "output_type": "stream",
     "text": [
      "[1] \"Accuracy random forest\"\n"
     ]
    },
    {
     "data": {
      "text/html": [
       "0.612056085946864"
      ],
      "text/latex": [
       "0.612056085946864"
      ],
      "text/markdown": [
       "0.612056085946864"
      ],
      "text/plain": [
       "[1] 0.6120561"
      ]
     },
     "metadata": {},
     "output_type": "display_data"
    },
    {
     "name": "stdout",
     "output_type": "stream",
     "text": [
      "[1] \"Accuracy glm\"\n"
     ]
    },
    {
     "data": {
      "text/html": [
       "0.606530453395602"
      ],
      "text/latex": [
       "0.606530453395602"
      ],
      "text/markdown": [
       "0.606530453395602"
      ],
      "text/plain": [
       "[1] 0.6065305"
      ]
     },
     "metadata": {},
     "output_type": "display_data"
    },
    {
     "name": "stdout",
     "output_type": "stream",
     "text": [
      "[1] \"Accuracy decision tree\"\n"
     ]
    },
    {
     "data": {
      "text/html": [
       "0.598941481294715"
      ],
      "text/latex": [
       "0.598941481294715"
      ],
      "text/markdown": [
       "0.598941481294715"
      ],
      "text/plain": [
       "[1] 0.5989415"
      ]
     },
     "metadata": {},
     "output_type": "display_data"
    },
    {
     "name": "stdout",
     "output_type": "stream",
     "text": [
      "[1] \"Accuracy Neural Network\"\n"
     ]
    },
    {
     "data": {
      "text/html": [
       "0.612406500076095"
      ],
      "text/latex": [
       "0.612406500076095"
      ],
      "text/markdown": [
       "0.612406500076095"
      ],
      "text/plain": [
       "[1] 0.6124065"
      ]
     },
     "metadata": {},
     "output_type": "display_data"
    }
   ],
   "source": [
    "set.seed(333)\n",
    "myGrid = expand.grid(mtry = 1, splitrule = \"gini\",\n",
    "                     min.node.size = 1)  \n",
    "Kobeknn_r_s_rf <- train( shot_made_flag~. ,data = Kobeknn_r_s, method = \"ranger\", trControl = trainControl(method =\"cv\", number = 5, verboseIter = FALSE), tuneGrid = myGrid)\n",
    "print(\"Accuracy random forest\")\n",
    "max(Kobeknn_r_s_rf$results$Accuracy)\n",
    "\n",
    "set.seed(333)\n",
    "myGridglm = expand.grid(alpha = 0:1,\n",
    "  lambda = seq(0.0001, 1, length = 1))\n",
    "Kobeknn_r_s_glm <- train( shot_made_flag~. ,data = Kobeknn_r_s, method = \"glmnet\", trControl = trainControl(method =\"cv\", number = 5, verboseIter = FALSE), tuneGrid = myGridglm)\n",
    "print(\"Accuracy glm\")\n",
    "max(Kobeknn_r_s_glm$results$Accuracy)\n",
    "\n",
    "set.seed(333)\n",
    "myGridrpart = expand.grid(cp = .05)\n",
    "Kobeknn_r_s_tree <- train( shot_made_flag~. ,data = Kobeknn_r_s, method = \"rpart\", trControl = trainControl(method =\"cv\", number = 5, verboseIter = FALSE), tuneGrid = myGridrpart)\n",
    "print(\"Accuracy decision tree\")\n",
    "max(Kobeknn_r_s_tree$results$Accuracy)\n",
    "\n",
    "set.seed(333)\n",
    "myGridnn = expand.grid(size=c(5), decay=c(1))\n",
    "Kobeknn_r_s_nn <- train( shot_made_flag~. ,data = Kobeknn_r_s, method = \"nnet\", trace = FALSE, trControl = trainControl(method =\"cv\", number = 5, verboseIter = FALSE), tuneGrid = myGridnn)\n",
    "print(\"Accuracy Neural Network\")\n",
    "max(Kobeknn_r_s_nn$results$Accuracy)"
   ]
  },
  {
   "cell_type": "markdown",
   "metadata": {},
   "source": [
    "### Complete Cases, recoded, single variable encoding (Kobe_CC_r_s)"
   ]
  },
  {
   "cell_type": "code",
   "execution_count": 42,
   "metadata": {},
   "outputs": [
    {
     "name": "stdout",
     "output_type": "stream",
     "text": [
      "[1] \"Accuracy random forest\"\n"
     ]
    },
    {
     "data": {
      "text/html": [
       "0.611462229039268"
      ],
      "text/latex": [
       "0.611462229039268"
      ],
      "text/markdown": [
       "0.611462229039268"
      ],
      "text/plain": [
       "[1] 0.6114622"
      ]
     },
     "metadata": {},
     "output_type": "display_data"
    },
    {
     "name": "stdout",
     "output_type": "stream",
     "text": [
      "[1] \"Accuracy glm\"\n"
     ]
    },
    {
     "data": {
      "text/html": [
       "0.609268642798513"
      ],
      "text/latex": [
       "0.609268642798513"
      ],
      "text/markdown": [
       "0.609268642798513"
      ],
      "text/plain": [
       "[1] 0.6092686"
      ]
     },
     "metadata": {},
     "output_type": "display_data"
    },
    {
     "name": "stdout",
     "output_type": "stream",
     "text": [
      "[1] \"Accuracy decision tree\"\n"
     ]
    },
    {
     "data": {
      "text/html": [
       "0.595034342703716"
      ],
      "text/latex": [
       "0.595034342703716"
      ],
      "text/markdown": [
       "0.595034342703716"
      ],
      "text/plain": [
       "[1] 0.5950343"
      ]
     },
     "metadata": {},
     "output_type": "display_data"
    },
    {
     "name": "stdout",
     "output_type": "stream",
     "text": [
      "[1] \"Accuracy Neural Network\"\n"
     ]
    },
    {
     "data": {
      "text/html": [
       "0.599744546924433"
      ],
      "text/latex": [
       "0.599744546924433"
      ],
      "text/markdown": [
       "0.599744546924433"
      ],
      "text/plain": [
       "[1] 0.5997445"
      ]
     },
     "metadata": {},
     "output_type": "display_data"
    }
   ],
   "source": [
    "set.seed(333)\n",
    "myGrid = expand.grid(mtry = 1, splitrule = \"gini\",\n",
    "                     min.node.size = 1)  \n",
    "KobeCC_r_s_rf <- train( shot_made_flag~. ,data = KobeCC_r_s, method = \"ranger\", trControl = trainControl(method =\"cv\", number = 5, verboseIter = FALSE), tuneGrid = myGrid)\n",
    "print(\"Accuracy random forest\")\n",
    "max(KobeCC_r_s_rf$results$Accuracy)\n",
    "\n",
    "set.seed(333)\n",
    "myGridglm = expand.grid(alpha = 0:1,\n",
    "  lambda = seq(0.0001, 1, length = 1))\n",
    "KobeCC_r_s_glm <- train( shot_made_flag~. ,data = KobeCC_r_s, method = \"glmnet\", trControl = trainControl(method =\"cv\", number = 5, verboseIter = FALSE), tuneGrid = myGridglm)\n",
    "print(\"Accuracy glm\")\n",
    "max(KobeCC_r_s_glm$results$Accuracy)\n",
    "\n",
    "set.seed(333)\n",
    "myGridrpart = expand.grid(cp = .05)\n",
    "KobeCC_r_s_tree <- train( shot_made_flag~. ,data = KobeCC_r_s, method = \"rpart\", trControl = trainControl(method =\"cv\", number = 5, verboseIter = FALSE), tuneGrid = myGridrpart)\n",
    "print(\"Accuracy decision tree\")\n",
    "max(KobeCC_r_s_tree$results$Accuracy)\n",
    "\n",
    "set.seed(333)\n",
    "myGridnn = expand.grid(size=c(5), decay=c(1))\n",
    "KobeCC_r_s_nn <- train( shot_made_flag~. ,data = KobeCC_r_s, method = \"nnet\", trace = FALSE, trControl = trainControl(method =\"cv\", number = 5, verboseIter = FALSE), tuneGrid = myGridnn)\n",
    "print(\"Accuracy Neural Network\")\n",
    "max(KobeCC_r_s_nn$results$Accuracy)"
   ]
  },
  {
   "cell_type": "markdown",
   "metadata": {},
   "source": [
    "### Median, not recoded, multi variable encoding (Kobe_Med_m)"
   ]
  },
  {
   "cell_type": "code",
   "execution_count": 43,
   "metadata": {},
   "outputs": [
    {
     "name": "stdout",
     "output_type": "stream",
     "text": [
      "[1] \"Accuracy random forest\"\n"
     ]
    },
    {
     "data": {
      "text/html": [
       "0.553838965475728"
      ],
      "text/latex": [
       "0.553838965475728"
      ],
      "text/markdown": [
       "0.553838965475728"
      ],
      "text/plain": [
       "[1] 0.553839"
      ]
     },
     "metadata": {},
     "output_type": "display_data"
    },
    {
     "name": "stdout",
     "output_type": "stream",
     "text": [
      "[1] \"Accuracy glm\"\n"
     ]
    },
    {
     "data": {
      "text/html": [
       "0.611861745422772"
      ],
      "text/latex": [
       "0.611861745422772"
      ],
      "text/markdown": [
       "0.611861745422772"
      ],
      "text/plain": [
       "[1] 0.6118617"
      ]
     },
     "metadata": {},
     "output_type": "display_data"
    },
    {
     "name": "stdout",
     "output_type": "stream",
     "text": [
      "[1] \"Accuracy decision tree\"\n"
     ]
    },
    {
     "data": {
      "text/html": [
       "0.611744832186613"
      ],
      "text/latex": [
       "0.611744832186613"
      ],
      "text/markdown": [
       "0.611744832186613"
      ],
      "text/plain": [
       "[1] 0.6117448"
      ]
     },
     "metadata": {},
     "output_type": "display_data"
    },
    {
     "name": "stdout",
     "output_type": "stream",
     "text": [
      "[1] \"Accuracy Neural Network\"\n"
     ]
    },
    {
     "data": {
      "text/html": [
       "0.596489369837581"
      ],
      "text/latex": [
       "0.596489369837581"
      ],
      "text/markdown": [
       "0.596489369837581"
      ],
      "text/plain": [
       "[1] 0.5964894"
      ]
     },
     "metadata": {},
     "output_type": "display_data"
    }
   ],
   "source": [
    "set.seed(333)\n",
    "myGrid = expand.grid(mtry = 1, splitrule = \"gini\",\n",
    "                     min.node.size = 1)  \n",
    "KobeMed_m_rf <- train( shot_made_flag~. ,data = KobeMed_m, method = \"ranger\", trControl = trainControl(method =\"cv\", number = 5, verboseIter = FALSE), tuneGrid = myGrid)\n",
    "print(\"Accuracy random forest\")\n",
    "max(KobeMed_m_rf$results$Accuracy)\n",
    "\n",
    "set.seed(333)\n",
    "myGridglm = expand.grid(alpha = 0:1,\n",
    "  lambda = seq(0.0001, 1, length = 1))\n",
    "KobeMed_m_glm <- train( shot_made_flag~. ,data = KobeMed_m, method = \"glmnet\", trControl = trainControl(method =\"cv\", number = 5, verboseIter = FALSE), tuneGrid = myGridglm)\n",
    "print(\"Accuracy glm\")\n",
    "max(KobeMed_m_glm$results$Accuracy)\n",
    "\n",
    "set.seed(333)\n",
    "myGridrpart = expand.grid(cp = .05)\n",
    "KobeMed_m_tree <- train( shot_made_flag~. ,data = KobeMed_m, method = \"rpart\", trControl = trainControl(method =\"cv\", number = 5, verboseIter = FALSE), tuneGrid = myGridrpart)\n",
    "print(\"Accuracy decision tree\")\n",
    "max(KobeMed_m_tree$results$Accuracy)\n",
    "\n",
    "set.seed(333)\n",
    "myGridnn = expand.grid(size=c(5), decay=c(1))\n",
    "KobeMed_m_nn <- train( shot_made_flag~. ,data = KobeMed_m, method = \"nnet\", trace = FALSE, trControl = trainControl(method =\"cv\", number = 5, verboseIter = FALSE), tuneGrid = myGridnn)\n",
    "print(\"Accuracy Neural Network\")\n",
    "max(KobeMed_m_nn$results$Accuracy)"
   ]
  },
  {
   "cell_type": "markdown",
   "metadata": {},
   "source": [
    "### knn, not recoded, multi variable (Kobe_knn_m)"
   ]
  },
  {
   "cell_type": "code",
   "execution_count": 44,
   "metadata": {},
   "outputs": [
    {
     "name": "stdout",
     "output_type": "stream",
     "text": [
      "[1] \"Accuracy random forest\"\n"
     ]
    },
    {
     "data": {
      "text/html": [
       "0.553838965475728"
      ],
      "text/latex": [
       "0.553838965475728"
      ],
      "text/markdown": [
       "0.553838965475728"
      ],
      "text/plain": [
       "[1] 0.553839"
      ]
     },
     "metadata": {},
     "output_type": "display_data"
    },
    {
     "name": "stdout",
     "output_type": "stream",
     "text": [
      "[1] \"Accuracy glm\"\n"
     ]
    },
    {
     "data": {
      "text/html": [
       "0.61182291820465"
      ],
      "text/latex": [
       "0.61182291820465"
      ],
      "text/markdown": [
       "0.61182291820465"
      ],
      "text/plain": [
       "[1] 0.6118229"
      ]
     },
     "metadata": {},
     "output_type": "display_data"
    },
    {
     "name": "stdout",
     "output_type": "stream",
     "text": [
      "[1] \"Accuracy decision tree\"\n"
     ]
    },
    {
     "data": {
      "text/html": [
       "0.611744832186613"
      ],
      "text/latex": [
       "0.611744832186613"
      ],
      "text/markdown": [
       "0.611744832186613"
      ],
      "text/plain": [
       "[1] 0.6117448"
      ]
     },
     "metadata": {},
     "output_type": "display_data"
    },
    {
     "name": "stdout",
     "output_type": "stream",
     "text": [
      "[1] \"Accuracy Neural Network\"\n"
     ]
    },
    {
     "data": {
      "text/html": [
       "0.606647283344047"
      ],
      "text/latex": [
       "0.606647283344047"
      ],
      "text/markdown": [
       "0.606647283344047"
      ],
      "text/plain": [
       "[1] 0.6066473"
      ]
     },
     "metadata": {},
     "output_type": "display_data"
    }
   ],
   "source": [
    "set.seed(333)\n",
    "myGrid = expand.grid(mtry = 1, splitrule = \"gini\",\n",
    "                     min.node.size = 1)  \n",
    "Kobeknn_m_rf <- train( shot_made_flag~. ,data = Kobeknn_m, method = \"ranger\", trControl = trainControl(method =\"cv\", number = 5, verboseIter = FALSE), tuneGrid = myGrid)\n",
    "print(\"Accuracy random forest\")\n",
    "max(Kobeknn_m_rf$results$Accuracy)\n",
    "\n",
    "set.seed(333)\n",
    "myGridglm = expand.grid(alpha = 0:1,\n",
    "  lambda = seq(0.0001, 1, length = 1))\n",
    "Kobeknn_m_glm <- train( shot_made_flag~. ,data = Kobeknn_m, method = \"glmnet\", trControl = trainControl(method =\"cv\", number = 5, verboseIter = FALSE), tuneGrid = myGridglm)\n",
    "print(\"Accuracy glm\")\n",
    "max(Kobeknn_m_glm$results$Accuracy)\n",
    "\n",
    "set.seed(333)\n",
    "myGridrpart = expand.grid(cp = .05)\n",
    "Kobeknn_m_tree <- train( shot_made_flag~. ,data = Kobeknn_m, method = \"rpart\", trControl = trainControl(method =\"cv\", number = 5, verboseIter = FALSE), tuneGrid = myGridrpart)\n",
    "print(\"Accuracy decision tree\")\n",
    "max(Kobeknn_m_tree$results$Accuracy)\n",
    "\n",
    "set.seed(333)\n",
    "myGridnn = expand.grid(size=c(5), decay=c(1))\n",
    "Kobeknn_m_nn <- train( shot_made_flag~. ,data = Kobeknn_m, method = \"nnet\", trace = FALSE, trControl = trainControl(method =\"cv\", number = 5, verboseIter = FALSE), tuneGrid = myGridnn)\n",
    "print(\"Accuracy Neural Network\")\n",
    "max(Kobeknn_m_nn$results$Accuracy)"
   ]
  },
  {
   "cell_type": "markdown",
   "metadata": {},
   "source": [
    "### Complete Case, not recoded, multi variable encoding (Kobe_CC_m)"
   ]
  },
  {
   "cell_type": "code",
   "execution_count": 45,
   "metadata": {},
   "outputs": [
    {
     "name": "stdout",
     "output_type": "stream",
     "text": [
      "[1] \"Accuracy random forest\"\n"
     ]
    },
    {
     "data": {
      "text/html": [
       "0.555597167022242"
      ],
      "text/latex": [
       "0.555597167022242"
      ],
      "text/markdown": [
       "0.555597167022242"
      ],
      "text/plain": [
       "[1] 0.5555972"
      ]
     },
     "metadata": {},
     "output_type": "display_data"
    },
    {
     "name": "stdout",
     "output_type": "stream",
     "text": [
      "[1] \"Accuracy glm\"\n"
     ]
    },
    {
     "data": {
      "text/html": [
       "0.611836832462041"
      ],
      "text/latex": [
       "0.611836832462041"
      ],
      "text/markdown": [
       "0.611836832462041"
      ],
      "text/plain": [
       "[1] 0.6118368"
      ]
     },
     "metadata": {},
     "output_type": "display_data"
    },
    {
     "name": "stdout",
     "output_type": "stream",
     "text": [
      "[1] \"Accuracy decision tree\"\n"
     ]
    },
    {
     "data": {
      "text/html": [
       "0.598618760839253"
      ],
      "text/latex": [
       "0.598618760839253"
      ],
      "text/markdown": [
       "0.598618760839253"
      ],
      "text/plain": [
       "[1] 0.5986188"
      ]
     },
     "metadata": {},
     "output_type": "display_data"
    },
    {
     "name": "stdout",
     "output_type": "stream",
     "text": [
      "[1] \"Accuracy Neural Network\"\n"
     ]
    },
    {
     "data": {
      "text/html": [
       "0.606379425847665"
      ],
      "text/latex": [
       "0.606379425847665"
      ],
      "text/markdown": [
       "0.606379425847665"
      ],
      "text/plain": [
       "[1] 0.6063794"
      ]
     },
     "metadata": {},
     "output_type": "display_data"
    }
   ],
   "source": [
    "set.seed(333)\n",
    "myGrid = expand.grid(mtry = 1, splitrule = \"gini\",\n",
    "                     min.node.size = 1)  \n",
    "KobeCC_m_rf <- train( shot_made_flag~. ,data = KobeCC_m, method = \"ranger\", trControl = trainControl(method =\"cv\", number = 5, verboseIter = FALSE), tuneGrid = myGrid)\n",
    "print(\"Accuracy random forest\")\n",
    "max(KobeCC_m_rf$results$Accuracy)\n",
    "\n",
    "set.seed(333)\n",
    "myGridglm = expand.grid(alpha = 0:1,\n",
    "  lambda = seq(0.0001, 1, length = 1))\n",
    "KobeCC_m_glm <- train( shot_made_flag~. ,data = KobeCC_m, method = \"glmnet\", trControl = trainControl(method =\"cv\", number = 5, verboseIter = FALSE), tuneGrid = myGridglm)\n",
    "print(\"Accuracy glm\")\n",
    "max(KobeCC_m_glm$results$Accuracy)\n",
    "\n",
    "set.seed(333)\n",
    "myGridrpart = expand.grid(cp = .05)\n",
    "KobeCC_m_tree <- train( shot_made_flag~. ,data = KobeCC_m, method = \"rpart\", trControl = trainControl(method =\"cv\", number = 5, verboseIter = FALSE), tuneGrid = myGridrpart)\n",
    "print(\"Accuracy decision tree\")\n",
    "max(KobeCC_m_tree$results$Accuracy)\n",
    "\n",
    "set.seed(333)\n",
    "myGridnn = expand.grid(size=c(5), decay=c(1))\n",
    "KobeCC_m_nn <- train( shot_made_flag~. ,data = KobeCC_m, method = \"nnet\", trace = FALSE, trControl = trainControl(method =\"cv\", number = 5, verboseIter = FALSE), tuneGrid = myGridnn)\n",
    "print(\"Accuracy Neural Network\")\n",
    "max(KobeCC_m_nn$results$Accuracy)"
   ]
  },
  {
   "cell_type": "markdown",
   "metadata": {},
   "source": [
    "### Median, recoded, multi variable encoding (Kobe_Med_r_m)"
   ]
  },
  {
   "cell_type": "code",
   "execution_count": 46,
   "metadata": {},
   "outputs": [
    {
     "name": "stdout",
     "output_type": "stream",
     "text": [
      "[1] \"Accuracy random forest\"\n"
     ]
    },
    {
     "data": {
      "text/html": [
       "0.553838965475728"
      ],
      "text/latex": [
       "0.553838965475728"
      ],
      "text/markdown": [
       "0.553838965475728"
      ],
      "text/plain": [
       "[1] 0.553839"
      ]
     },
     "metadata": {},
     "output_type": "display_data"
    },
    {
     "name": "stdout",
     "output_type": "stream",
     "text": [
      "[1] \"Accuracy glm\"\n"
     ]
    },
    {
     "data": {
      "text/html": [
       "0.613573815251192"
      ],
      "text/latex": [
       "0.613573815251192"
      ],
      "text/markdown": [
       "0.613573815251192"
      ],
      "text/plain": [
       "[1] 0.6135738"
      ]
     },
     "metadata": {},
     "output_type": "display_data"
    },
    {
     "name": "stdout",
     "output_type": "stream",
     "text": [
      "[1] \"Accuracy decision tree\"\n"
     ]
    },
    {
     "data": {
      "text/html": [
       "0.611744832186613"
      ],
      "text/latex": [
       "0.611744832186613"
      ],
      "text/markdown": [
       "0.611744832186613"
      ],
      "text/plain": [
       "[1] 0.6117448"
      ]
     },
     "metadata": {},
     "output_type": "display_data"
    },
    {
     "name": "stdout",
     "output_type": "stream",
     "text": [
      "[1] \"Accuracy Neural Network\"\n"
     ]
    },
    {
     "data": {
      "text/html": [
       "0.59645036847242"
      ],
      "text/latex": [
       "0.59645036847242"
      ],
      "text/markdown": [
       "0.59645036847242"
      ],
      "text/plain": [
       "[1] 0.5964504"
      ]
     },
     "metadata": {},
     "output_type": "display_data"
    }
   ],
   "source": [
    "set.seed(333)\n",
    "myGrid = expand.grid(mtry = 1, splitrule = \"gini\",\n",
    "                     min.node.size = 1)  \n",
    "KobeMed_r_m_rf <- train( shot_made_flag~. ,data = KobeMed_r_m, method = \"ranger\", trControl = trainControl(method =\"cv\", number = 5, verboseIter = FALSE), tuneGrid = myGrid)\n",
    "print(\"Accuracy random forest\")\n",
    "max(KobeMed_r_m_rf$results$Accuracy)\n",
    "\n",
    "set.seed(333)\n",
    "myGridglm = expand.grid(alpha = 0:1,\n",
    "  lambda = seq(0.0001, 1, length = 1))\n",
    "KobeMed_r_m_glm <- train( shot_made_flag~. ,data = KobeMed_r_m, method = \"glmnet\", trControl = trainControl(method =\"cv\", number = 5, verboseIter = FALSE), tuneGrid = myGridglm)\n",
    "print(\"Accuracy glm\")\n",
    "max(KobeMed_r_m_glm$results$Accuracy)\n",
    "\n",
    "set.seed(333)\n",
    "myGridrpart = expand.grid(cp = .05)\n",
    "KobeMed_r_m_tree <- train( shot_made_flag~. ,data = KobeMed_r_m, method = \"rpart\", trControl = trainControl(method =\"cv\", number = 5, verboseIter = FALSE), tuneGrid = myGridrpart)\n",
    "print(\"Accuracy decision tree\")\n",
    "max(KobeMed_r_m_tree$results$Accuracy)\n",
    "\n",
    "set.seed(333)\n",
    "myGridnn = expand.grid(size=c(5), decay=c(1))\n",
    "KobeMed_r_m_nn <- train( shot_made_flag~. ,data = KobeMed_r_m, method = \"nnet\", trace = FALSE, trControl = trainControl(method =\"cv\", number = 5, verboseIter = FALSE), tuneGrid = myGridnn)\n",
    "print(\"Accuracy Neural Network\")\n",
    "max(KobeMed_r_m_nn$results$Accuracy)"
   ]
  },
  {
   "cell_type": "markdown",
   "metadata": {},
   "source": [
    "### knn, recoded, multi variable encoding (Kobe_knn_r_m)"
   ]
  },
  {
   "cell_type": "code",
   "execution_count": 47,
   "metadata": {},
   "outputs": [
    {
     "name": "stdout",
     "output_type": "stream",
     "text": [
      "[1] \"Accuracy random forest\"\n"
     ]
    },
    {
     "data": {
      "text/html": [
       "0.553838965475728"
      ],
      "text/latex": [
       "0.553838965475728"
      ],
      "text/markdown": [
       "0.553838965475728"
      ],
      "text/plain": [
       "[1] 0.553839"
      ]
     },
     "metadata": {},
     "output_type": "display_data"
    },
    {
     "name": "stdout",
     "output_type": "stream",
     "text": [
      "[1] \"Accuracy glm\"\n"
     ]
    },
    {
     "data": {
      "text/html": [
       "0.613651674120917"
      ],
      "text/latex": [
       "0.613651674120917"
      ],
      "text/markdown": [
       "0.613651674120917"
      ],
      "text/plain": [
       "[1] 0.6136517"
      ]
     },
     "metadata": {},
     "output_type": "display_data"
    },
    {
     "name": "stdout",
     "output_type": "stream",
     "text": [
      "[1] \"Accuracy decision tree\"\n"
     ]
    },
    {
     "data": {
      "text/html": [
       "0.611744832186613"
      ],
      "text/latex": [
       "0.611744832186613"
      ],
      "text/markdown": [
       "0.611744832186613"
      ],
      "text/plain": [
       "[1] 0.6117448"
      ]
     },
     "metadata": {},
     "output_type": "display_data"
    },
    {
     "name": "stdout",
     "output_type": "stream",
     "text": [
      "[1] \"Accuracy Neural Network\"\n"
     ]
    },
    {
     "data": {
      "text/html": [
       "0.610577479153464"
      ],
      "text/latex": [
       "0.610577479153464"
      ],
      "text/markdown": [
       "0.610577479153464"
      ],
      "text/plain": [
       "[1] 0.6105775"
      ]
     },
     "metadata": {},
     "output_type": "display_data"
    }
   ],
   "source": [
    "set.seed(333)\n",
    "myGrid = expand.grid(mtry = 1, splitrule = \"gini\",\n",
    "                     min.node.size = 1)  \n",
    "Kobeknn_r_m_rf <- train( shot_made_flag~. ,data = Kobeknn_r_m, method = \"ranger\", trControl = trainControl(method =\"cv\", number = 5, verboseIter = FALSE), tuneGrid = myGrid)\n",
    "print(\"Accuracy random forest\")\n",
    "max(Kobeknn_r_m_rf$results$Accuracy)\n",
    "\n",
    "set.seed(333)\n",
    "myGridglm = expand.grid(alpha = 0:1,\n",
    "  lambda = seq(0.0001, 1, length = 1))\n",
    "Kobeknn_r_m_glm <- train( shot_made_flag~. ,data = Kobeknn_r_m, method = \"glmnet\", trControl = trainControl(method =\"cv\", number = 5, verboseIter = FALSE), tuneGrid = myGridglm)\n",
    "print(\"Accuracy glm\")\n",
    "max(Kobeknn_r_m_glm$results$Accuracy)\n",
    "\n",
    "set.seed(333)\n",
    "myGridrpart = expand.grid(cp = .05)\n",
    "Kobeknn_r_m_tree <- train( shot_made_flag~. ,data = Kobeknn_r_m, method = \"rpart\", trControl = trainControl(method =\"cv\", number = 5, verboseIter = FALSE), tuneGrid = myGridrpart)\n",
    "print(\"Accuracy decision tree\")\n",
    "max(Kobeknn_r_m_tree$results$Accuracy)\n",
    "\n",
    "set.seed(333)\n",
    "myGridnn = expand.grid(size=c(5), decay=c(1))\n",
    "Kobeknn_r_m_nn <- train( shot_made_flag~. ,data = Kobeknn_r_m, method = \"nnet\", trace = FALSE, trControl = trainControl(method =\"cv\", number = 5, verboseIter = FALSE), tuneGrid = myGridnn)\n",
    "print(\"Accuracy Neural Network\")\n",
    "max(Kobeknn_r_m_nn$results$Accuracy)"
   ]
  },
  {
   "cell_type": "markdown",
   "metadata": {},
   "source": [
    "### Complete cases, recoded, multi variable encoding (Kobe_CC_r_m)"
   ]
  },
  {
   "cell_type": "code",
   "execution_count": 48,
   "metadata": {},
   "outputs": [
    {
     "name": "stdout",
     "output_type": "stream",
     "text": [
      "[1] \"Accuracy random forest\"\n"
     ]
    },
    {
     "data": {
      "text/html": [
       "0.555597167022242"
      ],
      "text/latex": [
       "0.555597167022242"
      ],
      "text/markdown": [
       "0.555597167022242"
      ],
      "text/plain": [
       "[1] 0.5555972"
      ]
     },
     "metadata": {},
     "output_type": "display_data"
    },
    {
     "name": "stdout",
     "output_type": "stream",
     "text": [
      "[1] \"Accuracy glm\"\n"
     ]
    },
    {
     "data": {
      "text/html": [
       "0.614779897581099"
      ],
      "text/latex": [
       "0.614779897581099"
      ],
      "text/markdown": [
       "0.614779897581099"
      ],
      "text/plain": [
       "[1] 0.6147799"
      ]
     },
     "metadata": {},
     "output_type": "display_data"
    },
    {
     "name": "stdout",
     "output_type": "stream",
     "text": [
      "[1] \"Accuracy decision tree\"\n"
     ]
    },
    {
     "data": {
      "text/html": [
       "0.598618760839253"
      ],
      "text/latex": [
       "0.598618760839253"
      ],
      "text/markdown": [
       "0.598618760839253"
      ],
      "text/plain": [
       "[1] 0.5986188"
      ]
     },
     "metadata": {},
     "output_type": "display_data"
    },
    {
     "name": "stdout",
     "output_type": "stream",
     "text": [
      "[1] \"Accuracy Neural Network\"\n"
     ]
    },
    {
     "data": {
      "text/html": [
       "0.60686086655605"
      ],
      "text/latex": [
       "0.60686086655605"
      ],
      "text/markdown": [
       "0.60686086655605"
      ],
      "text/plain": [
       "[1] 0.6068609"
      ]
     },
     "metadata": {},
     "output_type": "display_data"
    }
   ],
   "source": [
    "set.seed(333)\n",
    "myGrid = expand.grid(mtry = 1, splitrule = \"gini\",\n",
    "                     min.node.size = 1)  \n",
    "KobeCC_r_m_rf <- train( shot_made_flag~. ,data = KobeCC_r_m, method = \"ranger\", trControl = trainControl(method =\"cv\", number = 5, verboseIter = FALSE), tuneGrid = myGrid)\n",
    "print(\"Accuracy random forest\")\n",
    "max(KobeCC_r_m_rf$results$Accuracy)\n",
    "\n",
    "set.seed(333)\n",
    "myGridglm = expand.grid(alpha = 0:1,\n",
    "  lambda = seq(0.0001, 1, length = 1))\n",
    "KobeCC_r_m_glm <- train( shot_made_flag~. ,data = KobeCC_r_m, method = \"glmnet\", trControl = trainControl(method =\"cv\", number = 5, verboseIter = FALSE), tuneGrid = myGridglm)\n",
    "print(\"Accuracy glm\")\n",
    "max(KobeCC_r_m_glm$results$Accuracy)\n",
    "\n",
    "set.seed(333)\n",
    "myGridrpart = expand.grid(cp = .05)\n",
    "KobeCC_r_m_tree <- train( shot_made_flag~. ,data = KobeCC_r_m, method = \"rpart\", trControl = trainControl(method =\"cv\", number = 5, verboseIter = FALSE), tuneGrid = myGridrpart)\n",
    "print(\"Accuracy decision tree\")\n",
    "max(KobeCC_r_m_tree$results$Accuracy)\n",
    "\n",
    "set.seed(333)\n",
    "myGridnn = expand.grid(size=c(5), decay=c(1))\n",
    "KobeCC_r_m_nn <- train( shot_made_flag~. ,data = KobeCC_r_m, method = \"nnet\", trace = FALSE, trControl = trainControl(method =\"cv\", number = 5, verboseIter = FALSE), tuneGrid = myGridnn)\n",
    "print(\"Accuracy Neural Network\")\n",
    "max(KobeCC_r_m_nn$results$Accuracy)"
   ]
  },
  {
   "cell_type": "markdown",
   "metadata": {},
   "source": [
    "## Tuning Best Models"
   ]
  },
  {
   "cell_type": "markdown",
   "metadata": {},
   "source": [
    "### The next step was tuning the models.  I decided to tune the best random forest, glmnet model, decision tree, and neural network."
   ]
  },
  {
   "cell_type": "markdown",
   "metadata": {},
   "source": [
    "### First I tuned the best random forest which was produced from the data that was median imputed and recoded, with single variable encoding.  It's original accuracy was .612286."
   ]
  },
  {
   "cell_type": "code",
   "execution_count": 49,
   "metadata": {},
   "outputs": [
    {
     "name": "stdout",
     "output_type": "stream",
     "text": [
      "[1] \"Accuracy random forest\"\n"
     ]
    },
    {
     "data": {
      "text/html": [
       "0.614079712399951"
      ],
      "text/latex": [
       "0.614079712399951"
      ],
      "text/markdown": [
       "0.614079712399951"
      ],
      "text/plain": [
       "[1] 0.6140797"
      ]
     },
     "metadata": {},
     "output_type": "display_data"
    }
   ],
   "source": [
    "set.seed(333)\n",
    "myGrid = expand.grid(mtry = c(1,2,3), splitrule = c(\"gini\", \"extratrees\"),\n",
    "                     min.node.size = 1:3)  \n",
    "KobeMed_r_s_rf_t <- train( shot_made_flag~. ,data = KobeMed_r_s, method = \"ranger\", trControl = trainControl(method =\"cv\", number = 5, verboseIter = FALSE), tuneGrid = myGrid)\n",
    "print(\"Accuracy random forest\")\n",
    "max(KobeMed_r_s_rf_t$results$Accuracy)"
   ]
  },
  {
   "cell_type": "markdown",
   "metadata": {},
   "source": [
    "### Second I tuned the best glmnet model which was produced from the data that was only complete cases, recoded, with multi variable encoding.  It's original accuracy was .6147799."
   ]
  },
  {
   "cell_type": "code",
   "execution_count": 50,
   "metadata": {},
   "outputs": [
    {
     "name": "stdout",
     "output_type": "stream",
     "text": [
      "[1] \"Accuracy glm\"\n"
     ]
    },
    {
     "data": {
      "text/html": [
       "0.615047434638045"
      ],
      "text/latex": [
       "0.615047434638045"
      ],
      "text/markdown": [
       "0.615047434638045"
      ],
      "text/plain": [
       "[1] 0.6150474"
      ]
     },
     "metadata": {},
     "output_type": "display_data"
    }
   ],
   "source": [
    "set.seed(333)\n",
    "myGridglm = expand.grid(alpha = c(0,.2,.4,.6,.8,1),\n",
    "  lambda = seq(0.000001, 10, length = 10))\n",
    "KobeCC_r_m_glm_t <- train( shot_made_flag~. ,data = KobeCC_r_m, method = \"glmnet\", trControl = trainControl(method =\"cv\", number = 5, verboseIter = FALSE), tuneGrid = myGridglm)\n",
    "print(\"Accuracy glm\")\n",
    "max(KobeCC_r_m_glm_t$results$Accuracy)"
   ]
  },
  {
   "cell_type": "markdown",
   "metadata": {},
   "source": [
    "### Next I tuned the best decision tree model which was produced from the data that was knn imputed and recoded with multi variable encoding.  It's original accuracy was .6117448."
   ]
  },
  {
   "cell_type": "code",
   "execution_count": 51,
   "metadata": {},
   "outputs": [
    {
     "name": "stdout",
     "output_type": "stream",
     "text": [
      "[1] \"Accuracy decision tree\"\n"
     ]
    },
    {
     "data": {
      "text/html": [
       "0.613846203935269"
      ],
      "text/latex": [
       "0.613846203935269"
      ],
      "text/markdown": [
       "0.613846203935269"
      ],
      "text/plain": [
       "[1] 0.6138462"
      ]
     },
     "metadata": {},
     "output_type": "display_data"
    }
   ],
   "source": [
    "set.seed(333)\n",
    "myGridrpart = expand.grid(cp = c(.0001,.0005,.001,.005, .01, .02,.03, .04,.05, .1,.5))\n",
    "Kobeknn_r_m_tree_t <- train( shot_made_flag~. ,data = Kobeknn_r_m, method = \"rpart\", trControl = trainControl(method =\"cv\", number = 5, verboseIter = FALSE), tuneGrid = myGridrpart)\n",
    "print(\"Accuracy decision tree\")\n",
    "max(Kobeknn_r_m_tree_t$results$Accuracy)"
   ]
  },
  {
   "cell_type": "markdown",
   "metadata": {},
   "source": [
    "### Lastly I tuned the best neural network model which was produced from the data that was knn imputed and recoded with single variable encoding. It's original accuracy was .612407."
   ]
  },
  {
   "cell_type": "code",
   "execution_count": 52,
   "metadata": {},
   "outputs": [
    {
     "name": "stdout",
     "output_type": "stream",
     "text": [
      "[1] \"Accuracy Neural Network\"\n"
     ]
    },
    {
     "data": {
      "text/html": [
       "0.613340443075497"
      ],
      "text/latex": [
       "0.613340443075497"
      ],
      "text/markdown": [
       "0.613340443075497"
      ],
      "text/plain": [
       "[1] 0.6133404"
      ]
     },
     "metadata": {},
     "output_type": "display_data"
    }
   ],
   "source": [
    "set.seed(333)\n",
    "myGridnn = expand.grid(size=c(3,4,5), decay=c(.5,.75, 1, 1.5, 2))\n",
    "Kobeknn_r_s_nn_t <- train( shot_made_flag~. ,data = Kobeknn_r_s, method = \"nnet\", trace = FALSE, trControl = trainControl(method =\"cv\", number = 5, verboseIter = FALSE), tuneGrid = myGridnn)\n",
    "print(\"Accuracy Neural Network\")\n",
    "max(Kobeknn_r_s_nn_t$results$Accuracy)"
   ]
  },
  {
   "cell_type": "markdown",
   "metadata": {},
   "source": [
    "## Conclusion"
   ]
  },
  {
   "cell_type": "markdown",
   "metadata": {},
   "source": [
    "### In conclusion, I found the best model to be the tuned glmnet model using data that had only complete cases, was recoded, and had multivariable encoding.  It's accuracy was .6150474.  In terms of paramters, it had an alpha of .4 and a lambda of .000001.  \n",
    "\n",
    "### While 61.50474% isn't the best accuracy, it was the best I was able to produce. This shows me that prediciting whether or not a shot goes in is very difficult in basketball; there are many factors that determine this that weren't part of my study such as power used and point of release.  In the future, to improve this study I think it would be useful to have more variables about the players body position, however, this prelimanry research was a good way to test my model building skills in R and gain exposure to the field of sports predicition.  I was happy that I was able to improve my initial models. "
   ]
  },
  {
   "cell_type": "markdown",
   "metadata": {},
   "source": [
    "### The final parameters can be seen below."
   ]
  },
  {
   "cell_type": "code",
   "execution_count": 53,
   "metadata": {},
   "outputs": [
    {
     "data": {
      "text/plain": [
       "glmnet \n",
       "\n",
       "18688 samples\n",
       "   60 predictor\n",
       "    2 classes: 'Missed', 'Made' \n",
       "\n",
       "No pre-processing\n",
       "Resampling: Cross-Validated (5 fold) \n",
       "Summary of sample sizes: 14951, 14951, 14950, 14950, 14950 \n",
       "Resampling results across tuning parameters:\n",
       "\n",
       "  alpha  lambda     Accuracy   Kappa      \n",
       "  0.0     0.000001  0.6147799  0.183107034\n",
       "  0.0     1.111112  0.6142982  0.179517109\n",
       "  0.0     2.222223  0.6136561  0.175335069\n",
       "  0.0     3.333334  0.5948737  0.101264128\n",
       "  0.0     4.444445  0.5918772  0.091199724\n",
       "  0.0     5.555556  0.5574700  0.004786349\n",
       "  0.0     6.666667  0.5555972  0.000000000\n",
       "  0.0     7.777778  0.5555972  0.000000000\n",
       "  0.0     8.888889  0.5555972  0.000000000\n",
       "  0.0    10.000000  0.5555972  0.000000000\n",
       "  0.2     0.000001  0.6145124  0.183045561\n",
       "  0.2     1.111112  0.5555972  0.000000000\n",
       "  0.2     2.222223  0.5555972  0.000000000\n",
       "  0.2     3.333334  0.5555972  0.000000000\n",
       "  0.2     4.444445  0.5555972  0.000000000\n",
       "  0.2     5.555556  0.5555972  0.000000000\n",
       "  0.2     6.666667  0.5555972  0.000000000\n",
       "  0.2     7.777778  0.5555972  0.000000000\n",
       "  0.2     8.888889  0.5555972  0.000000000\n",
       "  0.2    10.000000  0.5555972  0.000000000\n",
       "  0.4     0.000001  0.6150474  0.184138969\n",
       "  0.4     1.111112  0.5555972  0.000000000\n",
       "  0.4     2.222223  0.5555972  0.000000000\n",
       "  0.4     3.333334  0.5555972  0.000000000\n",
       "  0.4     4.444445  0.5555972  0.000000000\n",
       "  0.4     5.555556  0.5555972  0.000000000\n",
       "  0.4     6.666667  0.5555972  0.000000000\n",
       "  0.4     7.777778  0.5555972  0.000000000\n",
       "  0.4     8.888889  0.5555972  0.000000000\n",
       "  0.4    10.000000  0.5555972  0.000000000\n",
       "  0.6     0.000001  0.6146194  0.183252274\n",
       "  0.6     1.111112  0.5555972  0.000000000\n",
       "  0.6     2.222223  0.5555972  0.000000000\n",
       "  0.6     3.333334  0.5555972  0.000000000\n",
       "  0.6     4.444445  0.5555972  0.000000000\n",
       "  0.6     5.555556  0.5555972  0.000000000\n",
       "  0.6     6.666667  0.5555972  0.000000000\n",
       "  0.6     7.777778  0.5555972  0.000000000\n",
       "  0.6     8.888889  0.5555972  0.000000000\n",
       "  0.6    10.000000  0.5555972  0.000000000\n",
       "  0.8     0.000001  0.6146729  0.183438648\n",
       "  0.8     1.111112  0.5555972  0.000000000\n",
       "  0.8     2.222223  0.5555972  0.000000000\n",
       "  0.8     3.333334  0.5555972  0.000000000\n",
       "  0.8     4.444445  0.5555972  0.000000000\n",
       "  0.8     5.555556  0.5555972  0.000000000\n",
       "  0.8     6.666667  0.5555972  0.000000000\n",
       "  0.8     7.777778  0.5555972  0.000000000\n",
       "  0.8     8.888889  0.5555972  0.000000000\n",
       "  0.8    10.000000  0.5555972  0.000000000\n",
       "  1.0     0.000001  0.6144054  0.182881665\n",
       "  1.0     1.111112  0.5555972  0.000000000\n",
       "  1.0     2.222223  0.5555972  0.000000000\n",
       "  1.0     3.333334  0.5555972  0.000000000\n",
       "  1.0     4.444445  0.5555972  0.000000000\n",
       "  1.0     5.555556  0.5555972  0.000000000\n",
       "  1.0     6.666667  0.5555972  0.000000000\n",
       "  1.0     7.777778  0.5555972  0.000000000\n",
       "  1.0     8.888889  0.5555972  0.000000000\n",
       "  1.0    10.000000  0.5555972  0.000000000\n",
       "\n",
       "Accuracy was used to select the optimal model using the largest value.\n",
       "The final values used for the model were alpha = 0.4 and lambda = 1e-06."
      ]
     },
     "metadata": {},
     "output_type": "display_data"
    }
   ],
   "source": [
    "KobeCC_r_m_glm_t"
   ]
  }
 ],
 "metadata": {
  "kernelspec": {
   "display_name": "R",
   "language": "R",
   "name": "ir"
  },
  "language_info": {
   "codemirror_mode": "r",
   "file_extension": ".r",
   "mimetype": "text/x-r-source",
   "name": "R",
   "pygments_lexer": "r",
   "version": "3.5.1"
  }
 },
 "nbformat": 4,
 "nbformat_minor": 2
}
