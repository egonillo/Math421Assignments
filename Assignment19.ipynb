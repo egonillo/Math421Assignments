{
 "cells": [
  {
   "cell_type": "markdown",
   "metadata": {},
   "source": [
    "## Assignment 19: The goal of this assignment was to run multiple random forests using undersampling and create a model using a majority vote.\n",
    "\n",
    "### The first step was to upload and clean the bank data.  After that I followed the prompts laid out in the assignment."
   ]
  },
  {
   "cell_type": "code",
   "execution_count": 3,
   "metadata": {},
   "outputs": [
    {
     "data": {
      "text/html": [
       "0"
      ],
      "text/latex": [
       "0"
      ],
      "text/markdown": [
       "0"
      ],
      "text/plain": [
       "[1] 0"
      ]
     },
     "metadata": {},
     "output_type": "display_data"
    }
   ],
   "source": [
    "bank = read.csv('hmeq.csv')\n",
    "bank$BAD = as.factor(bank$BAD)\n",
    "names(bank)[1] = \"target\"\n",
    "\n",
    "quick_clean <- function(df, p)\n",
    "{\n",
    "if(p == 1)\n",
    "{\n",
    "fixcol = function(y)\n",
    "{if(is.numeric(y) == TRUE)\n",
    "{y[is.na(y)] = mean(y, na.rm = TRUE)}\n",
    "  else\n",
    "  {\n",
    "      levels = unique(y)\n",
    "      y[is.na(y)] = levels[which.max(tabulate(match(y, levels)))]\n",
    "  }\n",
    "  return(y)\n",
    "  }\n",
    "df = lapply(df, fixcol)\n",
    "return(data.frame(df))\n",
    "}\n",
    "else if (p==0)\n",
    "{\n",
    "na.omit(df)\n",
    "}\n",
    "  else\n",
    "  {print(\"Argument 2 needs to be 0 or 1\")}\n",
    "}\n",
    "\n",
    "bank = quick_clean(bank, 1)\n",
    "sum(is.na(bank))"
   ]
  },
  {
   "cell_type": "markdown",
   "metadata": {},
   "source": [
    "### 1.\tTrain a random forest using undersampling. Let rf1 to be the trained model"
   ]
  },
  {
   "cell_type": "code",
   "execution_count": 4,
   "metadata": {},
   "outputs": [],
   "source": [
    "library(caret)\n",
    "splitIndex <- createDataPartition(bank$target, p = .70, list = FALSE, times = 1)\n",
    "train <- bank[ splitIndex,]\n",
    "test <- bank[-splitIndex,]\n",
    "\n",
    "library(ranger)\n",
    "train0 = train[train$target == \"0\",]\n",
    "n0 = nrow(train0)\n",
    "train1 = train[train$target == \"1\",]\n",
    "n1 = nrow(train1)\n",
    "train00 = train0[sample(1:n0, n1),]\n",
    "train_under = rbind(train1, train00)\n",
    "rf1 = ranger(target ~., data = train_under)"
   ]
  },
  {
   "cell_type": "markdown",
   "metadata": {},
   "source": [
    "### 2.\tUse rf1 to produce the prediction for the test set.  Let c1 to be a column vector contain all the predictions. The values in c1 should only be 0 or 1."
   ]
  },
  {
   "cell_type": "code",
   "execution_count": 5,
   "metadata": {},
   "outputs": [
    {
     "data": {
      "text/html": [
       "<strong>Accuracy:</strong> 0.874090654728595"
      ],
      "text/latex": [
       "\\textbf{Accuracy:} 0.874090654728595"
      ],
      "text/markdown": [
       "**Accuracy:** 0.874090654728595"
      ],
      "text/plain": [
       " Accuracy \n",
       "0.8740907 "
      ]
     },
     "metadata": {},
     "output_type": "display_data"
    },
    {
     "data": {
      "text/html": [
       "<strong>Balanced Accuracy:</strong> 0.883400466398134"
      ],
      "text/latex": [
       "\\textbf{Balanced Accuracy:} 0.883400466398134"
      ],
      "text/markdown": [
       "**Balanced Accuracy:** 0.883400466398134"
      ],
      "text/plain": [
       "Balanced Accuracy \n",
       "        0.8834005 "
      ]
     },
     "metadata": {},
     "output_type": "display_data"
    }
   ],
   "source": [
    "c1 = predict(rf1, data = test)$predictions\n",
    "cm=confusionMatrix(c1, test$target, positive = \"1\")\n",
    "cm$overall['Accuracy']\n",
    "cm$byClass['Balanced Accuracy']"
   ]
  },
  {
   "cell_type": "markdown",
   "metadata": {},
   "source": [
    "### 3.\tRedo 1 and 2 to create c2, c3, c4,., c1000\n",
    "### 4.\tMerge columns c1, c2, c1000 in to a matrix mc. "
   ]
  },
  {
   "cell_type": "code",
   "execution_count": 6,
   "metadata": {},
   "outputs": [],
   "source": [
    "n = 1000\n",
    "mc = NULL\n",
    "for(i in 1:n)\n",
    "{\n",
    "train0 = train[train$target == \"0\",]\n",
    "n0 = nrow(train0)\n",
    "train1 = train[train$target == \"1\",]\n",
    "n1 = nrow(train1)\n",
    "train00 = train0[sample(1:n0, n1),]\n",
    "train_under = rbind(train1, train00)\n",
    "rf = ranger(target ~., data = train_under)\n",
    "c  = predict(rf, data = test)$predictions\n",
    "mc = matrix(data = c(mc, c),ncol = i)\n",
    "}\n",
    "\n",
    "mc = mc - 1"
   ]
  },
  {
   "cell_type": "markdown",
   "metadata": {},
   "source": [
    "### 5.\tLet cc be a row mode of mc.  The vector cc is the majority vote of 1000 predictions for the test set. "
   ]
  },
  {
   "cell_type": "code",
   "execution_count": 7,
   "metadata": {},
   "outputs": [],
   "source": [
    "cc = as.factor(c(round(rowMeans(mc))))"
   ]
  },
  {
   "cell_type": "markdown",
   "metadata": {},
   "source": [
    "### 6.\tProduce the confusion matrix based on cc and the true target. "
   ]
  },
  {
   "cell_type": "code",
   "execution_count": 8,
   "metadata": {},
   "outputs": [
    {
     "data": {
      "text/html": [
       "<strong>Accuracy:</strong> 0.883603805260213"
      ],
      "text/latex": [
       "\\textbf{Accuracy:} 0.883603805260213"
      ],
      "text/markdown": [
       "**Accuracy:** 0.883603805260213"
      ],
      "text/plain": [
       " Accuracy \n",
       "0.8836038 "
      ]
     },
     "metadata": {},
     "output_type": "display_data"
    },
    {
     "data": {
      "text/html": [
       "<strong>Balanced Accuracy:</strong> 0.885120015075495"
      ],
      "text/latex": [
       "\\textbf{Balanced Accuracy:} 0.885120015075495"
      ],
      "text/markdown": [
       "**Balanced Accuracy:** 0.885120015075495"
      ],
      "text/plain": [
       "Balanced Accuracy \n",
       "          0.88512 "
      ]
     },
     "metadata": {},
     "output_type": "display_data"
    },
    {
     "data": {
      "text/plain": [
       "Confusion Matrix and Statistics\n",
       "\n",
       "          Reference\n",
       "Prediction    0    1\n",
       "         0 1263   40\n",
       "         1  168  316\n",
       "                                          \n",
       "               Accuracy : 0.8836          \n",
       "                 95% CI : (0.8678, 0.8981)\n",
       "    No Information Rate : 0.8008          \n",
       "    P-Value [Acc > NIR] : < 2.2e-16       \n",
       "                                          \n",
       "                  Kappa : 0.6786          \n",
       " Mcnemar's Test P-Value : < 2.2e-16       \n",
       "                                          \n",
       "            Sensitivity : 0.8876          \n",
       "            Specificity : 0.8826          \n",
       "         Pos Pred Value : 0.6529          \n",
       "         Neg Pred Value : 0.9693          \n",
       "             Prevalence : 0.1992          \n",
       "         Detection Rate : 0.1768          \n",
       "   Detection Prevalence : 0.2708          \n",
       "      Balanced Accuracy : 0.8851          \n",
       "                                          \n",
       "       'Positive' Class : 1               \n",
       "                                          "
      ]
     },
     "metadata": {},
     "output_type": "display_data"
    },
    {
     "name": "stdout",
     "output_type": "stream",
     "text": [
      "[1] \"The 1000 run simulations produced a better accuracy and balanced accuracy than the single run\"\n"
     ]
    }
   ],
   "source": [
    "cm1000 = confusionMatrix(cc, test$target, positive = \"1\")\n",
    "cm1000$overall['Accuracy']\n",
    "cm1000$byClass['Balanced Accuracy']\n",
    "cm1000\n",
    "\n",
    "print(\"The 1000 run simulations produced a better accuracy and balanced accuracy than the single run\")"
   ]
  }
 ],
 "metadata": {
  "kernelspec": {
   "display_name": "R",
   "language": "R",
   "name": "ir"
  },
  "language_info": {
   "codemirror_mode": "r",
   "file_extension": ".r",
   "mimetype": "text/x-r-source",
   "name": "R",
   "pygments_lexer": "r",
   "version": "3.5.1"
  }
 },
 "nbformat": 4,
 "nbformat_minor": 2
}
