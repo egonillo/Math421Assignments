{
 "cells": [
  {
   "cell_type": "markdown",
   "metadata": {},
   "source": [
    "## Assignment 18: The goal of this assignment is to balance data to improve a model's balanced acuracy.\n",
    "\n",
    "### In order to complete the assignment I followed the steps below.\n",
    "\n",
    "### 1.\tThe target is Bad. Import the data and correct the type of variables"
   ]
  },
  {
   "cell_type": "code",
   "execution_count": 27,
   "metadata": {},
   "outputs": [],
   "source": [
    "bank = read.csv('hmeq.csv')\n",
    "bank$BAD = as.factor(bank$BAD)\n",
    "names(bank)[1] = \"target\""
   ]
  },
  {
   "cell_type": "markdown",
   "metadata": {},
   "source": [
    "### 2.\tQuick Clean the data to handle missing values"
   ]
  },
  {
   "cell_type": "code",
   "execution_count": 28,
   "metadata": {},
   "outputs": [
    {
     "data": {
      "text/html": [
       "0"
      ],
      "text/latex": [
       "0"
      ],
      "text/markdown": [
       "0"
      ],
      "text/plain": [
       "[1] 0"
      ]
     },
     "metadata": {},
     "output_type": "display_data"
    }
   ],
   "source": [
    "quick_clean <- function(df, p)\n",
    "{\n",
    "if(p == 1)\n",
    "{\n",
    "fixcol = function(y)\n",
    "{if(is.numeric(y) == TRUE)\n",
    "{y[is.na(y)] = mean(y, na.rm = TRUE)}\n",
    "  else\n",
    "  {\n",
    "      levels = unique(y)\n",
    "      y[is.na(y)] = levels[which.max(tabulate(match(y, levels)))]\n",
    "  }\n",
    "  return(y)\n",
    "  }\n",
    "df = lapply(df, fixcol)\n",
    "return(data.frame(df))\n",
    "}\n",
    "else if (p==0)\n",
    "{\n",
    "na.omit(df)\n",
    "}\n",
    "  else\n",
    "  {print(\"Argument 2 needs to be 0 or 1\")}\n",
    "}\n",
    "\n",
    "bank = quick_clean(bank, 1)\n",
    "sum(is.na(bank))"
   ]
  },
  {
   "cell_type": "markdown",
   "metadata": {},
   "source": [
    "### 3.\tSplit the data into 70% training, 30% testing"
   ]
  },
  {
   "cell_type": "code",
   "execution_count": 29,
   "metadata": {},
   "outputs": [],
   "source": [
    "set.seed(42)\n",
    "library(caret)\n",
    "splitIndex <- createDataPartition(bank$target, p = .70, list = FALSE, times = 1)\n",
    "train <- bank[ splitIndex,]\n",
    "test <- bank[-splitIndex,]"
   ]
  },
  {
   "cell_type": "markdown",
   "metadata": {},
   "source": [
    "### 4.\tTrain and test random forest (ranger).  Report the misclassification/accuracy and balanced accuracy. "
   ]
  },
  {
   "cell_type": "code",
   "execution_count": 30,
   "metadata": {},
   "outputs": [
    {
     "data": {
      "text/html": [
       "<strong>Accuracy:</strong> 0.922775601566872"
      ],
      "text/latex": [
       "\\textbf{Accuracy:} 0.922775601566872"
      ],
      "text/markdown": [
       "**Accuracy:** 0.922775601566872"
      ],
      "text/plain": [
       " Accuracy \n",
       "0.9227756 "
      ]
     },
     "metadata": {},
     "output_type": "display_data"
    },
    {
     "data": {
      "text/html": [
       "<strong>Balanced Accuracy:</strong> 0.850493486914941"
      ],
      "text/latex": [
       "\\textbf{Balanced Accuracy:} 0.850493486914941"
      ],
      "text/markdown": [
       "**Balanced Accuracy:** 0.850493486914941"
      ],
      "text/plain": [
       "Balanced Accuracy \n",
       "        0.8504935 "
      ]
     },
     "metadata": {},
     "output_type": "display_data"
    },
    {
     "name": "stdout",
     "output_type": "stream",
     "text": [
      "[1] \"Balanced Accuracy is a good amount less than accuracy due to the data being imbalanced.\"\n"
     ]
    }
   ],
   "source": [
    "set.seed(42)\n",
    "\n",
    "library(ranger)\n",
    "model = ranger(target ~., data = train)\n",
    "pred  = predict(model, data = test)$predictions\n",
    "cm=confusionMatrix(pred, test$target, positive = \"1\")\n",
    "cm$overall['Accuracy']\n",
    "cm$byClass['Balanced Accuracy']\n",
    "\n",
    "print(\"Balanced Accuracy is a good amount less than accuracy due to the data being imbalanced.\")"
   ]
  },
  {
   "cell_type": "markdown",
   "metadata": {},
   "source": [
    "### 5.\tReport the ratio of Default: Non-Default clients. "
   ]
  },
  {
   "cell_type": "code",
   "execution_count": 31,
   "metadata": {},
   "outputs": [
    {
     "data": {
      "text/plain": [
       "\n",
       "   0    1 \n",
       "4771 1189 "
      ]
     },
     "metadata": {},
     "output_type": "display_data"
    },
    {
     "name": "stdout",
     "output_type": "stream",
     "text": [
      "[1] \"Default: Non-Default ratio\"\n"
     ]
    },
    {
     "data": {
      "text/html": [
       "<strong>1:</strong> 0.249214001257598"
      ],
      "text/latex": [
       "\\textbf{1:} 0.249214001257598"
      ],
      "text/markdown": [
       "**1:** 0.249214001257598"
      ],
      "text/plain": [
       "       1 \n",
       "0.249214 "
      ]
     },
     "metadata": {},
     "output_type": "display_data"
    }
   ],
   "source": [
    "table(bank$target)\n",
    "\n",
    "print(\"Default: Non-Default ratio\")\n",
    "table(bank$target)[2]/table(bank$target)[1]"
   ]
  },
  {
   "cell_type": "markdown",
   "metadata": {},
   "source": [
    "### 6.\tThe target is imbalanced.  Thus, it affects the sensitivity, or true positive rate. Follow the below steps to balance the data using undersampling: "
   ]
  },
  {
   "cell_type": "code",
   "execution_count": 32,
   "metadata": {},
   "outputs": [
    {
     "data": {
      "text/html": [
       "<strong>Accuracy:</strong> 0.884163402350308"
      ],
      "text/latex": [
       "\\textbf{Accuracy:} 0.884163402350308"
      ],
      "text/markdown": [
       "**Accuracy:** 0.884163402350308"
      ],
      "text/plain": [
       " Accuracy \n",
       "0.8841634 "
      ]
     },
     "metadata": {},
     "output_type": "display_data"
    },
    {
     "data": {
      "text/html": [
       "<strong>Balanced Accuracy:</strong> 0.880193979224083"
      ],
      "text/latex": [
       "\\textbf{Balanced Accuracy:} 0.880193979224083"
      ],
      "text/markdown": [
       "**Balanced Accuracy:** 0.880193979224083"
      ],
      "text/plain": [
       "Balanced Accuracy \n",
       "         0.880194 "
      ]
     },
     "metadata": {},
     "output_type": "display_data"
    },
    {
     "name": "stdout",
     "output_type": "stream",
     "text": [
      "[1] \"Overall accuracy was reduced, but balanced accuracy was increased and is just about the same as accuracy.\"\n"
     ]
    }
   ],
   "source": [
    "set.seed(42)\n",
    "\n",
    "#\tSplit the training data into two dataset:  train1 that contains default clients and train0 containing non-default clients.  Let n1 and n0 be the size of these two data respectively. \n",
    "\n",
    "\n",
    "train0 = train[train$target == \"0\",]\n",
    "n0 = nrow(train0)\n",
    "\n",
    "train1 = train[train$target == \"1\",]\n",
    "n1 = nrow(train1)\n",
    "\n",
    "# Select randomly n1 clients from the dataset train0.  (You can use the sample function for this). Let train00 be the dataset containing these clients. \n",
    "\n",
    "train00 = train0[sample(1:n0, n1),]\n",
    "\n",
    "#\tCombine (using rbind function) by row train00 and train1 to get dataset train_under\n",
    "\n",
    "train_under = rbind(train1, train00)\n",
    "\n",
    "# Train random forest (ranger) on train_under\n",
    "# Test the model on the test data and report the balanced accuracy.\n",
    "\n",
    "model = ranger(target ~., data = train_under)\n",
    "pred  = predict(model, data = test)$predictions\n",
    "cm=confusionMatrix(pred, test$target, positive = \"1\")\n",
    "cm$overall['Accuracy']\n",
    "cm$byClass['Balanced Accuracy']\n",
    "\n",
    "\n",
    "print(\"Overall accuracy was reduced, but balanced accuracy was increased and is just about the same as accuracy.\")"
   ]
  },
  {
   "cell_type": "markdown",
   "metadata": {},
   "source": [
    "### 7.\tFollow the below steps to balance the data using oversampling    "
   ]
  },
  {
   "cell_type": "code",
   "execution_count": 33,
   "metadata": {},
   "outputs": [
    {
     "data": {
      "text/html": [
       "<strong>Accuracy:</strong> 0.919977616116396"
      ],
      "text/latex": [
       "\\textbf{Accuracy:} 0.919977616116396"
      ],
      "text/markdown": [
       "**Accuracy:** 0.919977616116396"
      ],
      "text/plain": [
       " Accuracy \n",
       "0.9199776 "
      ]
     },
     "metadata": {},
     "output_type": "display_data"
    },
    {
     "data": {
      "text/html": [
       "<strong>Balanced Accuracy:</strong> 0.869848224310807"
      ],
      "text/latex": [
       "\\textbf{Balanced Accuracy:} 0.869848224310807"
      ],
      "text/markdown": [
       "**Balanced Accuracy:** 0.869848224310807"
      ],
      "text/plain": [
       "Balanced Accuracy \n",
       "        0.8698482 "
      ]
     },
     "metadata": {},
     "output_type": "display_data"
    },
    {
     "name": "stdout",
     "output_type": "stream",
     "text": [
      "[1] \"Using oversampling, the Balanced Accuracy increases less than when using undersampling, however, the overall accuracy doesn't decrease as much.\"\n"
     ]
    }
   ],
   "source": [
    "set.seed(42)\n",
    "\n",
    "# Split the training data into two dataset:  train1 that contains default clients and train0 containing non-default clients.  Let n1 and n0 be the size of these two data respectively.\n",
    "\n",
    "train0 = train[train$target == \"0\",]\n",
    "n0 = nrow(train0)\n",
    "\n",
    "train1 = train[train$target == \"1\",]\n",
    "n1 = nrow(train1)\n",
    "\n",
    "# Select randomly n0 clients from the dataset train1, with replacement.  (You can use the sample function for this). Let train11 be the dataset containing these clients.\n",
    "\n",
    "train11 = train1[sample(1:n1, n0, replace = TRUE), ]\n",
    "\n",
    "# Combine by row train0 and train11 to get dataset train_over\n",
    "\n",
    "train_over = rbind(train0, train11)\n",
    "\n",
    "# Train random forest (ranger) on traino_over\n",
    "# Test the model on the test data and report the balanced accuracy.\n",
    "\n",
    "model = ranger(target ~., data = train_over)\n",
    "pred  = predict(model, data = test)$predictions\n",
    "cm=confusionMatrix(pred, test$target, positive = \"1\")\n",
    "cm$overall['Accuracy']\n",
    "cm$byClass['Balanced Accuracy']\n",
    "\n",
    "print(\"Using oversampling, the Balanced Accuracy increases less than when using undersampling, however, the overall accuracy doesn't decrease as much.\")"
   ]
  },
  {
   "cell_type": "markdown",
   "metadata": {},
   "source": [
    "### 8.\tWrite a function called Quick_bal.  This function... Inputs:  a dataset argument with a target variable named target; a method argument specifying undersampling (1) or oversampling (2).\tOutputs: a dataset with a balanced target. "
   ]
  },
  {
   "cell_type": "code",
   "execution_count": 34,
   "metadata": {},
   "outputs": [
    {
     "name": "stdout",
     "output_type": "stream",
     "text": [
      "[1] \"Undersampling positive and and negative target group sizes\"\n"
     ]
    },
    {
     "data": {
      "text/plain": [
       "\n",
       "   0    1 \n",
       "1189 1189 "
      ]
     },
     "metadata": {},
     "output_type": "display_data"
    },
    {
     "name": "stdout",
     "output_type": "stream",
     "text": [
      "[1] \"Oversampling positive and and negative target group sizes\"\n"
     ]
    },
    {
     "data": {
      "text/plain": [
       "\n",
       "   0    1 \n",
       "4771 4771 "
      ]
     },
     "metadata": {},
     "output_type": "display_data"
    }
   ],
   "source": [
    "Quick_bal = function(df, method)\n",
    "{\n",
    "  if(method == 1) #Undersampling\n",
    "  {\n",
    "balance0 = df[df$target == \"0\",]\n",
    "n0 = nrow(balance0)\n",
    "\n",
    "balance1 = df[df$target == \"1\",]\n",
    "n1 = nrow(balance1)\n",
    "\n",
    "balance00 = balance0[sample(1:n0, n1),]\n",
    "\n",
    "balanced_under = rbind(balance1, balance00)\n",
    "print(\"Undersampling positive and and negative target group sizes\")\n",
    "table(balanced_under$target)\n",
    "  }\n",
    "  else\n",
    "  if(method == 2) #Oversampling\n",
    "  {\n",
    "balance0 = df[df$target == \"0\",]\n",
    "n0 = nrow(balance0)\n",
    "\n",
    "balance1 = df[df$target == \"1\",]\n",
    "n1 = nrow(balance1)\n",
    "\n",
    "balance11 = balance1[sample(1:n1, n0, replace = TRUE),]\n",
    "\n",
    "balanced_over = rbind(balance11, balance0)\n",
    "print(\"Oversampling positive and and negative target group sizes\")\n",
    "table(balanced_over$target)\n",
    "  }\n",
    "}\n",
    "\n",
    "Quick_bal(bank, 1)\n",
    "Quick_bal(bank, 2)"
   ]
  },
  {
   "cell_type": "markdown",
   "metadata": {},
   "source": [
    "### 9.\tPut 6 and 7 into a function called Quick_model_bal. This function, Inputs: a dataset with a target variable named target, Output: the balanced accuracies of random forest with undersampling and oversampling being applied on the training dataset. "
   ]
  },
  {
   "cell_type": "code",
   "execution_count": 35,
   "metadata": {},
   "outputs": [
    {
     "name": "stdout",
     "output_type": "stream",
     "text": [
      "[1] \"Undersampling Accuracy and Balanced Accuracy\"\n",
      " Accuracy \n",
      "0.8841634 \n",
      "Balanced Accuracy \n",
      "         0.880194 \n",
      "[1] \"Oversampling Accuracy and Balanced Accuracy\"\n",
      " Accuracy \n",
      "0.9199776 \n",
      "Balanced Accuracy \n",
      "        0.8698482 \n"
     ]
    }
   ],
   "source": [
    "Quick_model_bal = function(df)\n",
    "{\n",
    "set.seed(42)\n",
    "library(caret)\n",
    "splitIndex <- createDataPartition(df$target, p = .70, list = FALSE, times = 1)\n",
    "ftrain <- df[ splitIndex,]\n",
    "ftest <- df[-splitIndex,]\n",
    "\n",
    "set.seed(42)\n",
    "u_train0 = ftrain[ftrain$target == \"0\",]\n",
    "u_n0 = nrow(u_train0)\n",
    "u_train1 = ftrain[train$target == \"1\",]\n",
    "u_n1 = nrow(u_train1)\n",
    "u_train00 = u_train0[sample(1:u_n0, u_n1),]\n",
    "train_under = rbind(u_train1, u_train00)\n",
    "u_model = ranger(target ~., data = train_under)\n",
    "u_pred  = predict(u_model, data = ftest)$predictions\n",
    "u_cm=confusionMatrix(u_pred, ftest$target, positive = \"1\")\n",
    "\n",
    "print(\"Undersampling Accuracy and Balanced Accuracy\")\n",
    "print(u_cm$overall['Accuracy'])\n",
    "print(u_cm$byClass['Balanced Accuracy'])\n",
    "\n",
    "set.seed(42)\n",
    "o_train0 = ftrain[ftrain$target == \"0\",]\n",
    "o_n0 = nrow(o_train0)\n",
    "o_train1 = ftrain[ftrain$target == \"1\",]\n",
    "o_n1 = nrow(o_train1)\n",
    "o_train11 = o_train1[sample(1:o_n1, o_n0, replace = TRUE), ]\n",
    "train_over = rbind(o_train0, o_train11)\n",
    "o_model = ranger(target ~., data = train_over)\n",
    "o_pred  = predict(o_model, data = ftest)$predictions\n",
    "o_cm=confusionMatrix(o_pred, ftest$target, positive = \"1\")\n",
    "print(\"Oversampling Accuracy and Balanced Accuracy\")\n",
    "print(o_cm$overall['Accuracy'])\n",
    "print(o_cm$byClass['Balanced Accuracy'])\n",
    "}\n",
    "\n",
    "\n",
    "Quick_model_bal(bank)"
   ]
  }
 ],
 "metadata": {
  "kernelspec": {
   "display_name": "R",
   "language": "R",
   "name": "ir"
  },
  "language_info": {
   "codemirror_mode": "r",
   "file_extension": ".r",
   "mimetype": "text/x-r-source",
   "name": "R",
   "pygments_lexer": "r",
   "version": "3.5.1"
  }
 },
 "nbformat": 4,
 "nbformat_minor": 2
}
