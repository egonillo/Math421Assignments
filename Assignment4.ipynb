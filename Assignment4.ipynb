{
 "cells": [
  {
   "cell_type": "markdown",
   "metadata": {},
   "source": [
    "## Assignment 4: The Goal of this assignment is to write basic functions in R.\n",
    "\n",
    "### The first chunk of code below loads in the titanic dataset that we will use to test out these functions. The following code chunks will create functions and test them out."
   ]
  },
  {
   "cell_type": "code",
   "execution_count": 1,
   "metadata": {},
   "outputs": [],
   "source": [
    "knitr::opts_chunk$set(echo = TRUE)\n",
    "titanic = read.csv(\"titanic.csv\")\n",
    "titanic$Pclass = factor(titanic$Pclass)\n",
    "titanic$Survived = factor(titanic$Survived)"
   ]
  },
  {
   "cell_type": "markdown",
   "metadata": {},
   "source": [
    "### 1. Write a function: input a number x and return x^2+3x+1."
   ]
  },
  {
   "cell_type": "code",
   "execution_count": 2,
   "metadata": {},
   "outputs": [
    {
     "data": {
      "text/html": [
       "19"
      ],
      "text/latex": [
       "19"
      ],
      "text/markdown": [
       "19"
      ],
      "text/plain": [
       "[1] 19"
      ]
     },
     "metadata": {},
     "output_type": "display_data"
    }
   ],
   "source": [
    "quadraticf = function(x)\n",
    "{\n",
    "  x^2 +3*x +1\n",
    "}\n",
    "\n",
    "quadraticf(3)"
   ]
  },
  {
   "cell_type": "markdown",
   "metadata": {},
   "source": [
    "### 2. Write a function: input a vector and return the product of all the entries in the vector."
   ]
  },
  {
   "cell_type": "code",
   "execution_count": 3,
   "metadata": {},
   "outputs": [
    {
     "data": {
      "text/html": [
       "84"
      ],
      "text/latex": [
       "84"
      ],
      "text/markdown": [
       "84"
      ],
      "text/plain": [
       "[1] 84"
      ]
     },
     "metadata": {},
     "output_type": "display_data"
    }
   ],
   "source": [
    "vectorprod = function(v)\n",
    "{\n",
    "  return(prod(v))\n",
    "}\n",
    "\n",
    "vectorprod(c(1,3,4,7))"
   ]
  },
  {
   "cell_type": "markdown",
   "metadata": {},
   "source": [
    "### 3. Write a function: input a vector v and a number n and return a vector with its missing data being replaced by n."
   ]
  },
  {
   "cell_type": "code",
   "execution_count": 4,
   "metadata": {},
   "outputs": [
    {
     "data": {
      "text/html": [
       "<ol class=list-inline>\n",
       "\t<li>1</li>\n",
       "\t<li>3</li>\n",
       "\t<li>5</li>\n",
       "\t<li>6</li>\n",
       "\t<li>5</li>\n",
       "</ol>\n"
      ],
      "text/latex": [
       "\\begin{enumerate*}\n",
       "\\item 1\n",
       "\\item 3\n",
       "\\item 5\n",
       "\\item 6\n",
       "\\item 5\n",
       "\\end{enumerate*}\n"
      ],
      "text/markdown": [
       "1. 1\n",
       "2. 3\n",
       "3. 5\n",
       "4. 6\n",
       "5. 5\n",
       "\n",
       "\n"
      ],
      "text/plain": [
       "[1] 1 3 5 6 5"
      ]
     },
     "metadata": {},
     "output_type": "display_data"
    }
   ],
   "source": [
    "vectorfix = function(v, n)\n",
    "{\n",
    "  v[is.na(v)]=n\n",
    "  return(v)\n",
    "}\n",
    "\n",
    "vectorfix(c(1,3,NA,6, NA), 5)"
   ]
  },
  {
   "cell_type": "markdown",
   "metadata": {},
   "source": [
    "### 4. Write a function: input a numeric vector and return a vector with its missing data being replaced by the mean of the vector."
   ]
  },
  {
   "cell_type": "code",
   "execution_count": 5,
   "metadata": {},
   "outputs": [
    {
     "data": {
      "text/html": [
       "<ol class=list-inline>\n",
       "\t<li>5</li>\n",
       "\t<li>4</li>\n",
       "\t<li>6</li>\n",
       "\t<li>6</li>\n",
       "\t<li>6</li>\n",
       "\t<li>7</li>\n",
       "\t<li>8</li>\n",
       "\t<li>6</li>\n",
       "</ol>\n"
      ],
      "text/latex": [
       "\\begin{enumerate*}\n",
       "\\item 5\n",
       "\\item 4\n",
       "\\item 6\n",
       "\\item 6\n",
       "\\item 6\n",
       "\\item 7\n",
       "\\item 8\n",
       "\\item 6\n",
       "\\end{enumerate*}\n"
      ],
      "text/markdown": [
       "1. 5\n",
       "2. 4\n",
       "3. 6\n",
       "4. 6\n",
       "5. 6\n",
       "6. 7\n",
       "7. 8\n",
       "8. 6\n",
       "\n",
       "\n"
      ],
      "text/plain": [
       "[1] 5 4 6 6 6 7 8 6"
      ]
     },
     "metadata": {},
     "output_type": "display_data"
    }
   ],
   "source": [
    "vectorfix2 = function(v)\n",
    "{\n",
    "  v[is.na(v)]=mean(v, na.rm = TRUE)\n",
    "  return(v)\n",
    "}\n",
    "\n",
    "vectorfix2(c(5, 4, NA, NA, 6, 7, 8, NA))"
   ]
  },
  {
   "cell_type": "markdown",
   "metadata": {},
   "source": [
    "### 5. Write a function: input a data frame and return a data frame with numeric missing values being replaced by the mean of the corresponding column.  Check your function on the titanic data"
   ]
  },
  {
   "cell_type": "code",
   "execution_count": 6,
   "metadata": {},
   "outputs": [
    {
     "data": {
      "text/html": [
       "0"
      ],
      "text/latex": [
       "0"
      ],
      "text/markdown": [
       "0"
      ],
      "text/plain": [
       "[1] 0"
      ]
     },
     "metadata": {},
     "output_type": "display_data"
    }
   ],
   "source": [
    "mv = function(d)\n",
    "{\n",
    "  \n",
    "  \n",
    "  {for(i in 1 : ncol(d))\n",
    "  if(is.numeric(d[,i]))\n",
    "  {d[,i][is.na(d[,i])] = mean(d[,i],na.rm = TRUE)\n",
    "  \n",
    "  \n",
    "  }\n",
    "  }\n",
    "  return(d)\n",
    "}\n",
    "\n",
    "t1 = mv(titanic)\n",
    "sum(is.na(t1))"
   ]
  },
  {
   "cell_type": "markdown",
   "metadata": {},
   "source": [
    "### 6. Write a function that plots a bar chart of an input categorical variable.  Check your function on the titanic data"
   ]
  },
  {
   "cell_type": "code",
   "execution_count": 7,
   "metadata": {},
   "outputs": [
    {
     "data": {},
     "metadata": {},
     "output_type": "display_data"
    },
    {
     "data": {
      "image/png": "[encoded data removed]",
      "text/plain": [
       "plot without title"
      ]
     },
     "metadata": {},
     "output_type": "display_data",
     "source": "R display func"
    }
   ],
   "source": [
    "barchar = function(d, i)\n",
    "{\n",
    "  library(ggplot2)\n",
    "  ggplot(d) + geom_bar(mapping = aes(x=d[,i], fill = NULL), position= \"dodge\")\n",
    "}\n",
    "\n",
    "barchar(titanic, 5)  # 5 is Gender"
   ]
  },
  {
   "cell_type": "markdown",
   "metadata": {},
   "source": [
    "### 7. Write a function that plots bar chart of two input categorical variables.  Check your function on the titanic data"
   ]
  },
  {
   "cell_type": "code",
   "execution_count": 8,
   "metadata": {},
   "outputs": [
    {
     "data": {},
     "metadata": {},
     "output_type": "display_data"
    },
    {
     "data": {
      "image/png": "[encoded data removed]",
      "text/plain": [
       "plot without title"
      ]
     },
     "metadata": {},
     "output_type": "display_data",
     "source": "R display func"
    }
   ],
   "source": [
    "barchar2 = function(d, i, j)\n",
    "{\n",
    "  library(ggplot2)\n",
    "  ggplot(d) + geom_bar(mapping = aes(x=d[,i], fill = d[,j]), position= \"dodge\")\n",
    "}\n",
    "\n",
    "barchar2(titanic, 3, 5) # 3 is Pclass and 5 is gender"
   ]
  }
 ],
 "metadata": {
  "kernelspec": {
   "display_name": "R",
   "language": "R",
   "name": "ir"
  },
  "language_info": {
   "codemirror_mode": "r",
   "file_extension": ".r",
   "mimetype": "text/x-r-source",
   "name": "R",
   "pygments_lexer": "r",
   "version": "3.5.1"
  }
 },
 "nbformat": 4,
 "nbformat_minor": 2
}
