{
 "cells": [
  {
   "cell_type": "markdown",
   "metadata": {},
   "source": [
    "## Assignment 9: The goal of this assignment was to run simulations in R.  Below you will find the prompts we were given and the code I used to complete the prompts."
   ]
  },
  {
   "cell_type": "markdown",
   "metadata": {},
   "source": [
    "### 1. Use simulation to verify that the sum squares of k standard normal distribution is a Chi-square distribution with degree of freedom k. "
   ]
  },
  {
   "cell_type": "code",
   "execution_count": 1,
   "metadata": {},
   "outputs": [
    {
     "data": {
      "image/png": "[encoded data removed]",
      "text/plain": [
       "Plot with title \"Histogram of sumnorms\""
      ]
     },
     "metadata": {},
     "output_type": "display_data",
     "source": "R display func"
    },
    {
     "data": {
      "image/png": "[encoded data removed]",
      "text/plain": [
       "Plot with title \"Histogram of rchisq(n, 8)\""
      ]
     },
     "metadata": {},
     "output_type": "display_data",
     "source": "R display func"
    }
   ],
   "source": [
    "n = 1000\n",
    "sumnorms = 0\n",
    "normdists = list()\n",
    "chidist = function(k) #k is number of standard normals\n",
    "{\n",
    "for(i in 1:k)\n",
    "  {normdists[[i]] = rnorm(n, 0, 1)}\n",
    "for(i in 1:k)\n",
    "{sumnorms = sumnorms + (normdists[[i]])^2}\n",
    "  hist(sumnorms)}\n",
    "\n",
    "#Graphs histogram of sum squares of 8 standard normal distributions using simulation\n",
    "chidist(8)\n",
    "#Graphs histogram of chisq distribution with 8 degrees of freedom.\n",
    "hist(rchisq(n,8))"
   ]
  },
  {
   "cell_type": "markdown",
   "metadata": {},
   "source": [
    "### 2.\tA fair dice is toss three times.  Use simulation to find the probability that the number in the first toss is greater than the sum of the number in the second toss and the third toss. "
   ]
  },
  {
   "cell_type": "code",
   "execution_count": 2,
   "metadata": {},
   "outputs": [
    {
     "data": {
      "text/html": [
       "0.09258081"
      ],
      "text/latex": [
       "0.09258081"
      ],
      "text/markdown": [
       "0.09258081"
      ],
      "text/plain": [
       "[1] 0.09258081"
      ]
     },
     "metadata": {},
     "output_type": "display_data"
    }
   ],
   "source": [
    "n = 100000000\n",
    "d1 = sample(1:6, n, replace = TRUE)\n",
    "d2 = sample(1:6, n, replace = TRUE)\n",
    "d3 = sample(1:6, n, replace = TRUE)\n",
    "sum(d1 > d2 + d3)/n \n",
    "\n",
    "# Actual probability is 5/54 or .0925926"
   ]
  },
  {
   "cell_type": "markdown",
   "metadata": {},
   "source": [
    "### 3.\tLet U1,U2,U3 all come from a uniform(0,1) distribution. Let M=max(U1,U2,U3). Estimate the probability P(M>0.75)."
   ]
  },
  {
   "cell_type": "code",
   "execution_count": 3,
   "metadata": {},
   "outputs": [
    {
     "data": {
      "text/html": [
       "0.578854"
      ],
      "text/latex": [
       "0.578854"
      ],
      "text/markdown": [
       "0.578854"
      ],
      "text/plain": [
       "[1] 0.578854"
      ]
     },
     "metadata": {},
     "output_type": "display_data"
    }
   ],
   "source": [
    "n = 1000000\n",
    "u1 = runif(n, 0, 1)\n",
    "u2 = runif(n, 0, 1)\n",
    "u3 = runif(n, 0, 1)\n",
    "\n",
    "maxes = list()\n",
    "for(i in 1:n)\n",
    "{maxes[[i]] = max(u1[[i]], u2[[i]], u3[[i]])}\n",
    "sum(maxes > .75)/n\n",
    "\n",
    "# Actual probability should be .578125 (1 - .75 *.75 *.75)"
   ]
  },
  {
   "cell_type": "markdown",
   "metadata": {},
   "source": [
    "### 4. Use simulation to find the area of the ellipse  (x^2) /4 + (y^2) /9=1 "
   ]
  },
  {
   "cell_type": "code",
   "execution_count": 4,
   "metadata": {},
   "outputs": [
    {
     "data": {
      "text/html": [
       "18.85572"
      ],
      "text/latex": [
       "18.85572"
      ],
      "text/markdown": [
       "18.85572"
      ],
      "text/plain": [
       "[1] 18.85572"
      ]
     },
     "metadata": {},
     "output_type": "display_data"
    }
   ],
   "source": [
    "n = 1000000\n",
    "x = runif(n, -2, 2)\n",
    "y = runif(n, -3, 3)\n",
    "sum((x^2)/4 + (y^2)/9 < 1)/n*24 #24 is the area of the rectangle surrounding the elipse\n",
    "\n",
    "# Actual area should be pi * 2 * 3 = 18.85"
   ]
  },
  {
   "cell_type": "markdown",
   "metadata": {},
   "source": [
    "### 5. Use simulation to find area under curve of (1 + xsinx) from 0 to 1"
   ]
  },
  {
   "cell_type": "code",
   "execution_count": 5,
   "metadata": {},
   "outputs": [
    {
     "data": {
      "text/html": [
       "1.3014148848"
      ],
      "text/latex": [
       "1.3014148848"
      ],
      "text/markdown": [
       "1.3014148848"
      ],
      "text/plain": [
       "[1] 1.301415"
      ]
     },
     "metadata": {},
     "output_type": "display_data"
    }
   ],
   "source": [
    "n = 50000000\n",
    "x = runif(n, 0, 1) # Integral from 0 to 1\n",
    "y = runif(n, 0, 2.82) # 2.82 is the max value of 1+xsinx \n",
    "sum(y < (1+x*sin(x)))/n*2.82 #Gets the proportion of y values underneath the curve and multiples it by the area of the rectangle around the curve, in order to find the area under the curve\n",
    "\n",
    "# Actual area is 1.30117"
   ]
  },
  {
   "cell_type": "markdown",
   "metadata": {},
   "source": [
    "### 6.\tGenerate 1000 pair of samples (x, y) from random variables (X, Y) such that. X follows uniform distribution (-1,1), Y = 2X+3+e, and e is an error following normal distribution with the mean 0 and standard deviation s = 1.  Find the slope and intercept of the fitted line and compare them with the true values. "
   ]
  },
  {
   "cell_type": "code",
   "execution_count": 6,
   "metadata": {},
   "outputs": [
    {
     "data": {
      "text/plain": [
       "\n",
       "Call:\n",
       "lm(formula = y ~ x)\n",
       "\n",
       "Coefficients:\n",
       "(Intercept)            x  \n",
       "      3.019        2.005  \n"
      ]
     },
     "metadata": {},
     "output_type": "display_data"
    }
   ],
   "source": [
    "set.seed(333)\n",
    "n = 1000\n",
    "e = rnorm(n, 0, 1)\n",
    "x = runif(n , -1, 1)\n",
    "y = 2*x + 3 + e\n",
    "lm(y~x)\n",
    "\n",
    "# The slope of the fitted line is 2.005.  This is very close to the true value of 2.  The intercept of the fitted line is 3.019.  This is very close to the true value of 3."
   ]
  },
  {
   "cell_type": "markdown",
   "metadata": {},
   "source": [
    "### 7.   Redo 6 with different values of s: s = .1, 1, 2, 5, 10, 20, 50, 100.  What do you observe?  "
   ]
  },
  {
   "cell_type": "code",
   "execution_count": 7,
   "metadata": {},
   "outputs": [
    {
     "data": {
      "text/plain": [
       "\n",
       "Call:\n",
       "lm(formula = y ~ x)\n",
       "\n",
       "Coefficients:\n",
       "(Intercept)            x  \n",
       "      3.004        2.001  \n"
      ]
     },
     "metadata": {},
     "output_type": "display_data"
    },
    {
     "data": {
      "text/plain": [
       "\n",
       "Call:\n",
       "lm(formula = y ~ x)\n",
       "\n",
       "Coefficients:\n",
       "(Intercept)            x  \n",
       "      3.016        2.049  \n"
      ]
     },
     "metadata": {},
     "output_type": "display_data"
    },
    {
     "data": {
      "text/plain": [
       "\n",
       "Call:\n",
       "lm(formula = y ~ x)\n",
       "\n",
       "Coefficients:\n",
       "(Intercept)            x  \n",
       "      2.880        1.969  \n"
      ]
     },
     "metadata": {},
     "output_type": "display_data"
    },
    {
     "data": {
      "text/plain": [
       "\n",
       "Call:\n",
       "lm(formula = y ~ x)\n",
       "\n",
       "Coefficients:\n",
       "(Intercept)            x  \n",
       "      2.801        1.957  \n"
      ]
     },
     "metadata": {},
     "output_type": "display_data"
    },
    {
     "data": {
      "text/plain": [
       "\n",
       "Call:\n",
       "lm(formula = y ~ x)\n",
       "\n",
       "Coefficients:\n",
       "(Intercept)            x  \n",
       "      3.027        1.297  \n"
      ]
     },
     "metadata": {},
     "output_type": "display_data"
    },
    {
     "data": {
      "text/plain": [
       "\n",
       "Call:\n",
       "lm(formula = y ~ x)\n",
       "\n",
       "Coefficients:\n",
       "(Intercept)            x  \n",
       "      2.520        0.716  \n"
      ]
     },
     "metadata": {},
     "output_type": "display_data"
    },
    {
     "data": {
      "text/plain": [
       "\n",
       "Call:\n",
       "lm(formula = y ~ x)\n",
       "\n",
       "Coefficients:\n",
       "(Intercept)            x  \n",
       "     3.5163      -0.8623  \n"
      ]
     },
     "metadata": {},
     "output_type": "display_data"
    }
   ],
   "source": [
    "Redo6 = function(s)\n",
    "{\n",
    "n = 1000\n",
    "e = rnorm(n, 0, s)\n",
    "x = runif(n , -1, 1)\n",
    "y = 2*x + 3 + e\n",
    "lm(y~x)\n",
    "}\n",
    "\n",
    "Redo6(.1)\n",
    "Redo6(1)\n",
    "Redo6(2)\n",
    "Redo6(5)\n",
    "Redo6(10)\n",
    "Redo6(20)\n",
    "Redo6(50)\n",
    "\n",
    "# As s increases, the fitted line values get further away from the true values."
   ]
  }
 ],
 "metadata": {
  "kernelspec": {
   "display_name": "R",
   "language": "R",
   "name": "ir"
  },
  "language_info": {
   "codemirror_mode": "r",
   "file_extension": ".r",
   "mimetype": "text/x-r-source",
   "name": "R",
   "pygments_lexer": "r",
   "version": "3.5.1"
  }
 },
 "nbformat": 4,
 "nbformat_minor": 2
}
