{
 "cells": [
  {
   "cell_type": "markdown",
   "metadata": {},
   "source": [
    "## Assignment 12: The goal of this assignment is to tune models using caret for the titanic and adult data sets. \n",
    "\n",
    "### The code chunk below establishes the mode function and loads in the libraries neccessary for this assignment. The following code chunks carry out the tasks given in the assignment."
   ]
  },
  {
   "cell_type": "code",
   "execution_count": 1,
   "metadata": {},
   "outputs": [
    {
     "name": "stderr",
     "output_type": "stream",
     "text": [
      "Loading required package: lattice\n",
      "Loading required package: ggplot2\n",
      "Loading required package: Matrix\n",
      "Loading required package: foreach\n",
      "Loaded glmnet 2.0-16\n",
      "\n"
     ]
    }
   ],
   "source": [
    "calculate_mode <- function(x) {\n",
    "  uniqx <- unique(x)\n",
    "  uniqx[which.max(tabulate(match(x, uniqx)))]\n",
    "}\n",
    "\n",
    "library(caret)\n",
    "library(rpart)\n",
    "library(ranger)\n",
    "library(glmnet)"
   ]
  },
  {
   "cell_type": "markdown",
   "metadata": {},
   "source": [
    "### 1.\tPreprocess the data so that it is ready to train predictive models."
   ]
  },
  {
   "cell_type": "code",
   "execution_count": 2,
   "metadata": {},
   "outputs": [
    {
     "name": "stderr",
     "output_type": "stream",
     "text": [
      "Warning message in model.frame.default(Terms, newdata, na.action = na.action, xlev = object$lvls):\n",
      "\"variable 'income' is not a factor\"Warning message in preProcess.default(adultsfix, method = c(\"center\", \"scale\")):\n",
      "\"These variables have zero variances: workclass..\""
     ]
    },
    {
     "name": "stdout",
     "output_type": "stream",
     "text": [
      "'data.frame':\t32561 obs. of  51 variables:\n",
      " $ age                                : num  0.0307 0.8371 -0.0426 1.057 -0.7758 ...\n",
      " $ workclass..                        : num  0 0 0 0 0 0 0 0 0 0 ...\n",
      " $ workclass.Federal.gov              : num  -0.174 -0.174 -0.174 -0.174 -0.174 ...\n",
      " $ workclass.Local.gov                : num  -0.262 -0.262 -0.262 -0.262 -0.262 ...\n",
      " $ workclass.Never.worked             : num  -0.0147 -0.0147 -0.0147 -0.0147 -0.0147 ...\n",
      " $ workclass.Private                  : num  -1.748 -1.748 0.572 0.572 0.572 ...\n",
      " $ workclass.Self.emp.inc             : num  -0.188 -0.188 -0.188 -0.188 -0.188 ...\n",
      " $ workclass.Self.emp.not.inc         : num  -0.291 3.437 -0.291 -0.291 -0.291 ...\n",
      " $ workclass.State.gov                : num  4.908 -0.204 -0.204 -0.204 -0.204 ...\n",
      " $ workclass.Without.pay              : num  -0.0207 -0.0207 -0.0207 -0.0207 -0.0207 ...\n",
      " $ finalweight                        : num  -1.064 -1.009 0.245 0.426 1.408 ...\n",
      " $ education.Gradeschool              : num  -0.388 -0.388 -0.388 2.58 -0.388 ...\n",
      " $ education.Associates               : num  -0.285 -0.285 -0.285 -0.285 -0.285 ...\n",
      " $ education.Bachelors                : num  2.254 2.254 -0.444 -0.444 2.254 ...\n",
      " $ education.Post.grad                : num  -0.265 -0.265 -0.265 -0.265 -0.265 ...\n",
      " $ education.HS.                      : num  -1.138 -1.138 0.879 -1.138 -1.138 ...\n",
      " $ educationnum                       : num  1.13 1.13 -0.42 -1.2 1.13 ...\n",
      " $ maritalstatus.Divorced             : num  -0.398 -0.398 2.516 -0.398 -0.398 ...\n",
      " $ maritalstatus.Married.AF.spouse    : num  -0.0266 -0.0266 -0.0266 -0.0266 -0.0266 ...\n",
      " $ maritalstatus.Married.civ.spouse   : num  -0.923 1.084 -0.923 1.084 1.084 ...\n",
      " $ maritalstatus.Married.spouse.absent: num  -0.114 -0.114 -0.114 -0.114 -0.114 ...\n",
      " $ maritalstatus.Never.married        : num  1.431 -0.699 -0.699 -0.699 -0.699 ...\n",
      " $ maritalstatus.Separated            : num  -0.18 -0.18 -0.18 -0.18 -0.18 ...\n",
      " $ maritalstatus.Widowed              : num  -0.177 -0.177 -0.177 -0.177 -0.177 ...\n",
      " $ occupation.Misc                    : num  -0.631 -0.631 -0.631 -0.631 1.584 ...\n",
      " $ occupation.Business                : num  1.355 1.355 -0.738 -0.738 -0.738 ...\n",
      " $ occupation.Protection              : num  -0.144 -0.144 -0.144 -0.144 -0.144 ...\n",
      " $ occupation.Labor                   : num  -0.581 -0.581 1.722 1.722 -0.581 ...\n",
      " $ occupation.Tech                    : num  -0.314 -0.314 -0.314 -0.314 -0.314 ...\n",
      " $ realtionship.Husband               : num  -0.825 1.212 -0.825 1.212 -0.825 ...\n",
      " $ realtionship.Not.in.family         : num  1.709 -0.585 1.709 -0.585 -0.585 ...\n",
      " $ realtionship.Other.relative        : num  -0.176 -0.176 -0.176 -0.176 -0.176 ...\n",
      " $ realtionship.Own.child             : num  -0.429 -0.429 -0.429 -0.429 -0.429 ...\n",
      " $ realtionship.Unmarried             : num  -0.344 -0.344 -0.344 -0.344 -0.344 ...\n",
      " $ realtionship.Wife                  : num  -0.225 -0.225 -0.225 -0.225 4.446 ...\n",
      " $ race.Amer.Indian.Eskimo            : num  -0.0982 -0.0982 -0.0982 -0.0982 -0.0982 ...\n",
      " $ race.Asian.Pac.Islander            : num  -0.182 -0.182 -0.182 -0.182 -0.182 ...\n",
      " $ race.Black                         : num  -0.326 -0.326 -0.326 3.07 3.07 ...\n",
      " $ race.Other                         : num  -0.0916 -0.0916 -0.0916 -0.0916 -0.0916 ...\n",
      " $ race.White                         : num  0.413 0.413 0.413 -2.421 -2.421 ...\n",
      " $ sex.Female                         : num  -0.703 -0.703 -0.703 -0.703 1.422 ...\n",
      " $ sex.Male                           : num  0.703 0.703 0.703 0.703 -1.422 ...\n",
      " $ capitalgain                        : num  0.148 -0.146 -0.146 -0.146 -0.146 ...\n",
      " $ capitalloss                        : num  -0.217 -0.217 -0.217 -0.217 -0.217 ...\n",
      " $ hoursperweek                       : num  -0.0354 -2.2221 -0.0354 -0.0354 -0.0354 ...\n",
      " $ nativecountry.NA                   : num  0.211 0.211 0.211 0.211 0.211 ...\n",
      " $ nativecountry.Africa               : num  -0.0242 -0.0242 -0.0242 -0.0242 -0.0242 ...\n",
      " $ nativecountry.Asia                 : num  -0.152 -0.152 -0.152 -0.152 -0.152 ...\n",
      " $ nativecountry.SA                   : num  -0.0603 -0.0603 -0.0603 -0.0603 -0.0603 ...\n",
      " $ nativecountry.EU                   : num  -0.128 -0.128 -0.128 -0.128 -0.128 ...\n",
      " $ income                             : Factor w/ 2 levels \"<=50K\",\">50K\": 1 1 1 1 1 1 1 2 2 2 ...\n"
     ]
    },
    {
     "name": "stderr",
     "output_type": "stream",
     "text": [
      "Warning message in model.frame.default(Terms, newdata, na.action = na.action, xlev = object$lvls):\n",
      "\"variable 'Survived' is not a factor\""
     ]
    },
    {
     "name": "stdout",
     "output_type": "stream",
     "text": [
      "'data.frame':\t891 obs. of  14 variables:\n",
      " $ Pclass.1  : num  -0.565 1.767 -0.565 1.767 -0.565 ...\n",
      " $ Pclass.2  : num  -0.51 -0.51 -0.51 -0.51 -0.51 ...\n",
      " $ Pclass.3  : num  0.902 -1.107 0.902 -1.107 0.902 ...\n",
      " $ Sex.female: num  -0.737 1.355 1.355 1.355 -0.737 ...\n",
      " $ Sex.male  : num  0.737 -1.355 -1.355 -1.355 0.737 ...\n",
      " $ Age       : num  -0.592 0.638 -0.285 0.408 0.408 ...\n",
      " $ SibSp     : num  0.433 0.433 -0.474 0.433 -0.474 ...\n",
      " $ Parch     : num  -0.473 -0.473 -0.473 -0.473 -0.473 ...\n",
      " $ Fare      : num  -0.502 0.786 -0.489 0.42 -0.486 ...\n",
      " $ Embarked. : num  -0.0474 -0.0474 -0.0474 -0.0474 -0.0474 ...\n",
      " $ Embarked.C: num  -0.482 2.073 -0.482 -0.482 -0.482 ...\n",
      " $ Embarked.Q: num  -0.307 -0.307 -0.307 -0.307 -0.307 ...\n",
      " $ Embarked.S: num  0.619 -1.614 0.619 0.619 0.619 ...\n",
      " $ Survived  : Factor w/ 2 levels \"0\",\"1\": 1 2 2 2 1 1 1 1 2 2 ...\n"
     ]
    }
   ],
   "source": [
    "#Prepare adult data\n",
    "adults <- read.csv(\"adult.csv\", header = FALSE)\n",
    "names(adults) = c(\"age\", \"workclass\", \"finalweight\", \"education\", \"educationnum\", \"maritalstatus\", \"occupation\", \"realtionship\", \"race\", \"sex\", \"capitalgain\", \"capitalloss\", \"hoursperweek\", \"nativecountry\", \"income\")\n",
    "\n",
    "adults[adults == \"?\"] <- NA\n",
    "for(i in 1:ncol(adults))\n",
    "{\n",
    "if(is.numeric(adults[,i])==FALSE)\n",
    "{adults[,i][is.na(adults[,i])] <-  calculate_mode(adults[,i])}\n",
    "}\n",
    "\n",
    "levels(adults$education) <- c(\"Gradeschool\", \"Gradeschool\", \"Gradeschool\", \"Gradeschool\", \"Gradeschool\", \"Gradeschool\", \"Gradeschool\", \"Associates\", \"Associates\", \"Bachelors\", \"Post-grad\", \"HS+\", \"Post-grad\", \"Gradeschool\", \"HS+\", \"HS+\")\n",
    "\n",
    "levels(adults$occupation) <- c(\"Misc\", \"Business\", \"Protection\", \"Labor\", \"Business\", \"Labor\", \"Labor\", \"Tech\", \"Misc\", \"Labor\", \"Misc\", \"Protection\", \"Business\", \"Tech\", \"Labor\")\n",
    "\n",
    "levels(adults$nativecountry) <- c(\"NA\", \"Africa\", \"NA\", \"Asia\",\"SA\", \"NA\", \"NA\", \"SA\", \"NA\", \"EU\", \"EU\", \"EU\", \"EU\", \"NA\", \"NA\", \"EU\", \"NA\", \"Asia\", \"EU\", \"Asia\", \"Asia\", \"EU\", \"EU\", \"NA\", \"Asia\", \"Asia\", \"NA\", \"NA\", \"NA\", \"SA\", \"Asia\", \"EU\", \"EU\", \"NA\", \"EU\", \"Asia\", \"Asia\", \"Asia\", \"NA\", \"NA\", \"Asia\", \"EU\" )\n",
    "\n",
    "dummies_model <- dummyVars(income ~ ., data=adults)\n",
    "adults_mat <- predict(dummies_model, newdata = adults)\n",
    "adultsfix <- data.frame(adults_mat)\n",
    "adultsfix$income <- adults$income\n",
    "\n",
    "ScaleandCenter <- preProcess(adultsfix, method= c(\"center\", \"scale\"))\n",
    "finaladult <- predict(ScaleandCenter, newdata = adultsfix)\n",
    "str(finaladult)\n",
    "\n",
    "#Prepare titanic data\n",
    "titanic = read.csv(\"titanic.csv\")\n",
    "titanic$Survived=factor(titanic$Survived)\n",
    "titanic$Pclass = factor(titanic$Pclass)\n",
    "titanic[is.na(titanic$Age),]$Age = mean(titanic$Age, na.rm =TRUE)\n",
    "titanic$Name = NULL\n",
    "titanic$PassengerId = NULL\n",
    "titanic$Cabin = NULL\n",
    "titanic$Ticket = NULL\n",
    "\n",
    "dummies_model <- dummyVars(Survived ~ ., data=titanic)\n",
    "titanic_mat <- predict(dummies_model, newdata = titanic)\n",
    "titanicfix <- data.frame(titanic_mat)\n",
    "titanicfix$Survived <- titanic$Survived\n",
    "\n",
    "ScaleandCenter <- preProcess(titanicfix, method= c(\"center\", \"scale\"))\n",
    "finaltitanic <- predict(ScaleandCenter, newdata = titanicfix)\n",
    "str(finaltitanic)"
   ]
  },
  {
   "cell_type": "markdown",
   "metadata": {},
   "source": [
    "### 2.\tTrain a random forest with 7-fold cross validation.  Report the accuracy of the forest. "
   ]
  },
  {
   "cell_type": "code",
   "execution_count": 3,
   "metadata": {},
   "outputs": [
    {
     "name": "stdout",
     "output_type": "stream",
     "text": [
      "[1] \"Accuracy Titanic\"\n"
     ]
    },
    {
     "data": {
      "text/html": [
       "0.819263384487653"
      ],
      "text/latex": [
       "0.819263384487653"
      ],
      "text/markdown": [
       "0.819263384487653"
      ],
      "text/plain": [
       "[1] 0.8192634"
      ]
     },
     "metadata": {},
     "output_type": "display_data"
    },
    {
     "name": "stdout",
     "output_type": "stream",
     "text": [
      "[1] \"Accuracy Adult\"\n"
     ]
    },
    {
     "data": {
      "text/html": [
       "0.827401104659594"
      ],
      "text/latex": [
       "0.827401104659594"
      ],
      "text/markdown": [
       "0.827401104659594"
      ],
      "text/plain": [
       "[1] 0.8274011"
      ]
     },
     "metadata": {},
     "output_type": "display_data"
    }
   ],
   "source": [
    "# Ran with small range of hyperparamaters instead of default to shorten run time\n",
    "set.seed(42)\n",
    "myGrid = expand.grid(mtry = 2, splitrule = \"gini\",\n",
    "                     min.node.size = c(1:3))  \n",
    "  \n",
    "CV7titanic <- train( Survived~. ,data = finaltitanic, method = \"ranger\", \n",
    "               trControl = trainControl(method =\"cv\", number = 7, verboseIter = FALSE), tuneGrid=myGrid)\n",
    "\n",
    "CV7adult <- train( income~. ,data = finaladult, method = \"ranger\", \n",
    "               trControl = trainControl(method =\"cv\", number = 7, verboseIter = FALSE), tuneGrid=myGrid)\n",
    "\n",
    "\n",
    "print(\"Accuracy Titanic\")\n",
    "max(CV7titanic$results$Accuracy)\n",
    "\n",
    "print(\"Accuracy Adult\")\n",
    "max(CV7adult$results$Accuracy)"
   ]
  },
  {
   "cell_type": "markdown",
   "metadata": {},
   "source": [
    "### 3.\tTrain a decision tree with 10-fold cross validation.  Report the accuracy. "
   ]
  },
  {
   "cell_type": "code",
   "execution_count": 4,
   "metadata": {},
   "outputs": [
    {
     "name": "stdout",
     "output_type": "stream",
     "text": [
      "[1] \"Accuracy Titanic\"\n"
     ]
    },
    {
     "data": {
      "text/html": [
       "0.812553909885371"
      ],
      "text/latex": [
       "0.812553909885371"
      ],
      "text/markdown": [
       "0.812553909885371"
      ],
      "text/plain": [
       "[1] 0.8125539"
      ]
     },
     "metadata": {},
     "output_type": "display_data"
    },
    {
     "name": "stdout",
     "output_type": "stream",
     "text": [
      "[1] \"Accuracy Adult\"\n"
     ]
    },
    {
     "data": {
      "text/html": [
       "0.838057653558882"
      ],
      "text/latex": [
       "0.838057653558882"
      ],
      "text/markdown": [
       "0.838057653558882"
      ],
      "text/plain": [
       "[1] 0.8380577"
      ]
     },
     "metadata": {},
     "output_type": "display_data"
    }
   ],
   "source": [
    "CV10titanic <- train( Survived~. ,data = finaltitanic, method = \"rpart\", \n",
    "               trControl = trainControl(method =\"cv\", number = 10, verboseIter = FALSE))\n",
    "\n",
    "CV10adult <- train( income~. ,data = finaladult, method = \"rpart\", \n",
    "               trControl = trainControl(method =\"cv\", number = 10, verboseIter = FALSE))\n",
    "\n",
    "\n",
    "print(\"Accuracy Titanic\")\n",
    "max(CV10titanic$results$Accuracy)\n",
    "\n",
    "print(\"Accuracy Adult\")\n",
    "max(CV10adult$results$Accuracy)"
   ]
  },
  {
   "cell_type": "markdown",
   "metadata": {},
   "source": [
    "### 4.\tWhat are the selection of the hyperparameters (mtry, splitrule, min.mode.size) in the random forest in 2? "
   ]
  },
  {
   "cell_type": "markdown",
   "metadata": {},
   "source": [
    "##### For titanic the hyperparamerters were: mtry = 2 , splitrule = gini, min.node.size = 2\n",
    "##### For adult the hyperparamerters were: mtry =  2, splitrule = gini, min.node.size = 1"
   ]
  },
  {
   "cell_type": "code",
   "execution_count": 5,
   "metadata": {},
   "outputs": [
    {
     "data": {
      "text/plain": [
       "Random Forest \n",
       "\n",
       "891 samples\n",
       " 13 predictor\n",
       "  2 classes: '0', '1' \n",
       "\n",
       "No pre-processing\n",
       "Resampling: Cross-Validated (7 fold) \n",
       "Summary of sample sizes: 764, 765, 763, 764, 764, 763, ... \n",
       "Resampling results across tuning parameters:\n",
       "\n",
       "  min.node.size  Accuracy   Kappa    \n",
       "  1              0.8170400  0.5928938\n",
       "  2              0.8192634  0.5979587\n",
       "  3              0.8181472  0.5947702\n",
       "\n",
       "Tuning parameter 'mtry' was held constant at a value of 2\n",
       "Tuning\n",
       " parameter 'splitrule' was held constant at a value of gini\n",
       "Accuracy was used to select the optimal model using the largest value.\n",
       "The final values used for the model were mtry = 2, splitrule = gini\n",
       " and min.node.size = 2."
      ]
     },
     "metadata": {},
     "output_type": "display_data"
    },
    {
     "data": {
      "text/plain": [
       "Random Forest \n",
       "\n",
       "32561 samples\n",
       "   50 predictor\n",
       "    2 classes: '<=50K', '>50K' \n",
       "\n",
       "No pre-processing\n",
       "Resampling: Cross-Validated (7 fold) \n",
       "Summary of sample sizes: 27910, 27909, 27910, 27910, 27909, 27909, ... \n",
       "Resampling results across tuning parameters:\n",
       "\n",
       "  min.node.size  Accuracy   Kappa    \n",
       "  1              0.8274011  0.4292660\n",
       "  2              0.8273705  0.4274047\n",
       "  3              0.8269404  0.4265455\n",
       "\n",
       "Tuning parameter 'mtry' was held constant at a value of 2\n",
       "Tuning\n",
       " parameter 'splitrule' was held constant at a value of gini\n",
       "Accuracy was used to select the optimal model using the largest value.\n",
       "The final values used for the model were mtry = 2, splitrule = gini\n",
       " and min.node.size = 1."
      ]
     },
     "metadata": {},
     "output_type": "display_data"
    }
   ],
   "source": [
    "CV7titanic\n",
    "CV7adult"
   ]
  },
  {
   "cell_type": "markdown",
   "metadata": {},
   "source": [
    "### 5.\tPrint out the plot of the random forest."
   ]
  },
  {
   "cell_type": "markdown",
   "metadata": {},
   "source": [
    "###### Titanic Plot"
   ]
  },
  {
   "cell_type": "code",
   "execution_count": 6,
   "metadata": {},
   "outputs": [
    {
     "data": {},
     "metadata": {},
     "output_type": "display_data"
    },
    {
     "data": {
      "image/png": "[encoded data removed]",
      "text/plain": [
       "plot without title"
      ]
     },
     "metadata": {},
     "output_type": "display_data",
     "source": "R display func"
    }
   ],
   "source": [
    "plot(CV7titanic)"
   ]
  },
  {
   "cell_type": "markdown",
   "metadata": {},
   "source": [
    "##### Adult Plot"
   ]
  },
  {
   "cell_type": "code",
   "execution_count": 7,
   "metadata": {},
   "outputs": [
    {
     "data": {},
     "metadata": {},
     "output_type": "display_data"
    },
    {
     "data": {
      "image/png": "[encoded data removed]",
      "text/plain": [
       "plot without title"
      ]
     },
     "metadata": {},
     "output_type": "display_data",
     "source": "R display func"
    }
   ],
   "source": [
    "plot(CV7adult)"
   ]
  },
  {
   "cell_type": "markdown",
   "metadata": {},
   "source": [
    "### 6.\tTune the three hyperparameters of the random forest with mtry running all its possible values, splitrule running all its possible values (gini and extratrees) and min.node.size running from 1 to 20."
   ]
  },
  {
   "cell_type": "code",
   "execution_count": 8,
   "metadata": {},
   "outputs": [],
   "source": [
    "#mtry kept within 3 values and min node kept from 1 to 3 to reduce runtime\n",
    "myGrid = expand.grid(mtry = c(2,3,4), splitrule = c(\"gini\", \"extratrees\"),\n",
    "                     min.node.size = c(1:3))  \n",
    "  \n",
    "CV7titanic2 <- train( Survived~. ,data = finaltitanic, method = \"ranger\", \n",
    "               trControl = trainControl(method =\"cv\", number = 7, verboseIter = FALSE), tuneGrid=myGrid)\n",
    "\n",
    "CV7adult2 <- train( income~. ,data = finaladult, method = \"ranger\", \n",
    "               trControl = trainControl(method =\"cv\", number = 7, verboseIter = FALSE), tuneGrid=myGrid)"
   ]
  },
  {
   "cell_type": "markdown",
   "metadata": {},
   "source": [
    "### 7.\tPrint out the tuning plot of the random forest.  Does your tuned random forest in 6 achieve better accuracy than the default random forest in 2? "
   ]
  },
  {
   "cell_type": "code",
   "execution_count": 9,
   "metadata": {},
   "outputs": [
    {
     "name": "stdout",
     "output_type": "stream",
     "text": [
      "[1] \"Accuracy Titanic\"\n"
     ]
    },
    {
     "data": {
      "text/html": [
       "0.835014763779528"
      ],
      "text/latex": [
       "0.835014763779528"
      ],
      "text/markdown": [
       "0.835014763779528"
      ],
      "text/plain": [
       "[1] 0.8350148"
      ]
     },
     "metadata": {},
     "output_type": "display_data"
    },
    {
     "data": {},
     "metadata": {},
     "output_type": "display_data"
    },
    {
     "data": {
      "image/png": "[encoded data removed]",
      "text/plain": [
       "plot without title"
      ]
     },
     "metadata": {},
     "output_type": "display_data",
     "source": "R display func"
    }
   ],
   "source": [
    "print(\"Accuracy Titanic\")\n",
    "max(CV7titanic2$results$Accuracy)\n",
    "plot(CV7titanic2)"
   ]
  },
  {
   "cell_type": "code",
   "execution_count": 10,
   "metadata": {},
   "outputs": [
    {
     "name": "stdout",
     "output_type": "stream",
     "text": [
      "[1] \"Accuracy Adult\"\n"
     ]
    },
    {
     "data": {
      "text/html": [
       "0.858880273775546"
      ],
      "text/latex": [
       "0.858880273775546"
      ],
      "text/markdown": [
       "0.858880273775546"
      ],
      "text/plain": [
       "[1] 0.8588803"
      ]
     },
     "metadata": {},
     "output_type": "display_data"
    },
    {
     "data": {},
     "metadata": {},
     "output_type": "display_data"
    },
    {
     "data": {
      "image/png": "[encoded data removed]",
      "text/plain": [
       "plot without title"
      ]
     },
     "metadata": {},
     "output_type": "display_data",
     "source": "R display func"
    }
   ],
   "source": [
    "print(\"Accuracy Adult\")\n",
    "max(CV7adult2$results$Accuracy)\n",
    "plot(CV7adult2)"
   ]
  },
  {
   "cell_type": "markdown",
   "metadata": {},
   "source": [
    "##### The random forest tuned with a higher range of hyperparameters will always have higher accuracy as long as it contains the smaller range of hyperparameters.  This can be seen here as the random forest in #6 performs better than the random forest in #2."
   ]
  },
  {
   "cell_type": "markdown",
   "metadata": {},
   "source": [
    "### 8.\tCompare the performances of the default glmnet model and a tuned glmnet model. Do you achieve better performance in the tuned glmnet model? "
   ]
  },
  {
   "cell_type": "code",
   "execution_count": 11,
   "metadata": {},
   "outputs": [
    {
     "name": "stdout",
     "output_type": "stream",
     "text": [
      "[1] \"Accuracy Titanic non-tuned\"\n"
     ]
    },
    {
     "data": {
      "text/html": [
       "0.796822272215973"
      ],
      "text/latex": [
       "0.796822272215973"
      ],
      "text/markdown": [
       "0.796822272215973"
      ],
      "text/plain": [
       "[1] 0.7968223"
      ]
     },
     "metadata": {},
     "output_type": "display_data"
    },
    {
     "name": "stdout",
     "output_type": "stream",
     "text": [
      "[1] \"Accuracy Adult non-tuned\"\n"
     ]
    },
    {
     "data": {
      "text/html": [
       "0.84724084217504"
      ],
      "text/latex": [
       "0.84724084217504"
      ],
      "text/markdown": [
       "0.84724084217504"
      ],
      "text/plain": [
       "[1] 0.8472408"
      ]
     },
     "metadata": {},
     "output_type": "display_data"
    },
    {
     "name": "stdout",
     "output_type": "stream",
     "text": [
      "[1] \"Accuracy Titanic tuned\"\n"
     ]
    },
    {
     "data": {
      "text/html": [
       "0.805882663104612"
      ],
      "text/latex": [
       "0.805882663104612"
      ],
      "text/markdown": [
       "0.805882663104612"
      ],
      "text/plain": [
       "[1] 0.8058827"
      ]
     },
     "metadata": {},
     "output_type": "display_data"
    },
    {
     "name": "stdout",
     "output_type": "stream",
     "text": [
      "[1] \"Accuracy Adult tuned\"\n"
     ]
    },
    {
     "data": {
      "text/html": [
       "0.847240903585169"
      ],
      "text/latex": [
       "0.847240903585169"
      ],
      "text/markdown": [
       "0.847240903585169"
      ],
      "text/plain": [
       "[1] 0.8472409"
      ]
     },
     "metadata": {},
     "output_type": "display_data"
    },
    {
     "name": "stdout",
     "output_type": "stream",
     "text": [
      "[1] \"Accuracy for the adult and titanic datasets should be higher for tuned glm models, however, this may not always be the case when there aren't a lot of hyperparameters selected in the tuned model. In this case, the tuned models perform better.\"\n"
     ]
    }
   ],
   "source": [
    "#Default glm\n",
    "  \n",
    "glmtitanic <- train( Survived~. ,data = finaltitanic, method = \"glmnet\", \n",
    "               trControl = trainControl(method =\"cv\", number = 7, verboseIter = FALSE))\n",
    "\n",
    "glmadult <- train( income~. ,data = finaladult, method = \"glmnet\", \n",
    "               trControl = trainControl(method =\"cv\", number = 7, verboseIter = FALSE))\n",
    "\n",
    "\n",
    "#tuned glm\n",
    "myGridglm = expand.grid(alpha = 0:1,\n",
    "  lambda = seq(0.0001, 1, length = 5))  \n",
    "  \n",
    "glmtitanic2 <- train( Survived~. ,data = finaltitanic, method = \"glmnet\", \n",
    "               trControl = trainControl(method =\"cv\", number = 7, verboseIter = FALSE), tuneGrid=myGridglm)\n",
    "\n",
    "glmadult2 <- train( income~. ,data = finaladult, method = \"glmnet\", \n",
    "               trControl = trainControl(method =\"cv\", number = 7, verboseIter = FALSE), tuneGrid=myGridglm)\n",
    "\n",
    "print(\"Accuracy Titanic non-tuned\")\n",
    "max(glmtitanic$results$Accuracy)\n",
    "\n",
    "print(\"Accuracy Adult non-tuned\")\n",
    "max(glmadult$results$Accuracy)\n",
    "\n",
    "print(\"Accuracy Titanic tuned\")\n",
    "max(glmtitanic2$results$Accuracy)\n",
    "\n",
    "print(\"Accuracy Adult tuned\")\n",
    "max(glmadult2$results$Accuracy)\n",
    "\n",
    "print(\"Accuracy for the adult and titanic datasets should be higher for tuned glm models, however, this may not always be the case when there aren't a lot of hyperparameters selected in the tuned model. In this case, the tuned models perform better.\")"
   ]
  }
 ],
 "metadata": {
  "kernelspec": {
   "display_name": "R",
   "language": "R",
   "name": "ir"
  },
  "language_info": {
   "codemirror_mode": "r",
   "file_extension": ".r",
   "mimetype": "text/x-r-source",
   "name": "R",
   "pygments_lexer": "r",
   "version": "3.5.1"
  }
 },
 "nbformat": 4,
 "nbformat_minor": 2
}
