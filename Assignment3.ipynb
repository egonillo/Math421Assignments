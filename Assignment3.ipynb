{
 "cells": [
  {
   "cell_type": "markdown",
   "metadata": {},
   "source": [
    "## Assignment 3: The goal of this assignment is to manipulate data using the Titanic Dataset\n",
    "\n",
    "### The code chunk below loads in the titanic dataset and corrects the Survived and Pclass variables."
   ]
  },
  {
   "cell_type": "code",
   "execution_count": 23,
   "metadata": {},
   "outputs": [],
   "source": [
    "library(ggplot2)\n",
    "titanic = read.csv(\"titanic.csv\")\n",
    "titanic$Survived=factor(titanic$Survived)\n",
    "titanic$Pclass = factor(titanic$Pclass)"
   ]
  },
  {
   "cell_type": "markdown",
   "metadata": {},
   "source": [
    "### This piece of code identifies the total number of missing variables, shows that they are all in the Age column, replaces the missing data with the mean age, and shows that there is no longer any missing data."
   ]
  },
  {
   "cell_type": "code",
   "execution_count": 24,
   "metadata": {},
   "outputs": [
    {
     "data": {
      "text/html": [
       "177"
      ],
      "text/latex": [
       "177"
      ],
      "text/markdown": [
       "177"
      ],
      "text/plain": [
       "[1] 177"
      ]
     },
     "metadata": {},
     "output_type": "display_data"
    },
    {
     "data": {
      "text/html": [
       "177"
      ],
      "text/latex": [
       "177"
      ],
      "text/markdown": [
       "177"
      ],
      "text/plain": [
       "[1] 177"
      ]
     },
     "metadata": {},
     "output_type": "display_data"
    },
    {
     "data": {
      "text/html": [
       "0"
      ],
      "text/latex": [
       "0"
      ],
      "text/markdown": [
       "0"
      ],
      "text/plain": [
       "[1] 0"
      ]
     },
     "metadata": {},
     "output_type": "display_data"
    }
   ],
   "source": [
    "sum(is.na(titanic))\n",
    "sum(is.na(titanic$Age))\n",
    "titanic[is.na(titanic$Age),]$Age = mean(titanic$Age, na.rm =TRUE)\n",
    "sum(is.na(titanic))"
   ]
  },
  {
   "cell_type": "markdown",
   "metadata": {},
   "source": [
    "### This code chunk removes unneccesary columns."
   ]
  },
  {
   "cell_type": "code",
   "execution_count": 25,
   "metadata": {},
   "outputs": [],
   "source": [
    "titanic$Name = NULL\n",
    "titanic$PassengerId = NULL\n",
    "titanic$Cabin = NULL\n",
    "titanic$Ticket = NULL"
   ]
  },
  {
   "cell_type": "markdown",
   "metadata": {},
   "source": [
    "### This code chunk calculates mean and median statistics under various conditions"
   ]
  },
  {
   "cell_type": "code",
   "execution_count": 26,
   "metadata": {},
   "outputs": [
    {
     "data": {
      "text/html": [
       "29.6991176470588"
      ],
      "text/latex": [
       "29.6991176470588"
      ],
      "text/markdown": [
       "29.6991176470588"
      ],
      "text/plain": [
       "[1] 29.69912"
      ]
     },
     "metadata": {},
     "output_type": "display_data"
    },
    {
     "data": {
      "text/html": [
       "28.2167300487074"
      ],
      "text/latex": [
       "28.2167300487074"
      ],
      "text/markdown": [
       "28.2167300487074"
      ],
      "text/plain": [
       "[1] 28.21673"
      ]
     },
     "metadata": {},
     "output_type": "display_data"
    },
    {
     "data": {
      "text/html": [
       "60.2875"
      ],
      "text/latex": [
       "60.2875"
      ],
      "text/markdown": [
       "60.2875"
      ],
      "text/plain": [
       "[1] 60.2875"
      ]
     },
     "metadata": {},
     "output_type": "display_data"
    },
    {
     "data": {
      "text/html": [
       "14.45625"
      ],
      "text/latex": [
       "14.45625"
      ],
      "text/markdown": [
       "14.45625"
      ],
      "text/plain": [
       "[1] 14.45625"
      ]
     },
     "metadata": {},
     "output_type": "display_data"
    },
    {
     "data": {
      "text/html": [
       "29.6991176470588"
      ],
      "text/latex": [
       "29.6991176470588"
      ],
      "text/markdown": [
       "29.6991176470588"
      ],
      "text/plain": [
       "[1] 29.69912"
      ]
     },
     "metadata": {},
     "output_type": "display_data"
    },
    {
     "data": {
      "text/html": [
       "49.1796617647059"
      ],
      "text/latex": [
       "49.1796617647059"
      ],
      "text/markdown": [
       "49.1796617647059"
      ],
      "text/plain": [
       "[1] 49.17966"
      ]
     },
     "metadata": {},
     "output_type": "display_data"
    },
    {
     "data": {
      "text/html": [
       "107.540707692308"
      ],
      "text/latex": [
       "107.540707692308"
      ],
      "text/markdown": [
       "107.540707692308"
      ],
      "text/plain": [
       "[1] 107.5407"
      ]
     },
     "metadata": {},
     "output_type": "display_data"
    },
    {
     "data": {
      "text/html": [
       "20.00885"
      ],
      "text/latex": [
       "20.00885"
      ],
      "text/markdown": [
       "20.00885"
      ],
      "text/plain": [
       "[1] 20.00885"
      ]
     },
     "metadata": {},
     "output_type": "display_data"
    },
    {
     "data": {
      "text/html": [
       "8.76988461538462"
      ],
      "text/latex": [
       "8.76988461538462"
      ],
      "text/markdown": [
       "8.76988461538462"
      ],
      "text/plain": [
       "[1] 8.769885"
      ]
     },
     "metadata": {},
     "output_type": "display_data"
    }
   ],
   "source": [
    "mean(titanic$Age) \n",
    "mean(titanic[titanic$Sex == \"female\",]$Age)\n",
    "median(titanic[titanic$Pclass == 1,]$Fare)\n",
    "median(titanic[!titanic$Pclass == 1 & titanic$Sex == \"female\",]$Fare)\n",
    "median(titanic[titanic$Pclass == 1|2 & titanic$Sex == \"female\",]$Age)\n",
    "mean(titanic[titanic$Sex == \"female\" & titanic$Survived == 1 & titanic$Age >= 13 & titanic$Age <=19, ]$Fare)\n",
    "mean(titanic[titanic$Sex == \"female\" & titanic$Survived == 1 & titanic$Age >= 13 & titanic$Age <=19 & titanic$Pclass == 1, ]$Fare)\n",
    "mean(titanic[titanic$Sex == \"female\" & titanic$Survived == 1 & titanic$Age >= 13 & titanic$Age <=19 & titanic$Pclass == 2, ]$Fare)\n",
    "mean(titanic[titanic$Sex == \"female\" & titanic$Survived == 1 & titanic$Age >= 13 & titanic$Age <=19 & titanic$Pclass == 3, ]$Fare)"
   ]
  },
  {
   "cell_type": "markdown",
   "metadata": {},
   "source": [
    "### Calculates the ratio of Survived:Not Survived for above average fare"
   ]
  },
  {
   "cell_type": "code",
   "execution_count": 27,
   "metadata": {},
   "outputs": [
    {
     "data": {
      "text/html": [
       "1.48235294117647"
      ],
      "text/latex": [
       "1.48235294117647"
      ],
      "text/markdown": [
       "1.48235294117647"
      ],
      "text/plain": [
       "[1] 1.482353"
      ]
     },
     "metadata": {},
     "output_type": "display_data"
    }
   ],
   "source": [
    "titanicHighFareSurvived  = titanic[titanic$Fare >= mean(titanic$Fare) & titanic$Survived == 1, ] \n",
    "titanicHighFareDeceased  = titanic[titanic$Fare >= mean(titanic$Fare) & titanic$Survived == 0, ] \n",
    "nrow(titanicHighFareSurvived) / nrow(titanicHighFareDeceased)"
   ]
  },
  {
   "cell_type": "markdown",
   "metadata": {},
   "source": [
    "### Creates standardized fare variable"
   ]
  },
  {
   "cell_type": "code",
   "execution_count": 28,
   "metadata": {},
   "outputs": [],
   "source": [
    "titanic$sfare = ((titanic$Fare - mean(titanic$Fare)) / sd(titanic$Fare))"
   ]
  },
  {
   "cell_type": "markdown",
   "metadata": {},
   "source": [
    "### Plots variables Sex and Survived for passengers younger than the average age"
   ]
  },
  {
   "cell_type": "code",
   "execution_count": 29,
   "metadata": {},
   "outputs": [
    {
     "data": {},
     "metadata": {},
     "output_type": "display_data"
    },
    {
     "data": {
      "image/png": "[encoded data removed]",
      "text/plain": [
       "plot without title"
      ]
     },
     "metadata": {},
     "output_type": "display_data",
     "source": "R display func"
    }
   ],
   "source": [
    "titanicyoung = titanic[titanic$Age < mean(titanic$Age),]\n",
    "ggplot(titanicyoung) + geom_bar(mapping = aes(x=Sex, fill = Survived), position= \"dodge\")"
   ]
  },
  {
   "cell_type": "markdown",
   "metadata": {},
   "source": [
    "### Plots the density of age for those who survived and paid above average fare."
   ]
  },
  {
   "cell_type": "code",
   "execution_count": 30,
   "metadata": {},
   "outputs": [
    {
     "data": {},
     "metadata": {},
     "output_type": "display_data"
    },
    {
     "data": {
      "image/png": "[encoded data removed]",
      "text/plain": [
       "plot without title"
      ]
     },
     "metadata": {},
     "output_type": "display_data",
     "source": "R display func"
    }
   ],
   "source": [
    "ggplot(titanicHighFareSurvived) + geom_density(mapping = aes(x=Age, color = NULL))"
   ]
  },
  {
   "cell_type": "markdown",
   "metadata": {},
   "source": [
    "### Plots two density age curves in one graph for SouthHampton and Queenstown"
   ]
  },
  {
   "cell_type": "code",
   "execution_count": 31,
   "metadata": {},
   "outputs": [
    {
     "name": "stderr",
     "output_type": "stream",
     "text": [
      "Warning message in `==.default`(titanic$Embarked, c(\"S\", \"Q\")):\n",
      "\"longer object length is not a multiple of shorter object length\"Warning message in is.na(e1) | is.na(e2):\n",
      "\"longer object length is not a multiple of shorter object length\""
     ]
    },
    {
     "data": {},
     "metadata": {},
     "output_type": "display_data"
    },
    {
     "data": {
      "image/png": "[encoded data removed]",
      "text/plain": [
       "plot without title"
      ]
     },
     "metadata": {},
     "output_type": "display_data",
     "source": "R display func"
    }
   ],
   "source": [
    "titanicSQ = titanic[titanic$Embarked == c(\"S\",\"Q\") , ]\n",
    "ggplot(titanicSQ) + geom_density(mapping = aes(x=Age, color = Embarked))"
   ]
  },
  {
   "cell_type": "markdown",
   "metadata": {},
   "source": [
    "### Creates cfare variable that classifies whether a fare is cheap or expensive"
   ]
  },
  {
   "cell_type": "code",
   "execution_count": 32,
   "metadata": {},
   "outputs": [],
   "source": [
    "titanic$cfare = ifelse(titanic$Fare < mean(titanic$Fare),{\"Cheap\"},{\"Expensive\"})"
   ]
  },
  {
   "cell_type": "markdown",
   "metadata": {},
   "source": [
    "### Creates new variable that classifies age"
   ]
  },
  {
   "cell_type": "code",
   "execution_count": 33,
   "metadata": {},
   "outputs": [],
   "source": [
    "titanic$cage = cut(titanic$Age, breaks= c(0,10,20,30,40,50,60,70,80,90,100), labels = c(0,1,2,3,4,5,6,7,8,9))"
   ]
  },
  {
   "cell_type": "markdown",
   "metadata": {},
   "source": [
    "### Plots bar chart for variables cage and Survived for passengers who bought expensive tickets."
   ]
  },
  {
   "cell_type": "code",
   "execution_count": 34,
   "metadata": {},
   "outputs": [
    {
     "data": {},
     "metadata": {},
     "output_type": "display_data"
    },
    {
     "data": {
      "image/png": "[encoded data removed]",
      "text/plain": [
       "plot without title"
      ]
     },
     "metadata": {},
     "output_type": "display_data",
     "source": "R display func"
    }
   ],
   "source": [
    "titanicexpensive = titanic[titanic$cfare == \"Expensive\",]\n",
    "ggplot(titanicexpensive) + geom_bar(mapping = aes(x=cage, fill = Survived), position= \"dodge\")"
   ]
  },
  {
   "cell_type": "markdown",
   "metadata": {},
   "source": [
    "### Splits the bar chart from previous code by Pclass"
   ]
  },
  {
   "cell_type": "code",
   "execution_count": 35,
   "metadata": {},
   "outputs": [
    {
     "data": {},
     "metadata": {},
     "output_type": "display_data"
    },
    {
     "data": {
      "image/png": "[encoded data removed]",
      "text/plain": [
       "plot without title"
      ]
     },
     "metadata": {},
     "output_type": "display_data",
     "source": "R display func"
    }
   ],
   "source": [
    "titanicexpensive = titanic[titanic$cfare == \"Expensive\",]\n",
    "ggplot(titanicexpensive) + geom_bar(mapping = aes(x=cage, fill = Survived), position= \"dodge\") + \n",
    " facet_wrap(~ Pclass, nrow = 2)"
   ]
  }
 ],
 "metadata": {
  "kernelspec": {
   "display_name": "R",
   "language": "R",
   "name": "ir"
  },
  "language_info": {
   "codemirror_mode": "r",
   "file_extension": ".r",
   "mimetype": "text/x-r-source",
   "name": "R",
   "pygments_lexer": "r",
   "version": "3.5.1"
  }
 },
 "nbformat": 4,
 "nbformat_minor": 2
}
