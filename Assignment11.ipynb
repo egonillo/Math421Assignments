{
 "cells": [
  {
   "cell_type": "markdown",
   "metadata": {},
   "source": [
    "## Assignment 11: The goal of this assignment is to practice preproccessing data with Caret\n",
    "\n",
    "### The first code chunk below establishes the mode function we will use throughout the assignment.  Additionally, it establishes the adult dataset that we will reference throughout.  The following chunks will follow the tasks given in Assignment 11."
   ]
  },
  {
   "cell_type": "code",
   "execution_count": 1,
   "metadata": {},
   "outputs": [],
   "source": [
    "#Create mode function\n",
    "calculate_mode <- function(x) {\n",
    "  uniqx <- unique(x)\n",
    "  uniqx[which.max(tabulate(match(x, uniqx)))]\n",
    "}\n",
    "\n",
    "# Create adult dataset\n",
    "adults <- read.csv(\"adult.csv\", header = FALSE)\n",
    "names(adults)[1] = \"age\"\n",
    "names(adults)[2] = \"workclass\"\n",
    "names(adults)[3] = \"finalweight\"\n",
    "names(adults)[4] = \"education\"\n",
    "names(adults)[5] = \"eductationnum\"\n",
    "names(adults)[6] = \"maritalstatus\"\n",
    "names(adults)[7] = \"occupation\"\n",
    "names(adults)[8] = \"relationship\"\n",
    "names(adults)[9] = \"race\"\n",
    "names(adults)[10] = \"sex\"\n",
    "names(adults)[11] = \"capitalgain\"\n",
    "names(adults)[12] = \"capitalloss\"\n",
    "names(adults)[13] = \"hoursperweek\"\n",
    "names(adults)[14] = \"nativecountry\"\n",
    "names(adults)[15] = \"income\""
   ]
  },
  {
   "cell_type": "markdown",
   "metadata": {},
   "source": [
    "### 1.\tReplace all the missing values by NA"
   ]
  },
  {
   "cell_type": "code",
   "execution_count": 2,
   "metadata": {},
   "outputs": [
    {
     "data": {
      "text/html": [
       "4262"
      ],
      "text/latex": [
       "4262"
      ],
      "text/markdown": [
       "4262"
      ],
      "text/plain": [
       "[1] 4262"
      ]
     },
     "metadata": {},
     "output_type": "display_data"
    }
   ],
   "source": [
    "adults[adults == \"?\"] <- NA\n",
    "\n",
    "sum(is.na(adults))"
   ]
  },
  {
   "cell_type": "markdown",
   "metadata": {},
   "source": [
    "### 2.  Replace the categorical missing values by the mode of the corresponding variables"
   ]
  },
  {
   "cell_type": "code",
   "execution_count": 3,
   "metadata": {},
   "outputs": [
    {
     "data": {
      "text/html": [
       "0"
      ],
      "text/latex": [
       "0"
      ],
      "text/markdown": [
       "0"
      ],
      "text/plain": [
       "[1] 0"
      ]
     },
     "metadata": {},
     "output_type": "display_data"
    }
   ],
   "source": [
    "for(i in 1:ncol(adults))\n",
    "{\n",
    "if(is.numeric(adults[,i])==FALSE)\n",
    "{adults[,i][is.na(adults[,i])] <-  calculate_mode(adults[,i])}\n",
    "}\n",
    "sum(is.na(adults))"
   ]
  },
  {
   "cell_type": "markdown",
   "metadata": {},
   "source": [
    "### 3.\tReplace the numeric missing values by the median using caret"
   ]
  },
  {
   "cell_type": "code",
   "execution_count": 4,
   "metadata": {},
   "outputs": [
    {
     "name": "stderr",
     "output_type": "stream",
     "text": [
      "Loading required package: lattice\n",
      "Loading required package: ggplot2\n"
     ]
    },
    {
     "data": {
      "text/plain": [
       "Created from 32561 samples and 15 variables\n",
       "\n",
       "Pre-processing:\n",
       "  - ignored (9)\n",
       "  - median imputation (6)\n"
      ]
     },
     "metadata": {},
     "output_type": "display_data"
    }
   ],
   "source": [
    "library(rpart)\n",
    "library(caret)\n",
    "\n",
    "preProcess_missingdata_model <- preProcess(adults, method='medianImpute')\n",
    "preProcess_missingdata_model\n",
    "\n",
    "adultfix <- predict(preProcess_missingdata_model, newdata = adults)"
   ]
  },
  {
   "cell_type": "markdown",
   "metadata": {},
   "source": [
    "### 4.\tThe variable \"native country\" has 16 categories. Group the categories of this variable into 5 categories.  Do the same for all categorical variables with more than 10 categories. "
   ]
  },
  {
   "cell_type": "code",
   "execution_count": 5,
   "metadata": {},
   "outputs": [
    {
     "name": "stdout",
     "output_type": "stream",
     "text": [
      "'data.frame':\t32561 obs. of  15 variables:\n",
      " $ age          : int  39 50 38 53 28 37 49 52 31 42 ...\n",
      " $ workclass    : Factor w/ 9 levels \"?\",\"Federal-gov\",..: 8 7 5 5 5 5 5 7 5 5 ...\n",
      " $ finalweight  : int  77516 83311 215646 234721 338409 284582 160187 209642 45781 159449 ...\n",
      " $ education    : Factor w/ 16 levels \"10th\",\"11th\",..: 10 10 12 2 10 13 7 12 13 10 ...\n",
      " $ eductationnum: int  13 13 9 7 13 14 5 9 14 13 ...\n",
      " $ maritalstatus: Factor w/ 7 levels \"Divorced\",\"Married-AF-spouse\",..: 5 3 1 3 3 3 4 3 5 3 ...\n",
      " $ occupation   : Factor w/ 15 levels \"?\",\"Adm-clerical\",..: 2 5 7 7 11 5 9 5 11 5 ...\n",
      " $ relationship : Factor w/ 6 levels \"Husband\",\"Not-in-family\",..: 2 1 2 1 6 6 2 1 2 1 ...\n",
      " $ race         : Factor w/ 5 levels \"Amer-Indian-Eskimo\",..: 5 5 5 3 3 5 3 5 5 5 ...\n",
      " $ sex          : Factor w/ 2 levels \"Female\",\"Male\": 2 2 2 2 1 1 1 2 1 2 ...\n",
      " $ capitalgain  : int  2174 0 0 0 0 0 0 0 14084 5178 ...\n",
      " $ capitalloss  : int  0 0 0 0 0 0 0 0 0 0 ...\n",
      " $ hoursperweek : int  40 13 40 40 40 40 16 45 50 40 ...\n",
      " $ nativecountry: Factor w/ 42 levels \"?\",\"Cambodia\",..: 40 40 40 40 6 40 24 40 40 40 ...\n",
      " $ income       : Factor w/ 2 levels \"<=50K\",\">50K\": 1 1 1 1 1 1 1 2 2 2 ...\n"
     ]
    },
    {
     "data": {
      "text/html": [
       "<ol class=list-inline>\n",
       "\t<li>'?'</li>\n",
       "\t<li>'Cambodia'</li>\n",
       "\t<li>'Canada'</li>\n",
       "\t<li>'China'</li>\n",
       "\t<li>'Columbia'</li>\n",
       "\t<li>'Cuba'</li>\n",
       "\t<li>'Dominican-Republic'</li>\n",
       "\t<li>'Ecuador'</li>\n",
       "\t<li>'El-Salvador'</li>\n",
       "\t<li>'England'</li>\n",
       "\t<li>'France'</li>\n",
       "\t<li>'Germany'</li>\n",
       "\t<li>'Greece'</li>\n",
       "\t<li>'Guatemala'</li>\n",
       "\t<li>'Haiti'</li>\n",
       "\t<li>'Holand-Netherlands'</li>\n",
       "\t<li>'Honduras'</li>\n",
       "\t<li>'Hong'</li>\n",
       "\t<li>'Hungary'</li>\n",
       "\t<li>'India'</li>\n",
       "\t<li>'Iran'</li>\n",
       "\t<li>'Ireland'</li>\n",
       "\t<li>'Italy'</li>\n",
       "\t<li>'Jamaica'</li>\n",
       "\t<li>'Japan'</li>\n",
       "\t<li>'Laos'</li>\n",
       "\t<li>'Mexico'</li>\n",
       "\t<li>'Nicaragua'</li>\n",
       "\t<li>'Outlying-US(Guam-USVI-etc)'</li>\n",
       "\t<li>'Peru'</li>\n",
       "\t<li>'Philippines'</li>\n",
       "\t<li>'Poland'</li>\n",
       "\t<li>'Portugal'</li>\n",
       "\t<li>'Puerto-Rico'</li>\n",
       "\t<li>'Scotland'</li>\n",
       "\t<li>'South'</li>\n",
       "\t<li>'Taiwan'</li>\n",
       "\t<li>'Thailand'</li>\n",
       "\t<li>'Trinadad&amp;Tobago'</li>\n",
       "\t<li>'United-States'</li>\n",
       "\t<li>'Vietnam'</li>\n",
       "\t<li>'Yugoslavia'</li>\n",
       "</ol>\n"
      ],
      "text/latex": [
       "\\begin{enumerate*}\n",
       "\\item '?'\n",
       "\\item 'Cambodia'\n",
       "\\item 'Canada'\n",
       "\\item 'China'\n",
       "\\item 'Columbia'\n",
       "\\item 'Cuba'\n",
       "\\item 'Dominican-Republic'\n",
       "\\item 'Ecuador'\n",
       "\\item 'El-Salvador'\n",
       "\\item 'England'\n",
       "\\item 'France'\n",
       "\\item 'Germany'\n",
       "\\item 'Greece'\n",
       "\\item 'Guatemala'\n",
       "\\item 'Haiti'\n",
       "\\item 'Holand-Netherlands'\n",
       "\\item 'Honduras'\n",
       "\\item 'Hong'\n",
       "\\item 'Hungary'\n",
       "\\item 'India'\n",
       "\\item 'Iran'\n",
       "\\item 'Ireland'\n",
       "\\item 'Italy'\n",
       "\\item 'Jamaica'\n",
       "\\item 'Japan'\n",
       "\\item 'Laos'\n",
       "\\item 'Mexico'\n",
       "\\item 'Nicaragua'\n",
       "\\item 'Outlying-US(Guam-USVI-etc)'\n",
       "\\item 'Peru'\n",
       "\\item 'Philippines'\n",
       "\\item 'Poland'\n",
       "\\item 'Portugal'\n",
       "\\item 'Puerto-Rico'\n",
       "\\item 'Scotland'\n",
       "\\item 'South'\n",
       "\\item 'Taiwan'\n",
       "\\item 'Thailand'\n",
       "\\item 'Trinadad\\&Tobago'\n",
       "\\item 'United-States'\n",
       "\\item 'Vietnam'\n",
       "\\item 'Yugoslavia'\n",
       "\\end{enumerate*}\n"
      ],
      "text/markdown": [
       "1. '?'\n",
       "2. 'Cambodia'\n",
       "3. 'Canada'\n",
       "4. 'China'\n",
       "5. 'Columbia'\n",
       "6. 'Cuba'\n",
       "7. 'Dominican-Republic'\n",
       "8. 'Ecuador'\n",
       "9. 'El-Salvador'\n",
       "10. 'England'\n",
       "11. 'France'\n",
       "12. 'Germany'\n",
       "13. 'Greece'\n",
       "14. 'Guatemala'\n",
       "15. 'Haiti'\n",
       "16. 'Holand-Netherlands'\n",
       "17. 'Honduras'\n",
       "18. 'Hong'\n",
       "19. 'Hungary'\n",
       "20. 'India'\n",
       "21. 'Iran'\n",
       "22. 'Ireland'\n",
       "23. 'Italy'\n",
       "24. 'Jamaica'\n",
       "25. 'Japan'\n",
       "26. 'Laos'\n",
       "27. 'Mexico'\n",
       "28. 'Nicaragua'\n",
       "29. 'Outlying-US(Guam-USVI-etc)'\n",
       "30. 'Peru'\n",
       "31. 'Philippines'\n",
       "32. 'Poland'\n",
       "33. 'Portugal'\n",
       "34. 'Puerto-Rico'\n",
       "35. 'Scotland'\n",
       "36. 'South'\n",
       "37. 'Taiwan'\n",
       "38. 'Thailand'\n",
       "39. 'Trinadad&amp;Tobago'\n",
       "40. 'United-States'\n",
       "41. 'Vietnam'\n",
       "42. 'Yugoslavia'\n",
       "\n",
       "\n"
      ],
      "text/plain": [
       " [1] \"?\"                          \"Cambodia\"                  \n",
       " [3] \"Canada\"                     \"China\"                     \n",
       " [5] \"Columbia\"                   \"Cuba\"                      \n",
       " [7] \"Dominican-Republic\"         \"Ecuador\"                   \n",
       " [9] \"El-Salvador\"                \"England\"                   \n",
       "[11] \"France\"                     \"Germany\"                   \n",
       "[13] \"Greece\"                     \"Guatemala\"                 \n",
       "[15] \"Haiti\"                      \"Holand-Netherlands\"        \n",
       "[17] \"Honduras\"                   \"Hong\"                      \n",
       "[19] \"Hungary\"                    \"India\"                     \n",
       "[21] \"Iran\"                       \"Ireland\"                   \n",
       "[23] \"Italy\"                      \"Jamaica\"                   \n",
       "[25] \"Japan\"                      \"Laos\"                      \n",
       "[27] \"Mexico\"                     \"Nicaragua\"                 \n",
       "[29] \"Outlying-US(Guam-USVI-etc)\" \"Peru\"                      \n",
       "[31] \"Philippines\"                \"Poland\"                    \n",
       "[33] \"Portugal\"                   \"Puerto-Rico\"               \n",
       "[35] \"Scotland\"                   \"South\"                     \n",
       "[37] \"Taiwan\"                     \"Thailand\"                  \n",
       "[39] \"Trinadad&Tobago\"            \"United-States\"             \n",
       "[41] \"Vietnam\"                    \"Yugoslavia\"                "
      ]
     },
     "metadata": {},
     "output_type": "display_data"
    },
    {
     "data": {
      "text/html": [
       "<ol class=list-inline>\n",
       "\t<li>'10th'</li>\n",
       "\t<li>'11th'</li>\n",
       "\t<li>'12th'</li>\n",
       "\t<li>'1st-4th'</li>\n",
       "\t<li>'5th-6th'</li>\n",
       "\t<li>'7th-8th'</li>\n",
       "\t<li>'9th'</li>\n",
       "\t<li>'Assoc-acdm'</li>\n",
       "\t<li>'Assoc-voc'</li>\n",
       "\t<li>'Bachelors'</li>\n",
       "\t<li>'Doctorate'</li>\n",
       "\t<li>'HS-grad'</li>\n",
       "\t<li>'Masters'</li>\n",
       "\t<li>'Preschool'</li>\n",
       "\t<li>'Prof-school'</li>\n",
       "\t<li>'Some-college'</li>\n",
       "</ol>\n"
      ],
      "text/latex": [
       "\\begin{enumerate*}\n",
       "\\item '10th'\n",
       "\\item '11th'\n",
       "\\item '12th'\n",
       "\\item '1st-4th'\n",
       "\\item '5th-6th'\n",
       "\\item '7th-8th'\n",
       "\\item '9th'\n",
       "\\item 'Assoc-acdm'\n",
       "\\item 'Assoc-voc'\n",
       "\\item 'Bachelors'\n",
       "\\item 'Doctorate'\n",
       "\\item 'HS-grad'\n",
       "\\item 'Masters'\n",
       "\\item 'Preschool'\n",
       "\\item 'Prof-school'\n",
       "\\item 'Some-college'\n",
       "\\end{enumerate*}\n"
      ],
      "text/markdown": [
       "1. '10th'\n",
       "2. '11th'\n",
       "3. '12th'\n",
       "4. '1st-4th'\n",
       "5. '5th-6th'\n",
       "6. '7th-8th'\n",
       "7. '9th'\n",
       "8. 'Assoc-acdm'\n",
       "9. 'Assoc-voc'\n",
       "10. 'Bachelors'\n",
       "11. 'Doctorate'\n",
       "12. 'HS-grad'\n",
       "13. 'Masters'\n",
       "14. 'Preschool'\n",
       "15. 'Prof-school'\n",
       "16. 'Some-college'\n",
       "\n",
       "\n"
      ],
      "text/plain": [
       " [1] \"10th\"         \"11th\"         \"12th\"         \"1st-4th\"      \"5th-6th\"     \n",
       " [6] \"7th-8th\"      \"9th\"          \"Assoc-acdm\"   \"Assoc-voc\"    \"Bachelors\"   \n",
       "[11] \"Doctorate\"    \"HS-grad\"      \"Masters\"      \"Preschool\"    \"Prof-school\" \n",
       "[16] \"Some-college\""
      ]
     },
     "metadata": {},
     "output_type": "display_data"
    },
    {
     "data": {
      "text/html": [
       "<ol class=list-inline>\n",
       "\t<li>'?'</li>\n",
       "\t<li>'Adm-clerical'</li>\n",
       "\t<li>'Armed-Forces'</li>\n",
       "\t<li>'Craft-repair'</li>\n",
       "\t<li>'Exec-managerial'</li>\n",
       "\t<li>'Farming-fishing'</li>\n",
       "\t<li>'Handlers-cleaners'</li>\n",
       "\t<li>'Machine-op-inspct'</li>\n",
       "\t<li>'Other-service'</li>\n",
       "\t<li>'Priv-house-serv'</li>\n",
       "\t<li>'Prof-specialty'</li>\n",
       "\t<li>'Protective-serv'</li>\n",
       "\t<li>'Sales'</li>\n",
       "\t<li>'Tech-support'</li>\n",
       "\t<li>'Transport-moving'</li>\n",
       "</ol>\n"
      ],
      "text/latex": [
       "\\begin{enumerate*}\n",
       "\\item '?'\n",
       "\\item 'Adm-clerical'\n",
       "\\item 'Armed-Forces'\n",
       "\\item 'Craft-repair'\n",
       "\\item 'Exec-managerial'\n",
       "\\item 'Farming-fishing'\n",
       "\\item 'Handlers-cleaners'\n",
       "\\item 'Machine-op-inspct'\n",
       "\\item 'Other-service'\n",
       "\\item 'Priv-house-serv'\n",
       "\\item 'Prof-specialty'\n",
       "\\item 'Protective-serv'\n",
       "\\item 'Sales'\n",
       "\\item 'Tech-support'\n",
       "\\item 'Transport-moving'\n",
       "\\end{enumerate*}\n"
      ],
      "text/markdown": [
       "1. '?'\n",
       "2. 'Adm-clerical'\n",
       "3. 'Armed-Forces'\n",
       "4. 'Craft-repair'\n",
       "5. 'Exec-managerial'\n",
       "6. 'Farming-fishing'\n",
       "7. 'Handlers-cleaners'\n",
       "8. 'Machine-op-inspct'\n",
       "9. 'Other-service'\n",
       "10. 'Priv-house-serv'\n",
       "11. 'Prof-specialty'\n",
       "12. 'Protective-serv'\n",
       "13. 'Sales'\n",
       "14. 'Tech-support'\n",
       "15. 'Transport-moving'\n",
       "\n",
       "\n"
      ],
      "text/plain": [
       " [1] \"?\"                 \"Adm-clerical\"      \"Armed-Forces\"     \n",
       " [4] \"Craft-repair\"      \"Exec-managerial\"   \"Farming-fishing\"  \n",
       " [7] \"Handlers-cleaners\" \"Machine-op-inspct\" \"Other-service\"    \n",
       "[10] \"Priv-house-serv\"   \"Prof-specialty\"    \"Protective-serv\"  \n",
       "[13] \"Sales\"             \"Tech-support\"      \"Transport-moving\" "
      ]
     },
     "metadata": {},
     "output_type": "display_data"
    },
    {
     "data": {
      "text/html": [
       "<ol class=list-inline>\n",
       "\t<li>'NA'</li>\n",
       "\t<li>'Africa'</li>\n",
       "\t<li>'Asia'</li>\n",
       "\t<li>'SA'</li>\n",
       "\t<li>'EU'</li>\n",
       "</ol>\n"
      ],
      "text/latex": [
       "\\begin{enumerate*}\n",
       "\\item 'NA'\n",
       "\\item 'Africa'\n",
       "\\item 'Asia'\n",
       "\\item 'SA'\n",
       "\\item 'EU'\n",
       "\\end{enumerate*}\n"
      ],
      "text/markdown": [
       "1. 'NA'\n",
       "2. 'Africa'\n",
       "3. 'Asia'\n",
       "4. 'SA'\n",
       "5. 'EU'\n",
       "\n",
       "\n"
      ],
      "text/plain": [
       "[1] \"NA\"     \"Africa\" \"Asia\"   \"SA\"     \"EU\"    "
      ]
     },
     "metadata": {},
     "output_type": "display_data"
    },
    {
     "data": {
      "text/html": [
       "<ol class=list-inline>\n",
       "\t<li>'Gradeschool'</li>\n",
       "\t<li>'Associates'</li>\n",
       "\t<li>'Bachelors'</li>\n",
       "\t<li>'Post-grad'</li>\n",
       "\t<li>'HS+'</li>\n",
       "</ol>\n"
      ],
      "text/latex": [
       "\\begin{enumerate*}\n",
       "\\item 'Gradeschool'\n",
       "\\item 'Associates'\n",
       "\\item 'Bachelors'\n",
       "\\item 'Post-grad'\n",
       "\\item 'HS+'\n",
       "\\end{enumerate*}\n"
      ],
      "text/markdown": [
       "1. 'Gradeschool'\n",
       "2. 'Associates'\n",
       "3. 'Bachelors'\n",
       "4. 'Post-grad'\n",
       "5. 'HS+'\n",
       "\n",
       "\n"
      ],
      "text/plain": [
       "[1] \"Gradeschool\" \"Associates\"  \"Bachelors\"   \"Post-grad\"   \"HS+\"        "
      ]
     },
     "metadata": {},
     "output_type": "display_data"
    },
    {
     "data": {
      "text/html": [
       "<ol class=list-inline>\n",
       "\t<li>'Misc'</li>\n",
       "\t<li>'Business'</li>\n",
       "\t<li>'Protection'</li>\n",
       "\t<li>'Labor'</li>\n",
       "\t<li>'Tech'</li>\n",
       "</ol>\n"
      ],
      "text/latex": [
       "\\begin{enumerate*}\n",
       "\\item 'Misc'\n",
       "\\item 'Business'\n",
       "\\item 'Protection'\n",
       "\\item 'Labor'\n",
       "\\item 'Tech'\n",
       "\\end{enumerate*}\n"
      ],
      "text/markdown": [
       "1. 'Misc'\n",
       "2. 'Business'\n",
       "3. 'Protection'\n",
       "4. 'Labor'\n",
       "5. 'Tech'\n",
       "\n",
       "\n"
      ],
      "text/plain": [
       "[1] \"Misc\"       \"Business\"   \"Protection\" \"Labor\"      \"Tech\"      "
      ]
     },
     "metadata": {},
     "output_type": "display_data"
    }
   ],
   "source": [
    "str(adultfix) \n",
    "#education, native country, and occupation are all categorical with over 10 levels\n",
    "\n",
    "\n",
    "levels(adultfix$nativecountry)\n",
    "levels(adultfix$education)\n",
    "levels(adultfix$occupation)\n",
    "\n",
    "levels(adultfix$education) <- c(\"Gradeschool\", \"Gradeschool\", \"Gradeschool\", \"Gradeschool\", \"Gradeschool\", \"Gradeschool\", \"Gradeschool\", \"Associates\", \"Associates\", \"Bachelors\", \"Post-grad\", \"HS+\", \"Post-grad\", \"Gradeschool\", \"HS+\", \"HS+\")\n",
    "\n",
    "levels(adultfix$occupation) <- c(\"Misc\", \"Business\", \"Protection\", \"Labor\", \"Business\", \"Labor\", \"Labor\", \"Tech\", \"Misc\", \"Labor\", \"Misc\", \"Protection\", \"Business\", \"Tech\", \"Labor\")\n",
    "\n",
    "levels(adultfix$nativecountry) <- c(\"NA\", \"Africa\", \"NA\", \"Asia\",\"SA\", \"NA\", \"NA\", \"SA\", \"NA\", \"EU\", \"EU\", \"EU\", \"EU\", \"NA\", \"NA\", \"EU\", \"NA\", \"Asia\", \"EU\", \"Asia\", \"Asia\", \"EU\", \"EU\", \"NA\", \"Asia\", \"Asia\", \"NA\", \"NA\", \"NA\", \"SA\", \"Asia\", \"EU\", \"EU\", \"NA\", \"EU\", \"Asia\", \"Asia\", \"Asia\", \"NA\", \"NA\", \"Asia\", \"EU\" )\n",
    "\n",
    "levels(adultfix$nativecountry)\n",
    "levels(adultfix$education)\n",
    "levels(adultfix$occupation)"
   ]
  },
  {
   "cell_type": "markdown",
   "metadata": {},
   "source": [
    "### 5.\tEncoding categorical variable using one hot encoding (dummy encoding) "
   ]
  },
  {
   "cell_type": "code",
   "execution_count": 6,
   "metadata": {},
   "outputs": [
    {
     "name": "stderr",
     "output_type": "stream",
     "text": [
      "Warning message in model.frame.default(Terms, newdata, na.action = na.action, xlev = object$lvls):\n",
      "\"variable 'income' is not a factor\""
     ]
    },
    {
     "name": "stdout",
     "output_type": "stream",
     "text": [
      "'data.frame':\t32561 obs. of  51 variables:\n",
      " $ age                                : num  39 50 38 53 28 37 49 52 31 42 ...\n",
      " $ workclass..                        : num  0 0 0 0 0 0 0 0 0 0 ...\n",
      " $ workclass.Federal.gov              : num  0 0 0 0 0 0 0 0 0 0 ...\n",
      " $ workclass.Local.gov                : num  0 0 0 0 0 0 0 0 0 0 ...\n",
      " $ workclass.Never.worked             : num  0 0 0 0 0 0 0 0 0 0 ...\n",
      " $ workclass.Private                  : num  0 0 1 1 1 1 1 0 1 1 ...\n",
      " $ workclass.Self.emp.inc             : num  0 0 0 0 0 0 0 0 0 0 ...\n",
      " $ workclass.Self.emp.not.inc         : num  0 1 0 0 0 0 0 1 0 0 ...\n",
      " $ workclass.State.gov                : num  1 0 0 0 0 0 0 0 0 0 ...\n",
      " $ workclass.Without.pay              : num  0 0 0 0 0 0 0 0 0 0 ...\n",
      " $ finalweight                        : num  77516 83311 215646 234721 338409 ...\n",
      " $ education.Gradeschool              : num  0 0 0 1 0 0 1 0 0 0 ...\n",
      " $ education.Associates               : num  0 0 0 0 0 0 0 0 0 0 ...\n",
      " $ education.Bachelors                : num  1 1 0 0 1 0 0 0 0 1 ...\n",
      " $ education.Post.grad                : num  0 0 0 0 0 1 0 0 1 0 ...\n",
      " $ education.HS.                      : num  0 0 1 0 0 0 0 1 0 0 ...\n",
      " $ eductationnum                      : num  13 13 9 7 13 14 5 9 14 13 ...\n",
      " $ maritalstatus.Divorced             : num  0 0 1 0 0 0 0 0 0 0 ...\n",
      " $ maritalstatus.Married.AF.spouse    : num  0 0 0 0 0 0 0 0 0 0 ...\n",
      " $ maritalstatus.Married.civ.spouse   : num  0 1 0 1 1 1 0 1 0 1 ...\n",
      " $ maritalstatus.Married.spouse.absent: num  0 0 0 0 0 0 1 0 0 0 ...\n",
      " $ maritalstatus.Never.married        : num  1 0 0 0 0 0 0 0 1 0 ...\n",
      " $ maritalstatus.Separated            : num  0 0 0 0 0 0 0 0 0 0 ...\n",
      " $ maritalstatus.Widowed              : num  0 0 0 0 0 0 0 0 0 0 ...\n",
      " $ occupation.Misc                    : num  0 0 0 0 1 0 1 0 1 0 ...\n",
      " $ occupation.Business                : num  1 1 0 0 0 1 0 1 0 1 ...\n",
      " $ occupation.Protection              : num  0 0 0 0 0 0 0 0 0 0 ...\n",
      " $ occupation.Labor                   : num  0 0 1 1 0 0 0 0 0 0 ...\n",
      " $ occupation.Tech                    : num  0 0 0 0 0 0 0 0 0 0 ...\n",
      " $ relationship.Husband               : num  0 1 0 1 0 0 0 1 0 1 ...\n",
      " $ relationship.Not.in.family         : num  1 0 1 0 0 0 1 0 1 0 ...\n",
      " $ relationship.Other.relative        : num  0 0 0 0 0 0 0 0 0 0 ...\n",
      " $ relationship.Own.child             : num  0 0 0 0 0 0 0 0 0 0 ...\n",
      " $ relationship.Unmarried             : num  0 0 0 0 0 0 0 0 0 0 ...\n",
      " $ relationship.Wife                  : num  0 0 0 0 1 1 0 0 0 0 ...\n",
      " $ race.Amer.Indian.Eskimo            : num  0 0 0 0 0 0 0 0 0 0 ...\n",
      " $ race.Asian.Pac.Islander            : num  0 0 0 0 0 0 0 0 0 0 ...\n",
      " $ race.Black                         : num  0 0 0 1 1 0 1 0 0 0 ...\n",
      " $ race.Other                         : num  0 0 0 0 0 0 0 0 0 0 ...\n",
      " $ race.White                         : num  1 1 1 0 0 1 0 1 1 1 ...\n",
      " $ sex.Female                         : num  0 0 0 0 1 1 1 0 1 0 ...\n",
      " $ sex.Male                           : num  1 1 1 1 0 0 0 1 0 1 ...\n",
      " $ capitalgain                        : num  2174 0 0 0 0 ...\n",
      " $ capitalloss                        : num  0 0 0 0 0 0 0 0 0 0 ...\n",
      " $ hoursperweek                       : num  40 13 40 40 40 40 16 45 50 40 ...\n",
      " $ nativecountry.NA                   : num  1 1 1 1 1 1 1 1 1 1 ...\n",
      " $ nativecountry.Africa               : num  0 0 0 0 0 0 0 0 0 0 ...\n",
      " $ nativecountry.Asia                 : num  0 0 0 0 0 0 0 0 0 0 ...\n",
      " $ nativecountry.SA                   : num  0 0 0 0 0 0 0 0 0 0 ...\n",
      " $ nativecountry.EU                   : num  0 0 0 0 0 0 0 0 0 0 ...\n",
      " $ income                             : Factor w/ 2 levels \"<=50K\",\">50K\": 1 1 1 1 1 1 1 2 2 2 ...\n"
     ]
    }
   ],
   "source": [
    "dummies_model <- dummyVars(income ~ ., data=adultfix)\n",
    "adultfix_mat <- predict(dummies_model, newdata = adultfix)\n",
    "adultfixe <- data.frame(adultfix_mat)\n",
    "adultfixe$income <- adultfix$income\n",
    "str(adultfixe)"
   ]
  },
  {
   "cell_type": "markdown",
   "metadata": {},
   "source": [
    "### 6.\tScale and center the data "
   ]
  },
  {
   "cell_type": "code",
   "execution_count": 7,
   "metadata": {},
   "outputs": [
    {
     "name": "stderr",
     "output_type": "stream",
     "text": [
      "Warning message in preProcess.default(adultfixe, method = c(\"center\", \"scale\")):\n",
      "\"These variables have zero variances: workclass..\""
     ]
    },
    {
     "data": {
      "text/plain": [
       "Created from 32561 samples and 51 variables\n",
       "\n",
       "Pre-processing:\n",
       "  - centered (50)\n",
       "  - ignored (1)\n",
       "  - scaled (50)\n"
      ]
     },
     "metadata": {},
     "output_type": "display_data"
    },
    {
     "name": "stdout",
     "output_type": "stream",
     "text": [
      "'data.frame':\t32561 obs. of  51 variables:\n",
      " $ age                                : num  0.0307 0.8371 -0.0426 1.057 -0.7758 ...\n",
      " $ workclass..                        : num  0 0 0 0 0 0 0 0 0 0 ...\n",
      " $ workclass.Federal.gov              : num  -0.174 -0.174 -0.174 -0.174 -0.174 ...\n",
      " $ workclass.Local.gov                : num  -0.262 -0.262 -0.262 -0.262 -0.262 ...\n",
      " $ workclass.Never.worked             : num  -0.0147 -0.0147 -0.0147 -0.0147 -0.0147 ...\n",
      " $ workclass.Private                  : num  -1.748 -1.748 0.572 0.572 0.572 ...\n",
      " $ workclass.Self.emp.inc             : num  -0.188 -0.188 -0.188 -0.188 -0.188 ...\n",
      " $ workclass.Self.emp.not.inc         : num  -0.291 3.437 -0.291 -0.291 -0.291 ...\n",
      " $ workclass.State.gov                : num  4.908 -0.204 -0.204 -0.204 -0.204 ...\n",
      " $ workclass.Without.pay              : num  -0.0207 -0.0207 -0.0207 -0.0207 -0.0207 ...\n",
      " $ finalweight                        : num  -1.064 -1.009 0.245 0.426 1.408 ...\n",
      " $ education.Gradeschool              : num  -0.388 -0.388 -0.388 2.58 -0.388 ...\n",
      " $ education.Associates               : num  -0.285 -0.285 -0.285 -0.285 -0.285 ...\n",
      " $ education.Bachelors                : num  2.254 2.254 -0.444 -0.444 2.254 ...\n",
      " $ education.Post.grad                : num  -0.265 -0.265 -0.265 -0.265 -0.265 ...\n",
      " $ education.HS.                      : num  -1.138 -1.138 0.879 -1.138 -1.138 ...\n",
      " $ eductationnum                      : num  1.13 1.13 -0.42 -1.2 1.13 ...\n",
      " $ maritalstatus.Divorced             : num  -0.398 -0.398 2.516 -0.398 -0.398 ...\n",
      " $ maritalstatus.Married.AF.spouse    : num  -0.0266 -0.0266 -0.0266 -0.0266 -0.0266 ...\n",
      " $ maritalstatus.Married.civ.spouse   : num  -0.923 1.084 -0.923 1.084 1.084 ...\n",
      " $ maritalstatus.Married.spouse.absent: num  -0.114 -0.114 -0.114 -0.114 -0.114 ...\n",
      " $ maritalstatus.Never.married        : num  1.431 -0.699 -0.699 -0.699 -0.699 ...\n",
      " $ maritalstatus.Separated            : num  -0.18 -0.18 -0.18 -0.18 -0.18 ...\n",
      " $ maritalstatus.Widowed              : num  -0.177 -0.177 -0.177 -0.177 -0.177 ...\n",
      " $ occupation.Misc                    : num  -0.631 -0.631 -0.631 -0.631 1.584 ...\n",
      " $ occupation.Business                : num  1.355 1.355 -0.738 -0.738 -0.738 ...\n",
      " $ occupation.Protection              : num  -0.144 -0.144 -0.144 -0.144 -0.144 ...\n",
      " $ occupation.Labor                   : num  -0.581 -0.581 1.722 1.722 -0.581 ...\n",
      " $ occupation.Tech                    : num  -0.314 -0.314 -0.314 -0.314 -0.314 ...\n",
      " $ relationship.Husband               : num  -0.825 1.212 -0.825 1.212 -0.825 ...\n",
      " $ relationship.Not.in.family         : num  1.709 -0.585 1.709 -0.585 -0.585 ...\n",
      " $ relationship.Other.relative        : num  -0.176 -0.176 -0.176 -0.176 -0.176 ...\n",
      " $ relationship.Own.child             : num  -0.429 -0.429 -0.429 -0.429 -0.429 ...\n",
      " $ relationship.Unmarried             : num  -0.344 -0.344 -0.344 -0.344 -0.344 ...\n",
      " $ relationship.Wife                  : num  -0.225 -0.225 -0.225 -0.225 4.446 ...\n",
      " $ race.Amer.Indian.Eskimo            : num  -0.0982 -0.0982 -0.0982 -0.0982 -0.0982 ...\n",
      " $ race.Asian.Pac.Islander            : num  -0.182 -0.182 -0.182 -0.182 -0.182 ...\n",
      " $ race.Black                         : num  -0.326 -0.326 -0.326 3.07 3.07 ...\n",
      " $ race.Other                         : num  -0.0916 -0.0916 -0.0916 -0.0916 -0.0916 ...\n",
      " $ race.White                         : num  0.413 0.413 0.413 -2.421 -2.421 ...\n",
      " $ sex.Female                         : num  -0.703 -0.703 -0.703 -0.703 1.422 ...\n",
      " $ sex.Male                           : num  0.703 0.703 0.703 0.703 -1.422 ...\n",
      " $ capitalgain                        : num  0.148 -0.146 -0.146 -0.146 -0.146 ...\n",
      " $ capitalloss                        : num  -0.217 -0.217 -0.217 -0.217 -0.217 ...\n",
      " $ hoursperweek                       : num  -0.0354 -2.2221 -0.0354 -0.0354 -0.0354 ...\n",
      " $ nativecountry.NA                   : num  0.211 0.211 0.211 0.211 0.211 ...\n",
      " $ nativecountry.Africa               : num  -0.0242 -0.0242 -0.0242 -0.0242 -0.0242 ...\n",
      " $ nativecountry.Asia                 : num  -0.152 -0.152 -0.152 -0.152 -0.152 ...\n",
      " $ nativecountry.SA                   : num  -0.0603 -0.0603 -0.0603 -0.0603 -0.0603 ...\n",
      " $ nativecountry.EU                   : num  -0.128 -0.128 -0.128 -0.128 -0.128 ...\n",
      " $ income                             : Factor w/ 2 levels \"<=50K\",\">50K\": 1 1 1 1 1 1 1 2 2 2 ...\n"
     ]
    }
   ],
   "source": [
    "ScaleandCenter <- preProcess(adultfixe, method= c(\"center\", \"scale\"))\n",
    "ScaleandCenter\n",
    "\n",
    "finaladult <- predict(ScaleandCenter, newdata = adultfixe)\n",
    "str(finaladult)"
   ]
  },
  {
   "cell_type": "markdown",
   "metadata": {},
   "source": [
    "### 7.\tSplit the data into training (70%) and testing (30%) with the seeding set to be 2018 [including the code: set.seed(2018)]. Build a decision tree and report the accuracy and balanced accuracy"
   ]
  },
  {
   "cell_type": "code",
   "execution_count": 8,
   "metadata": {},
   "outputs": [
    {
     "data": {
      "text/html": [
       "<strong>Accuracy:</strong> 0.844389844389844"
      ],
      "text/latex": [
       "\\textbf{Accuracy:} 0.844389844389844"
      ],
      "text/markdown": [
       "**Accuracy:** 0.844389844389844"
      ],
      "text/plain": [
       " Accuracy \n",
       "0.8443898 "
      ]
     },
     "metadata": {},
     "output_type": "display_data"
    },
    {
     "data": {
      "text/html": [
       "<strong>Balanced Accuracy:</strong> 0.740742575347291"
      ],
      "text/latex": [
       "\\textbf{Balanced Accuracy:} 0.740742575347291"
      ],
      "text/markdown": [
       "**Balanced Accuracy:** 0.740742575347291"
      ],
      "text/plain": [
       "Balanced Accuracy \n",
       "        0.7407426 "
      ]
     },
     "metadata": {},
     "output_type": "display_data"
    }
   ],
   "source": [
    " library(caret)\n",
    "set.seed(2018)\n",
    "splitIndex <- createDataPartition(finaladult$income, p = .7 , list = FALSE, times = 1)\n",
    "train <- finaladult[ splitIndex,]\n",
    "test <- finaladult[-splitIndex,]\n",
    "\n",
    "library(rpart)\n",
    "mytree <- rpart(income ~ ., data = train, method = \"class\")\n",
    "pred <- predict(mytree,test, type = \"class\")\n",
    "\n",
    "cm=confusionMatrix(data = pred, reference = test$income, positive = \">50K\")\n",
    "cm$overall['Accuracy']\n",
    "cm$byClass['Balanced Accuracy']"
   ]
  },
  {
   "cell_type": "markdown",
   "metadata": {},
   "source": [
    "### 8.\tBuild a random forest using the ranger package.  Report the accuracy and balanced accuracy"
   ]
  },
  {
   "cell_type": "code",
   "execution_count": 9,
   "metadata": {},
   "outputs": [
    {
     "data": {
      "text/html": [
       "<strong>Accuracy:</strong> 0.858619983619984"
      ],
      "text/latex": [
       "\\textbf{Accuracy:} 0.858619983619984"
      ],
      "text/markdown": [
       "**Accuracy:** 0.858619983619984"
      ],
      "text/plain": [
       "Accuracy \n",
       " 0.85862 "
      ]
     },
     "metadata": {},
     "output_type": "display_data"
    },
    {
     "data": {
      "text/html": [
       "<strong>Balanced Accuracy:</strong> 0.772033853994672"
      ],
      "text/latex": [
       "\\textbf{Balanced Accuracy:} 0.772033853994672"
      ],
      "text/markdown": [
       "**Balanced Accuracy:** 0.772033853994672"
      ],
      "text/plain": [
       "Balanced Accuracy \n",
       "        0.7720339 "
      ]
     },
     "metadata": {},
     "output_type": "display_data"
    }
   ],
   "source": [
    "library(ranger)\n",
    "set.seed(2018)\n",
    "model = ranger(income ~., data = train)\n",
    "pred2  = predict(model, data = test)$predictions\n",
    "cm2=confusionMatrix(pred2, test$income, positive=\">50K\")\n",
    "cm2$overall['Accuracy']\n",
    "cm2$byClass['Balanced Accuracy']"
   ]
  },
  {
   "cell_type": "markdown",
   "metadata": {},
   "source": [
    "### 9.\tRedo 3 with missing values being replaced by the mean.  Rebuild the model and report the models' performances (the accuracy and balanced accuracy). "
   ]
  },
  {
   "cell_type": "code",
   "execution_count": 10,
   "metadata": {},
   "outputs": [],
   "source": [
    "#No missing numeric values so replacing with the mean doesn't do anything"
   ]
  },
  {
   "cell_type": "markdown",
   "metadata": {},
   "source": [
    "### 10.\tRedo 3 with missing values being replaced by the \"knn\" imputation method.  Rebuild the model and report the models' performances (the accuracy and balanced accuracy)"
   ]
  },
  {
   "cell_type": "code",
   "execution_count": 11,
   "metadata": {},
   "outputs": [],
   "source": [
    "#No Missing numeric values so knn imputation does not do anything"
   ]
  },
  {
   "cell_type": "markdown",
   "metadata": {},
   "source": [
    "### 11.\tRedo 6 with only scaling and centering the non-encoded variables. Rebuild the model and report the models' performances (the accuracy and balanced accuracy).  The first set of accuracies is for the decision tree and the next is for the random forest."
   ]
  },
  {
   "cell_type": "code",
   "execution_count": 12,
   "metadata": {},
   "outputs": [
    {
     "name": "stderr",
     "output_type": "stream",
     "text": [
      "Warning message in model.frame.default(Terms, newdata, na.action = na.action, xlev = object$lvls):\n",
      "\"variable 'income' is not a factor\""
     ]
    },
    {
     "name": "stdout",
     "output_type": "stream",
     "text": [
      "'data.frame':\t32561 obs. of  51 variables:\n",
      " $ age                                : num  0.0307 0.8371 -0.0426 1.057 -0.7758 ...\n",
      " $ workclass..                        : num  0 0 0 0 0 0 0 0 0 0 ...\n",
      " $ workclass.Federal.gov              : num  0 0 0 0 0 0 0 0 0 0 ...\n",
      " $ workclass.Local.gov                : num  0 0 0 0 0 0 0 0 0 0 ...\n",
      " $ workclass.Never.worked             : num  0 0 0 0 0 0 0 0 0 0 ...\n",
      " $ workclass.Private                  : num  0 0 1 1 1 1 1 0 1 1 ...\n",
      " $ workclass.Self.emp.inc             : num  0 0 0 0 0 0 0 0 0 0 ...\n",
      " $ workclass.Self.emp.not.inc         : num  0 1 0 0 0 0 0 1 0 0 ...\n",
      " $ workclass.State.gov                : num  1 0 0 0 0 0 0 0 0 0 ...\n",
      " $ workclass.Without.pay              : num  0 0 0 0 0 0 0 0 0 0 ...\n",
      " $ finalweight                        : num  -1.064 -1.009 0.245 0.426 1.408 ...\n",
      " $ education.Gradeschool              : num  0 0 0 1 0 0 1 0 0 0 ...\n",
      " $ education.Associates               : num  0 0 0 0 0 0 0 0 0 0 ...\n",
      " $ education.Bachelors                : num  1 1 0 0 1 0 0 0 0 1 ...\n",
      " $ education.Post.grad                : num  0 0 0 0 0 1 0 0 1 0 ...\n",
      " $ education.HS.                      : num  0 0 1 0 0 0 0 1 0 0 ...\n",
      " $ eductationnum                      : num  1.13 1.13 -0.42 -1.2 1.13 ...\n",
      " $ maritalstatus.Divorced             : num  0 0 1 0 0 0 0 0 0 0 ...\n",
      " $ maritalstatus.Married.AF.spouse    : num  0 0 0 0 0 0 0 0 0 0 ...\n",
      " $ maritalstatus.Married.civ.spouse   : num  0 1 0 1 1 1 0 1 0 1 ...\n",
      " $ maritalstatus.Married.spouse.absent: num  0 0 0 0 0 0 1 0 0 0 ...\n",
      " $ maritalstatus.Never.married        : num  1 0 0 0 0 0 0 0 1 0 ...\n",
      " $ maritalstatus.Separated            : num  0 0 0 0 0 0 0 0 0 0 ...\n",
      " $ maritalstatus.Widowed              : num  0 0 0 0 0 0 0 0 0 0 ...\n",
      " $ occupation.Misc                    : num  0 0 0 0 1 0 1 0 1 0 ...\n",
      " $ occupation.Business                : num  1 1 0 0 0 1 0 1 0 1 ...\n",
      " $ occupation.Protection              : num  0 0 0 0 0 0 0 0 0 0 ...\n",
      " $ occupation.Labor                   : num  0 0 1 1 0 0 0 0 0 0 ...\n",
      " $ occupation.Tech                    : num  0 0 0 0 0 0 0 0 0 0 ...\n",
      " $ relationship.Husband               : num  0 1 0 1 0 0 0 1 0 1 ...\n",
      " $ relationship.Not.in.family         : num  1 0 1 0 0 0 1 0 1 0 ...\n",
      " $ relationship.Other.relative        : num  0 0 0 0 0 0 0 0 0 0 ...\n",
      " $ relationship.Own.child             : num  0 0 0 0 0 0 0 0 0 0 ...\n",
      " $ relationship.Unmarried             : num  0 0 0 0 0 0 0 0 0 0 ...\n",
      " $ relationship.Wife                  : num  0 0 0 0 1 1 0 0 0 0 ...\n",
      " $ race.Amer.Indian.Eskimo            : num  0 0 0 0 0 0 0 0 0 0 ...\n",
      " $ race.Asian.Pac.Islander            : num  0 0 0 0 0 0 0 0 0 0 ...\n",
      " $ race.Black                         : num  0 0 0 1 1 0 1 0 0 0 ...\n",
      " $ race.Other                         : num  0 0 0 0 0 0 0 0 0 0 ...\n",
      " $ race.White                         : num  1 1 1 0 0 1 0 1 1 1 ...\n",
      " $ sex.Female                         : num  0 0 0 0 1 1 1 0 1 0 ...\n",
      " $ sex.Male                           : num  1 1 1 1 0 0 0 1 0 1 ...\n",
      " $ capitalgain                        : num  0.148 -0.146 -0.146 -0.146 -0.146 ...\n",
      " $ capitalloss                        : num  -0.217 -0.217 -0.217 -0.217 -0.217 ...\n",
      " $ hoursperweek                       : num  -0.0354 -2.2221 -0.0354 -0.0354 -0.0354 ...\n",
      " $ nativecountry.NA                   : num  1 1 1 1 1 1 1 1 1 1 ...\n",
      " $ nativecountry.Africa               : num  0 0 0 0 0 0 0 0 0 0 ...\n",
      " $ nativecountry.Asia                 : num  0 0 0 0 0 0 0 0 0 0 ...\n",
      " $ nativecountry.SA                   : num  0 0 0 0 0 0 0 0 0 0 ...\n",
      " $ nativecountry.EU                   : num  0 0 0 0 0 0 0 0 0 0 ...\n",
      " $ income                             : Factor w/ 2 levels \"<=50K\",\">50K\": 1 1 1 1 1 1 1 2 2 2 ...\n"
     ]
    },
    {
     "data": {
      "text/html": [
       "<strong>Accuracy:</strong> 0.844389844389844"
      ],
      "text/latex": [
       "\\textbf{Accuracy:} 0.844389844389844"
      ],
      "text/markdown": [
       "**Accuracy:** 0.844389844389844"
      ],
      "text/plain": [
       " Accuracy \n",
       "0.8443898 "
      ]
     },
     "metadata": {},
     "output_type": "display_data"
    },
    {
     "data": {
      "text/html": [
       "<strong>Balanced Accuracy:</strong> 0.740742575347291"
      ],
      "text/latex": [
       "\\textbf{Balanced Accuracy:} 0.740742575347291"
      ],
      "text/markdown": [
       "**Balanced Accuracy:** 0.740742575347291"
      ],
      "text/plain": [
       "Balanced Accuracy \n",
       "        0.7407426 "
      ]
     },
     "metadata": {},
     "output_type": "display_data"
    },
    {
     "data": {
      "text/html": [
       "<strong>Accuracy:</strong> 0.858619983619984"
      ],
      "text/latex": [
       "\\textbf{Accuracy:} 0.858619983619984"
      ],
      "text/markdown": [
       "**Accuracy:** 0.858619983619984"
      ],
      "text/plain": [
       "Accuracy \n",
       " 0.85862 "
      ]
     },
     "metadata": {},
     "output_type": "display_data"
    },
    {
     "data": {
      "text/html": [
       "<strong>Balanced Accuracy:</strong> 0.772033853994672"
      ],
      "text/latex": [
       "\\textbf{Balanced Accuracy:} 0.772033853994672"
      ],
      "text/markdown": [
       "**Balanced Accuracy:** 0.772033853994672"
      ],
      "text/plain": [
       "Balanced Accuracy \n",
       "        0.7720339 "
      ]
     },
     "metadata": {},
     "output_type": "display_data"
    }
   ],
   "source": [
    "ScaleandCenter <- preProcess(adultfix, method= c(\"center\", \"scale\"))\n",
    "adultfix11 <- predict(ScaleandCenter, newdata = adultfix)\n",
    "\n",
    "dummies_model <- dummyVars(income ~ ., data=adultfix11)\n",
    "adultfix_mat <- predict(dummies_model, newdata = adultfix11)\n",
    "finaladult11 <- data.frame(adultfix_mat)\n",
    "finaladult11$income <- adultfix11$income\n",
    "str(finaladult11)\n",
    "\n",
    " library(caret)\n",
    "set.seed(2018)\n",
    "splitIndex <- createDataPartition(finaladult11$income, p = .7 , list = FALSE, times = 1)\n",
    "train <- finaladult11[ splitIndex,]\n",
    "test <- finaladult11[-splitIndex,]\n",
    "library(rpart)\n",
    "mytree <- rpart(income ~ ., data = train, method = \"class\")\n",
    "pred <- predict(mytree,test, type = \"class\")\n",
    "cm=confusionMatrix(data = pred, reference = test$income, positive = \">50K\")\n",
    "#Decision Tree\n",
    "cm$overall['Accuracy']\n",
    "cm$byClass['Balanced Accuracy']\n",
    "\n",
    "library(ranger)\n",
    "set.seed(2018)\n",
    "model = ranger(income ~., data = train)\n",
    "pred2  = predict(model, data = test)$predictions\n",
    "cm2=confusionMatrix(pred2, test$income, positive=\">50K\")\n",
    "#Random Forest\n",
    "cm2$overall['Accuracy']\n",
    "cm2$byClass['Balanced Accuracy']"
   ]
  },
  {
   "cell_type": "markdown",
   "metadata": {},
   "source": [
    "##### Accuracy and Balanced Accuracy are exactly the same for decision tree and random forest"
   ]
  },
  {
   "cell_type": "markdown",
   "metadata": {},
   "source": [
    "### 12.\tRedo 5 with a different encoding method. Rebuild the model and report the models' performances (the accuracy and balanced accuracy).  The first set of accuracies is for the decision tree and the next is for the random forests."
   ]
  },
  {
   "cell_type": "code",
   "execution_count": 13,
   "metadata": {},
   "outputs": [
    {
     "name": "stdout",
     "output_type": "stream",
     "text": [
      "'data.frame':\t32561 obs. of  15 variables:\n",
      " $ age          : int  39 50 38 53 28 37 49 52 31 42 ...\n",
      " $ workclass    : int  8 7 5 5 5 5 5 7 5 5 ...\n",
      " $ finalweight  : int  77516 83311 215646 234721 338409 284582 160187 209642 45781 159449 ...\n",
      " $ education    : int  3 3 5 1 3 4 1 5 4 3 ...\n",
      " $ eductationnum: int  13 13 9 7 13 14 5 9 14 13 ...\n",
      " $ maritalstatus: int  5 3 1 3 3 3 4 3 5 3 ...\n",
      " $ occupation   : int  2 2 4 4 1 2 1 2 1 2 ...\n",
      " $ relationship : int  2 1 2 1 6 6 2 1 2 1 ...\n",
      " $ race         : int  5 5 5 3 3 5 3 5 5 5 ...\n",
      " $ sex          : int  2 2 2 2 1 1 1 2 1 2 ...\n",
      " $ capitalgain  : int  2174 0 0 0 0 0 0 0 14084 5178 ...\n",
      " $ capitalloss  : int  0 0 0 0 0 0 0 0 0 0 ...\n",
      " $ hoursperweek : int  40 13 40 40 40 40 16 45 50 40 ...\n",
      " $ nativecountry: int  1 1 1 1 1 1 1 1 1 1 ...\n",
      " $ income       : Factor w/ 2 levels \"<=50K\",\">50K\": 1 1 1 1 1 1 1 2 2 2 ...\n",
      "'data.frame':\t32561 obs. of  15 variables:\n",
      " $ age          : num  0.0307 0.8371 -0.0426 1.057 -0.7758 ...\n",
      " $ workclass    : num  2.6243 1.7211 -0.0853 -0.0853 -0.0853 ...\n",
      " $ finalweight  : num  -1.064 -1.009 0.245 0.426 1.408 ...\n",
      " $ education    : num  -0.58 -0.58 0.773 -1.933 -0.58 ...\n",
      " $ eductationnum: num  1.13 1.13 -0.42 -1.2 1.13 ...\n",
      " $ maritalstatus: num  0.922 -0.406 -1.734 -0.406 -0.406 ...\n",
      " $ occupation   : num  -0.373 -0.373 1.092 1.092 -1.106 ...\n",
      " $ relationship : num  -0.278 -0.9 -0.278 -0.9 2.212 ...\n",
      " $ race         : num  0.394 0.394 0.394 -1.963 -1.963 ...\n",
      " $ sex          : num  0.703 0.703 0.703 0.703 -1.422 ...\n",
      " $ capitalgain  : num  0.148 -0.146 -0.146 -0.146 -0.146 ...\n",
      " $ capitalloss  : num  -0.217 -0.217 -0.217 -0.217 -0.217 ...\n",
      " $ hoursperweek : num  -0.0354 -2.2221 -0.0354 -0.0354 -0.0354 ...\n",
      " $ nativecountry: num  -0.199 -0.199 -0.199 -0.199 -0.199 ...\n",
      " $ income       : Factor w/ 2 levels \"<=50K\",\">50K\": 1 1 1 1 1 1 1 2 2 2 ...\n"
     ]
    },
    {
     "data": {
      "text/html": [
       "<strong>Accuracy:</strong> 0.844389844389844"
      ],
      "text/latex": [
       "\\textbf{Accuracy:} 0.844389844389844"
      ],
      "text/markdown": [
       "**Accuracy:** 0.844389844389844"
      ],
      "text/plain": [
       " Accuracy \n",
       "0.8443898 "
      ]
     },
     "metadata": {},
     "output_type": "display_data"
    },
    {
     "data": {
      "text/html": [
       "<strong>Balanced Accuracy:</strong> 0.743210350483235"
      ],
      "text/latex": [
       "\\textbf{Balanced Accuracy:} 0.743210350483235"
      ],
      "text/markdown": [
       "**Balanced Accuracy:** 0.743210350483235"
      ],
      "text/plain": [
       "Balanced Accuracy \n",
       "        0.7432104 "
      ]
     },
     "metadata": {},
     "output_type": "display_data"
    },
    {
     "data": {
      "text/html": [
       "<strong>Accuracy:</strong> 0.858108108108108"
      ],
      "text/latex": [
       "\\textbf{Accuracy:} 0.858108108108108"
      ],
      "text/markdown": [
       "**Accuracy:** 0.858108108108108"
      ],
      "text/plain": [
       " Accuracy \n",
       "0.8581081 "
      ]
     },
     "metadata": {},
     "output_type": "display_data"
    },
    {
     "data": {
      "text/html": [
       "<strong>Balanced Accuracy:</strong> 0.770825765581313"
      ],
      "text/latex": [
       "\\textbf{Balanced Accuracy:} 0.770825765581313"
      ],
      "text/markdown": [
       "**Balanced Accuracy:** 0.770825765581313"
      ],
      "text/plain": [
       "Balanced Accuracy \n",
       "        0.7708258 "
      ]
     },
     "metadata": {},
     "output_type": "display_data"
    }
   ],
   "source": [
    "adultfix12 <- adultfix\n",
    "for(i in 1:ncol(adultfix12))\n",
    "{if(is.numeric(adultfix12[,i]) ==FALSE )\n",
    "{adultfix12[,i] = as.integer(adultfix12[,i])}\n",
    "}\n",
    "adultfix12$income <- adultfix$income\n",
    "str(adultfix12)\n",
    "\n",
    "ScaleandCenter <- preProcess(adultfix12, method= c(\"center\", \"scale\"))\n",
    "finaladult12 <- predict(ScaleandCenter, newdata = adultfix12)\n",
    "str(finaladult12)\n",
    "\n",
    " library(caret)\n",
    "set.seed(2018)\n",
    "splitIndex <- createDataPartition(finaladult12$income, p = .7 , list = FALSE, times = 1)\n",
    "train <- finaladult12[ splitIndex,]\n",
    "test <- finaladult12[-splitIndex,]\n",
    "library(rpart)\n",
    "mytree <- rpart(income ~ ., data = train, method = \"class\")\n",
    "pred <- predict(mytree,test, type = \"class\")\n",
    "cm=confusionMatrix(data = pred, reference = test$income, positive = \">50K\")\n",
    "#Decision Tree\n",
    "cm$overall['Accuracy']\n",
    "cm$byClass['Balanced Accuracy']\n",
    "\n",
    "library(ranger)\n",
    "set.seed(2018)\n",
    "model = ranger(income ~., data = train)\n",
    "pred2  = predict(model, data = test)$predictions\n",
    "cm2=confusionMatrix(pred2, test$income, positive=\">50K\")\n",
    "#Random Forest\n",
    "cm2$overall['Accuracy']\n",
    "cm2$byClass['Balanced Accuracy']"
   ]
  },
  {
   "cell_type": "markdown",
   "metadata": {},
   "source": [
    "##### Accuracy is the same for decision tree, but the balanced accuracy is higher in this case.  Both Accuracy and Balanced Accuracy are lower for the random forest in this case."
   ]
  },
  {
   "cell_type": "markdown",
   "metadata": {},
   "source": [
    "### 13.\tSkip 4 to rebuild the models.  Do you find any improvement in the models' performances?   The first set of accuracies is for the decision tree and the next is for the random forests."
   ]
  },
  {
   "cell_type": "code",
   "execution_count": 14,
   "metadata": {},
   "outputs": [
    {
     "data": {
      "text/html": [
       "0"
      ],
      "text/latex": [
       "0"
      ],
      "text/markdown": [
       "0"
      ],
      "text/plain": [
       "[1] 0"
      ]
     },
     "metadata": {},
     "output_type": "display_data"
    },
    {
     "name": "stderr",
     "output_type": "stream",
     "text": [
      "Warning message in model.frame.default(Terms, newdata, na.action = na.action, xlev = object$lvls):\n",
      "\"variable 'income' is not a factor\""
     ]
    },
    {
     "name": "stdout",
     "output_type": "stream",
     "text": [
      "'data.frame':\t32561 obs. of  109 variables:\n",
      " $ age                                     : num  39 50 38 53 28 37 49 52 31 42 ...\n",
      " $ workclass..                             : num  0 0 0 0 0 0 0 0 0 0 ...\n",
      " $ workclass.Federal.gov                   : num  0 0 0 0 0 0 0 0 0 0 ...\n",
      " $ workclass.Local.gov                     : num  0 0 0 0 0 0 0 0 0 0 ...\n",
      " $ workclass.Never.worked                  : num  0 0 0 0 0 0 0 0 0 0 ...\n",
      " $ workclass.Private                       : num  0 0 1 1 1 1 1 0 1 1 ...\n",
      " $ workclass.Self.emp.inc                  : num  0 0 0 0 0 0 0 0 0 0 ...\n",
      " $ workclass.Self.emp.not.inc              : num  0 1 0 0 0 0 0 1 0 0 ...\n",
      " $ workclass.State.gov                     : num  1 0 0 0 0 0 0 0 0 0 ...\n",
      " $ workclass.Without.pay                   : num  0 0 0 0 0 0 0 0 0 0 ...\n",
      " $ finalweight                             : num  77516 83311 215646 234721 338409 ...\n",
      " $ education.10th                          : num  0 0 0 0 0 0 0 0 0 0 ...\n",
      " $ education.11th                          : num  0 0 0 1 0 0 0 0 0 0 ...\n",
      " $ education.12th                          : num  0 0 0 0 0 0 0 0 0 0 ...\n",
      " $ education.1st.4th                       : num  0 0 0 0 0 0 0 0 0 0 ...\n",
      " $ education.5th.6th                       : num  0 0 0 0 0 0 0 0 0 0 ...\n",
      " $ education.7th.8th                       : num  0 0 0 0 0 0 0 0 0 0 ...\n",
      " $ education.9th                           : num  0 0 0 0 0 0 1 0 0 0 ...\n",
      " $ education.Assoc.acdm                    : num  0 0 0 0 0 0 0 0 0 0 ...\n",
      " $ education.Assoc.voc                     : num  0 0 0 0 0 0 0 0 0 0 ...\n",
      " $ education.Bachelors                     : num  1 1 0 0 1 0 0 0 0 1 ...\n",
      " $ education.Doctorate                     : num  0 0 0 0 0 0 0 0 0 0 ...\n",
      " $ education.HS.grad                       : num  0 0 1 0 0 0 0 1 0 0 ...\n",
      " $ education.Masters                       : num  0 0 0 0 0 1 0 0 1 0 ...\n",
      " $ education.Preschool                     : num  0 0 0 0 0 0 0 0 0 0 ...\n",
      " $ education.Prof.school                   : num  0 0 0 0 0 0 0 0 0 0 ...\n",
      " $ education.Some.college                  : num  0 0 0 0 0 0 0 0 0 0 ...\n",
      " $ eductationnum                           : num  13 13 9 7 13 14 5 9 14 13 ...\n",
      " $ maritalstatus.Divorced                  : num  0 0 1 0 0 0 0 0 0 0 ...\n",
      " $ maritalstatus.Married.AF.spouse         : num  0 0 0 0 0 0 0 0 0 0 ...\n",
      " $ maritalstatus.Married.civ.spouse        : num  0 1 0 1 1 1 0 1 0 1 ...\n",
      " $ maritalstatus.Married.spouse.absent     : num  0 0 0 0 0 0 1 0 0 0 ...\n",
      " $ maritalstatus.Never.married             : num  1 0 0 0 0 0 0 0 1 0 ...\n",
      " $ maritalstatus.Separated                 : num  0 0 0 0 0 0 0 0 0 0 ...\n",
      " $ maritalstatus.Widowed                   : num  0 0 0 0 0 0 0 0 0 0 ...\n",
      " $ occupation..                            : num  0 0 0 0 0 0 0 0 0 0 ...\n",
      " $ occupation.Adm.clerical                 : num  1 0 0 0 0 0 0 0 0 0 ...\n",
      " $ occupation.Armed.Forces                 : num  0 0 0 0 0 0 0 0 0 0 ...\n",
      " $ occupation.Craft.repair                 : num  0 0 0 0 0 0 0 0 0 0 ...\n",
      " $ occupation.Exec.managerial              : num  0 1 0 0 0 1 0 1 0 1 ...\n",
      " $ occupation.Farming.fishing              : num  0 0 0 0 0 0 0 0 0 0 ...\n",
      " $ occupation.Handlers.cleaners            : num  0 0 1 1 0 0 0 0 0 0 ...\n",
      " $ occupation.Machine.op.inspct            : num  0 0 0 0 0 0 0 0 0 0 ...\n",
      " $ occupation.Other.service                : num  0 0 0 0 0 0 1 0 0 0 ...\n",
      " $ occupation.Priv.house.serv              : num  0 0 0 0 0 0 0 0 0 0 ...\n",
      " $ occupation.Prof.specialty               : num  0 0 0 0 1 0 0 0 1 0 ...\n",
      " $ occupation.Protective.serv              : num  0 0 0 0 0 0 0 0 0 0 ...\n",
      " $ occupation.Sales                        : num  0 0 0 0 0 0 0 0 0 0 ...\n",
      " $ occupation.Tech.support                 : num  0 0 0 0 0 0 0 0 0 0 ...\n",
      " $ occupation.Transport.moving             : num  0 0 0 0 0 0 0 0 0 0 ...\n",
      " $ relationship.Husband                    : num  0 1 0 1 0 0 0 1 0 1 ...\n",
      " $ relationship.Not.in.family              : num  1 0 1 0 0 0 1 0 1 0 ...\n",
      " $ relationship.Other.relative             : num  0 0 0 0 0 0 0 0 0 0 ...\n",
      " $ relationship.Own.child                  : num  0 0 0 0 0 0 0 0 0 0 ...\n",
      " $ relationship.Unmarried                  : num  0 0 0 0 0 0 0 0 0 0 ...\n",
      " $ relationship.Wife                       : num  0 0 0 0 1 1 0 0 0 0 ...\n",
      " $ race.Amer.Indian.Eskimo                 : num  0 0 0 0 0 0 0 0 0 0 ...\n",
      " $ race.Asian.Pac.Islander                 : num  0 0 0 0 0 0 0 0 0 0 ...\n",
      " $ race.Black                              : num  0 0 0 1 1 0 1 0 0 0 ...\n",
      " $ race.Other                              : num  0 0 0 0 0 0 0 0 0 0 ...\n",
      " $ race.White                              : num  1 1 1 0 0 1 0 1 1 1 ...\n",
      " $ sex.Female                              : num  0 0 0 0 1 1 1 0 1 0 ...\n",
      " $ sex.Male                                : num  1 1 1 1 0 0 0 1 0 1 ...\n",
      " $ capitalgain                             : num  2174 0 0 0 0 ...\n",
      " $ capitalloss                             : num  0 0 0 0 0 0 0 0 0 0 ...\n",
      " $ hoursperweek                            : num  40 13 40 40 40 40 16 45 50 40 ...\n",
      " $ nativecountry..                         : num  0 0 0 0 0 0 0 0 0 0 ...\n",
      " $ nativecountry.Cambodia                  : num  0 0 0 0 0 0 0 0 0 0 ...\n",
      " $ nativecountry.Canada                    : num  0 0 0 0 0 0 0 0 0 0 ...\n",
      " $ nativecountry.China                     : num  0 0 0 0 0 0 0 0 0 0 ...\n",
      " $ nativecountry.Columbia                  : num  0 0 0 0 0 0 0 0 0 0 ...\n",
      " $ nativecountry.Cuba                      : num  0 0 0 0 1 0 0 0 0 0 ...\n",
      " $ nativecountry.Dominican.Republic        : num  0 0 0 0 0 0 0 0 0 0 ...\n",
      " $ nativecountry.Ecuador                   : num  0 0 0 0 0 0 0 0 0 0 ...\n",
      " $ nativecountry.El.Salvador               : num  0 0 0 0 0 0 0 0 0 0 ...\n",
      " $ nativecountry.England                   : num  0 0 0 0 0 0 0 0 0 0 ...\n",
      " $ nativecountry.France                    : num  0 0 0 0 0 0 0 0 0 0 ...\n",
      " $ nativecountry.Germany                   : num  0 0 0 0 0 0 0 0 0 0 ...\n",
      " $ nativecountry.Greece                    : num  0 0 0 0 0 0 0 0 0 0 ...\n",
      " $ nativecountry.Guatemala                 : num  0 0 0 0 0 0 0 0 0 0 ...\n",
      " $ nativecountry.Haiti                     : num  0 0 0 0 0 0 0 0 0 0 ...\n",
      " $ nativecountry.Holand.Netherlands        : num  0 0 0 0 0 0 0 0 0 0 ...\n",
      " $ nativecountry.Honduras                  : num  0 0 0 0 0 0 0 0 0 0 ...\n",
      " $ nativecountry.Hong                      : num  0 0 0 0 0 0 0 0 0 0 ...\n",
      " $ nativecountry.Hungary                   : num  0 0 0 0 0 0 0 0 0 0 ...\n",
      " $ nativecountry.India                     : num  0 0 0 0 0 0 0 0 0 0 ...\n",
      " $ nativecountry.Iran                      : num  0 0 0 0 0 0 0 0 0 0 ...\n",
      " $ nativecountry.Ireland                   : num  0 0 0 0 0 0 0 0 0 0 ...\n",
      " $ nativecountry.Italy                     : num  0 0 0 0 0 0 0 0 0 0 ...\n",
      " $ nativecountry.Jamaica                   : num  0 0 0 0 0 0 1 0 0 0 ...\n",
      " $ nativecountry.Japan                     : num  0 0 0 0 0 0 0 0 0 0 ...\n",
      " $ nativecountry.Laos                      : num  0 0 0 0 0 0 0 0 0 0 ...\n",
      " $ nativecountry.Mexico                    : num  0 0 0 0 0 0 0 0 0 0 ...\n",
      " $ nativecountry.Nicaragua                 : num  0 0 0 0 0 0 0 0 0 0 ...\n",
      " $ nativecountry.Outlying.US.Guam.USVI.etc.: num  0 0 0 0 0 0 0 0 0 0 ...\n",
      " $ nativecountry.Peru                      : num  0 0 0 0 0 0 0 0 0 0 ...\n",
      " $ nativecountry.Philippines               : num  0 0 0 0 0 0 0 0 0 0 ...\n",
      " $ nativecountry.Poland                    : num  0 0 0 0 0 0 0 0 0 0 ...\n",
      " $ nativecountry.Portugal                  : num  0 0 0 0 0 0 0 0 0 0 ...\n",
      "  [list output truncated]\n"
     ]
    },
    {
     "name": "stderr",
     "output_type": "stream",
     "text": [
      "Warning message in preProcess.default(adultfixe, method = c(\"center\", \"scale\")):\n",
      "\"These variables have zero variances: workclass.., occupation.., nativecountry..\""
     ]
    },
    {
     "name": "stdout",
     "output_type": "stream",
     "text": [
      "'data.frame':\t32561 obs. of  109 variables:\n",
      " $ age                                     : num  0.0307 0.8371 -0.0426 1.057 -0.7758 ...\n",
      " $ workclass..                             : num  0 0 0 0 0 0 0 0 0 0 ...\n",
      " $ workclass.Federal.gov                   : num  -0.174 -0.174 -0.174 -0.174 -0.174 ...\n",
      " $ workclass.Local.gov                     : num  -0.262 -0.262 -0.262 -0.262 -0.262 ...\n",
      " $ workclass.Never.worked                  : num  -0.0147 -0.0147 -0.0147 -0.0147 -0.0147 ...\n",
      " $ workclass.Private                       : num  -1.748 -1.748 0.572 0.572 0.572 ...\n",
      " $ workclass.Self.emp.inc                  : num  -0.188 -0.188 -0.188 -0.188 -0.188 ...\n",
      " $ workclass.Self.emp.not.inc              : num  -0.291 3.437 -0.291 -0.291 -0.291 ...\n",
      " $ workclass.State.gov                     : num  4.908 -0.204 -0.204 -0.204 -0.204 ...\n",
      " $ workclass.Without.pay                   : num  -0.0207 -0.0207 -0.0207 -0.0207 -0.0207 ...\n",
      " $ finalweight                             : num  -1.064 -1.009 0.245 0.426 1.408 ...\n",
      " $ education.10th                          : num  -0.172 -0.172 -0.172 -0.172 -0.172 ...\n",
      " $ education.11th                          : num  -0.193 -0.193 -0.193 5.168 -0.193 ...\n",
      " $ education.12th                          : num  -0.116 -0.116 -0.116 -0.116 -0.116 ...\n",
      " $ education.1st.4th                       : num  -0.072 -0.072 -0.072 -0.072 -0.072 ...\n",
      " $ education.5th.6th                       : num  -0.102 -0.102 -0.102 -0.102 -0.102 ...\n",
      " $ education.7th.8th                       : num  -0.142 -0.142 -0.142 -0.142 -0.142 ...\n",
      " $ education.9th                           : num  -0.127 -0.127 -0.127 -0.127 -0.127 ...\n",
      " $ education.Assoc.acdm                    : num  -0.184 -0.184 -0.184 -0.184 -0.184 ...\n",
      " $ education.Assoc.voc                     : num  -0.211 -0.211 -0.211 -0.211 -0.211 ...\n",
      " $ education.Bachelors                     : num  2.254 2.254 -0.444 -0.444 2.254 ...\n",
      " $ education.Doctorate                     : num  -0.113 -0.113 -0.113 -0.113 -0.113 ...\n",
      " $ education.HS.grad                       : num  -0.69 -0.69 1.45 -0.69 -0.69 ...\n",
      " $ education.Masters                       : num  -0.236 -0.236 -0.236 -0.236 -0.236 ...\n",
      " $ education.Preschool                     : num  -0.0396 -0.0396 -0.0396 -0.0396 -0.0396 ...\n",
      " $ education.Prof.school                   : num  -0.134 -0.134 -0.134 -0.134 -0.134 ...\n",
      " $ education.Some.college                  : num  -0.537 -0.537 -0.537 -0.537 -0.537 ...\n",
      " $ eductationnum                           : num  1.13 1.13 -0.42 -1.2 1.13 ...\n",
      " $ maritalstatus.Divorced                  : num  -0.398 -0.398 2.516 -0.398 -0.398 ...\n",
      " $ maritalstatus.Married.AF.spouse         : num  -0.0266 -0.0266 -0.0266 -0.0266 -0.0266 ...\n",
      " $ maritalstatus.Married.civ.spouse        : num  -0.923 1.084 -0.923 1.084 1.084 ...\n",
      " $ maritalstatus.Married.spouse.absent     : num  -0.114 -0.114 -0.114 -0.114 -0.114 ...\n",
      " $ maritalstatus.Never.married             : num  1.431 -0.699 -0.699 -0.699 -0.699 ...\n",
      " $ maritalstatus.Separated                 : num  -0.18 -0.18 -0.18 -0.18 -0.18 ...\n",
      " $ maritalstatus.Widowed                   : num  -0.177 -0.177 -0.177 -0.177 -0.177 ...\n",
      " $ occupation..                            : num  0 0 0 0 0 0 0 0 0 0 ...\n",
      " $ occupation.Adm.clerical                 : num  2.763 -0.362 -0.362 -0.362 -0.362 ...\n",
      " $ occupation.Armed.Forces                 : num  -0.0166 -0.0166 -0.0166 -0.0166 -0.0166 ...\n",
      " $ occupation.Craft.repair                 : num  -0.379 -0.379 -0.379 -0.379 -0.379 ...\n",
      " $ occupation.Exec.managerial              : num  -0.378 2.647 -0.378 -0.378 -0.378 ...\n",
      " $ occupation.Farming.fishing              : num  -0.177 -0.177 -0.177 -0.177 -0.177 ...\n",
      " $ occupation.Handlers.cleaners            : num  -0.21 -0.21 4.77 4.77 -0.21 ...\n",
      " $ occupation.Machine.op.inspct            : num  -0.256 -0.256 -0.256 -0.256 -0.256 ...\n",
      " $ occupation.Other.service                : num  -0.336 -0.336 -0.336 -0.336 -0.336 ...\n",
      " $ occupation.Priv.house.serv              : num  -0.0678 -0.0678 -0.0678 -0.0678 -0.0678 ...\n",
      " $ occupation.Prof.specialty               : num  -0.474 -0.474 -0.474 -0.474 2.108 ...\n",
      " $ occupation.Protective.serv              : num  -0.143 -0.143 -0.143 -0.143 -0.143 ...\n",
      " $ occupation.Sales                        : num  -0.355 -0.355 -0.355 -0.355 -0.355 ...\n",
      " $ occupation.Tech.support                 : num  -0.171 -0.171 -0.171 -0.171 -0.171 ...\n",
      " $ occupation.Transport.moving             : num  -0.227 -0.227 -0.227 -0.227 -0.227 ...\n",
      " $ relationship.Husband                    : num  -0.825 1.212 -0.825 1.212 -0.825 ...\n",
      " $ relationship.Not.in.family              : num  1.709 -0.585 1.709 -0.585 -0.585 ...\n",
      " $ relationship.Other.relative             : num  -0.176 -0.176 -0.176 -0.176 -0.176 ...\n",
      " $ relationship.Own.child                  : num  -0.429 -0.429 -0.429 -0.429 -0.429 ...\n",
      " $ relationship.Unmarried                  : num  -0.344 -0.344 -0.344 -0.344 -0.344 ...\n",
      " $ relationship.Wife                       : num  -0.225 -0.225 -0.225 -0.225 4.446 ...\n",
      " $ race.Amer.Indian.Eskimo                 : num  -0.0982 -0.0982 -0.0982 -0.0982 -0.0982 ...\n",
      " $ race.Asian.Pac.Islander                 : num  -0.182 -0.182 -0.182 -0.182 -0.182 ...\n",
      " $ race.Black                              : num  -0.326 -0.326 -0.326 3.07 3.07 ...\n",
      " $ race.Other                              : num  -0.0916 -0.0916 -0.0916 -0.0916 -0.0916 ...\n",
      " $ race.White                              : num  0.413 0.413 0.413 -2.421 -2.421 ...\n",
      " $ sex.Female                              : num  -0.703 -0.703 -0.703 -0.703 1.422 ...\n",
      " $ sex.Male                                : num  0.703 0.703 0.703 0.703 -1.422 ...\n",
      " $ capitalgain                             : num  0.148 -0.146 -0.146 -0.146 -0.146 ...\n",
      " $ capitalloss                             : num  -0.217 -0.217 -0.217 -0.217 -0.217 ...\n",
      " $ hoursperweek                            : num  -0.0354 -2.2221 -0.0354 -0.0354 -0.0354 ...\n",
      " $ nativecountry..                         : num  0 0 0 0 0 0 0 0 0 0 ...\n",
      " $ nativecountry.Cambodia                  : num  -0.0242 -0.0242 -0.0242 -0.0242 -0.0242 ...\n",
      " $ nativecountry.Canada                    : num  -0.0611 -0.0611 -0.0611 -0.0611 -0.0611 ...\n",
      " $ nativecountry.China                     : num  -0.048 -0.048 -0.048 -0.048 -0.048 ...\n",
      " $ nativecountry.Columbia                  : num  -0.0426 -0.0426 -0.0426 -0.0426 -0.0426 ...\n",
      " $ nativecountry.Cuba                      : num  -0.0541 -0.0541 -0.0541 -0.0541 18.4861 ...\n",
      " $ nativecountry.Dominican.Republic        : num  -0.0464 -0.0464 -0.0464 -0.0464 -0.0464 ...\n",
      " $ nativecountry.Ecuador                   : num  -0.0293 -0.0293 -0.0293 -0.0293 -0.0293 ...\n",
      " $ nativecountry.El.Salvador               : num  -0.0571 -0.0571 -0.0571 -0.0571 -0.0571 ...\n",
      " $ nativecountry.England                   : num  -0.0526 -0.0526 -0.0526 -0.0526 -0.0526 ...\n",
      " $ nativecountry.France                    : num  -0.0299 -0.0299 -0.0299 -0.0299 -0.0299 ...\n",
      " $ nativecountry.Germany                   : num  -0.065 -0.065 -0.065 -0.065 -0.065 ...\n",
      " $ nativecountry.Greece                    : num  -0.0299 -0.0299 -0.0299 -0.0299 -0.0299 ...\n",
      " $ nativecountry.Guatemala                 : num  -0.0444 -0.0444 -0.0444 -0.0444 -0.0444 ...\n",
      " $ nativecountry.Haiti                     : num  -0.0368 -0.0368 -0.0368 -0.0368 -0.0368 ...\n",
      " $ nativecountry.Holand.Netherlands        : num  -0.00554 -0.00554 -0.00554 -0.00554 -0.00554 ...\n",
      " $ nativecountry.Honduras                  : num  -0.02 -0.02 -0.02 -0.02 -0.02 ...\n",
      " $ nativecountry.Hong                      : num  -0.0248 -0.0248 -0.0248 -0.0248 -0.0248 ...\n",
      " $ nativecountry.Hungary                   : num  -0.02 -0.02 -0.02 -0.02 -0.02 ...\n",
      " $ nativecountry.India                     : num  -0.0555 -0.0555 -0.0555 -0.0555 -0.0555 ...\n",
      " $ nativecountry.Iran                      : num  -0.0364 -0.0364 -0.0364 -0.0364 -0.0364 ...\n",
      " $ nativecountry.Ireland                   : num  -0.0272 -0.0272 -0.0272 -0.0272 -0.0272 ...\n",
      " $ nativecountry.Italy                     : num  -0.0474 -0.0474 -0.0474 -0.0474 -0.0474 ...\n",
      " $ nativecountry.Jamaica                   : num  -0.0499 -0.0499 -0.0499 -0.0499 -0.0499 ...\n",
      " $ nativecountry.Japan                     : num  -0.0437 -0.0437 -0.0437 -0.0437 -0.0437 ...\n",
      " $ nativecountry.Laos                      : num  -0.0235 -0.0235 -0.0235 -0.0235 -0.0235 ...\n",
      " $ nativecountry.Mexico                    : num  -0.142 -0.142 -0.142 -0.142 -0.142 ...\n",
      " $ nativecountry.Nicaragua                 : num  -0.0323 -0.0323 -0.0323 -0.0323 -0.0323 ...\n",
      " $ nativecountry.Outlying.US.Guam.USVI.etc.: num  -0.0207 -0.0207 -0.0207 -0.0207 -0.0207 ...\n",
      " $ nativecountry.Peru                      : num  -0.0309 -0.0309 -0.0309 -0.0309 -0.0309 ...\n",
      " $ nativecountry.Philippines               : num  -0.0782 -0.0782 -0.0782 -0.0782 -0.0782 ...\n",
      " $ nativecountry.Poland                    : num  -0.043 -0.043 -0.043 -0.043 -0.043 ...\n",
      " $ nativecountry.Portugal                  : num  -0.0337 -0.0337 -0.0337 -0.0337 -0.0337 ...\n",
      "  [list output truncated]\n"
     ]
    },
    {
     "data": {
      "text/html": [
       "<strong>Accuracy:</strong> 0.844389844389844"
      ],
      "text/latex": [
       "\\textbf{Accuracy:} 0.844389844389844"
      ],
      "text/markdown": [
       "**Accuracy:** 0.844389844389844"
      ],
      "text/plain": [
       " Accuracy \n",
       "0.8443898 "
      ]
     },
     "metadata": {},
     "output_type": "display_data"
    },
    {
     "data": {
      "text/html": [
       "<strong>Balanced Accuracy:</strong> 0.740742575347291"
      ],
      "text/latex": [
       "\\textbf{Balanced Accuracy:} 0.740742575347291"
      ],
      "text/markdown": [
       "**Balanced Accuracy:** 0.740742575347291"
      ],
      "text/plain": [
       "Balanced Accuracy \n",
       "        0.7407426 "
      ]
     },
     "metadata": {},
     "output_type": "display_data"
    },
    {
     "data": {
      "text/html": [
       "<strong>Accuracy:</strong> 0.859848484848485"
      ],
      "text/latex": [
       "\\textbf{Accuracy:} 0.859848484848485"
      ],
      "text/markdown": [
       "**Accuracy:** 0.859848484848485"
      ],
      "text/plain": [
       " Accuracy \n",
       "0.8598485 "
      ]
     },
     "metadata": {},
     "output_type": "display_data"
    },
    {
     "data": {
      "text/html": [
       "<strong>Balanced Accuracy:</strong> 0.777633302511943"
      ],
      "text/latex": [
       "\\textbf{Balanced Accuracy:} 0.777633302511943"
      ],
      "text/markdown": [
       "**Balanced Accuracy:** 0.777633302511943"
      ],
      "text/plain": [
       "Balanced Accuracy \n",
       "        0.7776333 "
      ]
     },
     "metadata": {},
     "output_type": "display_data"
    }
   ],
   "source": [
    "adults <- read.csv(\"adult.csv\", header = FALSE)\n",
    "names(adults)[1] = \"age\"\n",
    "names(adults)[2] = \"workclass\"\n",
    "names(adults)[3] = \"finalweight\"\n",
    "names(adults)[4] = \"education\"\n",
    "names(adults)[5] = \"eductationnum\"\n",
    "names(adults)[6] = \"maritalstatus\"\n",
    "names(adults)[7] = \"occupation\"\n",
    "names(adults)[8] = \"relationship\"\n",
    "names(adults)[9] = \"race\"\n",
    "names(adults)[10] = \"sex\"\n",
    "names(adults)[11] = \"capitalgain\"\n",
    "names(adults)[12] = \"capitalloss\"\n",
    "names(adults)[13] = \"hoursperweek\"\n",
    "names(adults)[14] = \"nativecountry\"\n",
    "names(adults)[15] = \"income\"\n",
    "\n",
    "adults[adults == \"?\"] <- NA\n",
    "\n",
    "for(i in 1:ncol(adults))\n",
    "{\n",
    "if(is.numeric(adults[,i])==FALSE)\n",
    "{adults[,i][is.na(adults[,i])] <-  calculate_mode(adults[,i])}\n",
    "}\n",
    "sum(is.na(adults))\n",
    "\n",
    "preProcess_missingdata_model <- preProcess(adults, method='medianImpute')\n",
    "adultfix <- predict(preProcess_missingdata_model, newdata = adults)\n",
    "\n",
    "dummies_model <- dummyVars(income ~ ., data=adultfix)\n",
    "adultfix_mat <- predict(dummies_model, newdata = adultfix)\n",
    "adultfixe <- data.frame(adultfix_mat)\n",
    "adultfixe$income <- adultfix$income\n",
    "str(adultfixe)\n",
    "\n",
    "ScaleandCenter <- preProcess(adultfixe, method= c(\"center\", \"scale\"))\n",
    "finaladult <- predict(ScaleandCenter, newdata = adultfixe)\n",
    "str(finaladult)\n",
    "\n",
    " library(caret)\n",
    "set.seed(2018)\n",
    "splitIndex <- createDataPartition(finaladult$income, p = .7 , list = FALSE, times = 1)\n",
    "train <- finaladult[ splitIndex,]\n",
    "test <- finaladult[-splitIndex,]\n",
    "library(rpart)\n",
    "mytree <- rpart(income ~ ., data = train, method = \"class\")\n",
    "pred <- predict(mytree,test, type = \"class\")\n",
    "cm=confusionMatrix(data = pred, reference = test$income, positive = \">50K\")\n",
    "#Decision Tree\n",
    "cm$overall['Accuracy']\n",
    "cm$byClass['Balanced Accuracy']\n",
    "\n",
    "library(ranger)\n",
    "set.seed(2018)\n",
    "model = ranger(income ~., data = train)\n",
    "pred2  = predict(model, data = test)$predictions\n",
    "cm2=confusionMatrix(pred2, test$income, positive=\">50K\")\n",
    "#Random Forest\n",
    "cm2$overall['Accuracy']\n",
    "cm2$byClass['Balanced Accuracy']"
   ]
  },
  {
   "cell_type": "markdown",
   "metadata": {},
   "source": [
    "##### Without step 4, the decision tree has the same accuracy and balanced accuracy, however, the random forest has a higher accuracy and balanced accuracy."
   ]
  }
 ],
 "metadata": {
  "kernelspec": {
   "display_name": "R",
   "language": "R",
   "name": "ir"
  },
  "language_info": {
   "codemirror_mode": "r",
   "file_extension": ".r",
   "mimetype": "text/x-r-source",
   "name": "R",
   "pygments_lexer": "r",
   "version": "3.5.1"
  }
 },
 "nbformat": 4,
 "nbformat_minor": 2
}
